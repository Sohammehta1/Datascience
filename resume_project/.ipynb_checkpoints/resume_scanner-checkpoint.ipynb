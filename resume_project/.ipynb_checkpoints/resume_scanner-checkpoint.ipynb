{
 "cells": [
  {
   "cell_type": "code",
   "execution_count": 45,
   "metadata": {},
   "outputs": [],
   "source": [
    "import pandas as pd\n",
    "import re\n",
    "import string\n",
    "import seaborn as sns\n",
    "import matplotlib.pyplot as plt\n",
    "import plotly.express as px\n",
    "import random\n",
    "import time"
   ]
  },
  {
   "cell_type": "code",
   "execution_count": 46,
   "metadata": {},
   "outputs": [],
   "source": [
    "df = pd.read_csv('UpdatedResumeDataSet.csv')"
   ]
  },
  {
   "cell_type": "code",
   "execution_count": 47,
   "metadata": {},
   "outputs": [
    {
     "data": {
      "text/html": [
       "<div>\n",
       "<style scoped>\n",
       "    .dataframe tbody tr th:only-of-type {\n",
       "        vertical-align: middle;\n",
       "    }\n",
       "\n",
       "    .dataframe tbody tr th {\n",
       "        vertical-align: top;\n",
       "    }\n",
       "\n",
       "    .dataframe thead th {\n",
       "        text-align: right;\n",
       "    }\n",
       "</style>\n",
       "<table border=\"1\" class=\"dataframe\">\n",
       "  <thead>\n",
       "    <tr style=\"text-align: right;\">\n",
       "      <th></th>\n",
       "      <th>Category</th>\n",
       "      <th>Resume</th>\n",
       "    </tr>\n",
       "  </thead>\n",
       "  <tbody>\n",
       "    <tr>\n",
       "      <th>30</th>\n",
       "      <td>Data Science</td>\n",
       "      <td>Skills * Programming Languages: Python (pandas...</td>\n",
       "    </tr>\n",
       "    <tr>\n",
       "      <th>859</th>\n",
       "      <td>Blockchain</td>\n",
       "      <td>KEY SKILLS: Programing languages: C, C++, Pyth...</td>\n",
       "    </tr>\n",
       "    <tr>\n",
       "      <th>751</th>\n",
       "      <td>Hadoop</td>\n",
       "      <td>â¢ Operating systems:-Linux- Ubuntu, Windows ...</td>\n",
       "    </tr>\n",
       "    <tr>\n",
       "      <th>506</th>\n",
       "      <td>Electrical Engineering</td>\n",
       "      <td>Skills: 1) MC Office 2) AutoCAD 2016 3) Introd...</td>\n",
       "    </tr>\n",
       "  </tbody>\n",
       "</table>\n",
       "</div>"
      ],
      "text/plain": [
       "                   Category                                             Resume\n",
       "30             Data Science  Skills * Programming Languages: Python (pandas...\n",
       "859              Blockchain  KEY SKILLS: Programing languages: C, C++, Pyth...\n",
       "751                  Hadoop  â¢ Operating systems:-Linux- Ubuntu, Windows ...\n",
       "506  Electrical Engineering  Skills: 1) MC Office 2) AutoCAD 2016 3) Introd..."
      ]
     },
     "execution_count": 47,
     "metadata": {},
     "output_type": "execute_result"
    }
   ],
   "source": [
    "df.sample(4)"
   ]
  },
  {
   "cell_type": "code",
   "execution_count": 48,
   "metadata": {},
   "outputs": [
    {
     "data": {
      "text/plain": [
       "(962, 2)"
      ]
     },
     "execution_count": 48,
     "metadata": {},
     "output_type": "execute_result"
    }
   ],
   "source": [
    "df.shape"
   ]
  },
  {
   "cell_type": "code",
   "execution_count": 49,
   "metadata": {},
   "outputs": [
    {
     "data": {
      "text/plain": [
       "Category\n",
       "Java Developer               84\n",
       "Testing                      70\n",
       "DevOps Engineer              55\n",
       "Python Developer             48\n",
       "Web Designing                45\n",
       "HR                           44\n",
       "Hadoop                       42\n",
       "Blockchain                   40\n",
       "ETL Developer                40\n",
       "Operations Manager           40\n",
       "Data Science                 40\n",
       "Sales                        40\n",
       "Mechanical Engineer          40\n",
       "Arts                         36\n",
       "Database                     33\n",
       "Electrical Engineering       30\n",
       "Health and fitness           30\n",
       "PMO                          30\n",
       "Business Analyst             28\n",
       "DotNet Developer             28\n",
       "Automation Testing           26\n",
       "Network Security Engineer    25\n",
       "SAP Developer                24\n",
       "Civil Engineer               24\n",
       "Advocate                     20\n",
       "Name: count, dtype: int64"
      ]
     },
     "execution_count": 49,
     "metadata": {},
     "output_type": "execute_result"
    }
   ],
   "source": [
    "df[\"Category\"].value_counts()"
   ]
  },
  {
   "cell_type": "code",
   "execution_count": 50,
   "metadata": {},
   "outputs": [
    {
     "name": "stderr",
     "output_type": "stream",
     "text": [
      "C:\\Users\\SOHAM\\AppData\\Local\\Temp\\ipykernel_8000\\3838543356.py:6: FutureWarning:\n",
      "\n",
      "\n",
      "\n",
      "Passing `palette` without assigning `hue` is deprecated and will be removed in v0.14.0. Assign the `y` variable to `hue` and set `legend=False` for the same effect.\n",
      "\n",
      "\n"
     ]
    },
    {
     "data": {
      "image/png": "[encoded data removed]",
      "text/plain": [
       "<Figure size 1500x500 with 1 Axes>"
      ]
     },
     "metadata": {},
     "output_type": "display_data"
    }
   ],
   "source": [
    "# Set the size of the plot\n",
    "plt.figure(figsize=(15,5))\n",
    "\n",
    "# Count the number of resumes in each category and plot a bar chart\n",
    "\n",
    "bar_plot_values = sns.barplot(x= df[\"Category\"].value_counts(), y = df[\"Category\"].value_counts().index, palette=\"rocket\")\n",
    "\n",
    "# Display the plot\n",
    "plt.show()"
   ]
  },
  {
   "cell_type": "code",
   "execution_count": 51,
   "metadata": {},
   "outputs": [
    {
     "data": {
      "text/html": [
       "<div>\n",
       "<style scoped>\n",
       "    .dataframe tbody tr th:only-of-type {\n",
       "        vertical-align: middle;\n",
       "    }\n",
       "\n",
       "    .dataframe tbody tr th {\n",
       "        vertical-align: top;\n",
       "    }\n",
       "\n",
       "    .dataframe thead th {\n",
       "        text-align: right;\n",
       "    }\n",
       "</style>\n",
       "<table border=\"1\" class=\"dataframe\">\n",
       "  <thead>\n",
       "    <tr style=\"text-align: right;\">\n",
       "      <th></th>\n",
       "      <th>Category</th>\n",
       "      <th>Category Area</th>\n",
       "      <th>Resume</th>\n",
       "    </tr>\n",
       "  </thead>\n",
       "  <tbody>\n",
       "    <tr>\n",
       "      <th>0</th>\n",
       "      <td>Data Science</td>\n",
       "      <td>Tech</td>\n",
       "      <td>Skills * Programming Languages: Python (pandas...</td>\n",
       "    </tr>\n",
       "    <tr>\n",
       "      <th>1</th>\n",
       "      <td>Data Science</td>\n",
       "      <td>Tech</td>\n",
       "      <td>Education Details \\r\\nMay 2013 to May 2017 B.E...</td>\n",
       "    </tr>\n",
       "    <tr>\n",
       "      <th>2</th>\n",
       "      <td>Data Science</td>\n",
       "      <td>Tech</td>\n",
       "      <td>Areas of Interest Deep Learning, Control Syste...</td>\n",
       "    </tr>\n",
       "    <tr>\n",
       "      <th>3</th>\n",
       "      <td>Data Science</td>\n",
       "      <td>Tech</td>\n",
       "      <td>Skills â¢ R â¢ Python â¢ SAP HANA â¢ Table...</td>\n",
       "    </tr>\n",
       "    <tr>\n",
       "      <th>4</th>\n",
       "      <td>Data Science</td>\n",
       "      <td>Tech</td>\n",
       "      <td>Education Details \\r\\n MCA   YMCAUST,  Faridab...</td>\n",
       "    </tr>\n",
       "  </tbody>\n",
       "</table>\n",
       "</div>"
      ],
      "text/plain": [
       "       Category Category Area  \\\n",
       "0  Data Science          Tech   \n",
       "1  Data Science          Tech   \n",
       "2  Data Science          Tech   \n",
       "3  Data Science          Tech   \n",
       "4  Data Science          Tech   \n",
       "\n",
       "                                              Resume  \n",
       "0  Skills * Programming Languages: Python (pandas...  \n",
       "1  Education Details \\r\\nMay 2013 to May 2017 B.E...  \n",
       "2  Areas of Interest Deep Learning, Control Syste...  \n",
       "3  Skills â¢ R â¢ Python â¢ SAP HANA â¢ Table...  \n",
       "4  Education Details \\r\\n MCA   YMCAUST,  Faridab...  "
      ]
     },
     "execution_count": 51,
     "metadata": {},
     "output_type": "execute_result"
    }
   ],
   "source": [
    "# Getting job that are tech area\n",
    "list_tech = ['Java Developer', 'Testing', 'DevOps Engineer', 'Python Developer',\n",
    "             'Web Designing', 'ETL Developer', 'Data Science', 'SAP Developer',\n",
    "             'Network Security Engineer', 'Automation Testing', 'DotNet Developer',\n",
    "             'Hadoop', 'Database', 'Blockchain']\n",
    "\n",
    "# Created a new column called 'Category Area', that identify if resume does part from certain category\n",
    "df['Category Area'] = None\n",
    "df['Category Area'] = df['Category'].apply(lambda category: 'Tech' if category in list_tech else 'Others')\n",
    "\n",
    "# Sorting columns\n",
    "df = df.reindex(columns=['Category', 'Category Area', 'Resume'])\n",
    "df.head()"
   ]
  },
  {
   "cell_type": "code",
   "execution_count": 52,
   "metadata": {},
   "outputs": [
    {
     "data": {
      "application/vnd.plotly.v1+json": {
       "config": {
        "plotlyServerURL": "https://plot.ly"
       },
       "data": [
        {
         "domain": {
          "x": [
           0,
           1
          ],
          "y": [
           0,
           1
          ]
         },
         "hovertemplate": "Category Area=%{label}<extra></extra>",
         "labels": [
          "Tech",
          "Tech",
          "Tech",
          "Tech",
          "Tech",
          "Tech",
          "Tech",
          "Tech",
          "Tech",
          "Tech",
          "Tech",
          "Tech",
          "Tech",
          "Tech",
          "Tech",
          "Tech",
          "Tech",
          "Tech",
          "Tech",
          "Tech",
          "Tech",
          "Tech",
          "Tech",
          "Tech",
          "Tech",
          "Tech",
          "Tech",
          "Tech",
          "Tech",
          "Tech",
          "Tech",
          "Tech",
          "Tech",
          "Tech",
          "Tech",
          "Tech",
          "Tech",
          "Tech",
          "Tech",
          "Tech",
          "Others",
          "Others",
          "Others",
          "Others",
          "Others",
          "Others",
          "Others",
          "Others",
          "Others",
          "Others",
          "Others",
          "Others",
          "Others",
          "Others",
          "Others",
          "Others",
          "Others",
          "Others",
          "Others",
          "Others",
          "Others",
          "Others",
          "Others",
          "Others",
          "Others",
          "Others",
          "Others",
          "Others",
          "Others",
          "Others",
          "Others",
          "Others",
          "Others",
          "Others",
          "Others",
          "Others",
          "Others",
          "Others",
          "Others",
          "Others",
          "Others",
          "Others",
          "Others",
          "Others",
          "Others",
          "Others",
          "Others",
          "Others",
          "Others",
          "Others",
          "Others",
          "Others",
          "Others",
          "Others",
          "Others",
          "Others",
          "Others",
          "Others",
          "Others",
          "Others",
          "Others",
          "Others",
          "Others",
          "Others",
          "Others",
          "Others",
          "Others",
          "Others",
          "Others",
          "Others",
          "Others",
          "Others",
          "Others",
          "Others",
          "Others",
          "Others",
          "Others",
          "Others",
          "Others",
          "Others",
          "Others",
          "Others",
          "Others",
          "Others",
          "Others",
          "Others",
          "Others",
          "Others",
          "Others",
          "Others",
          "Others",
          "Others",
          "Others",
          "Others",
          "Others",
          "Others",
          "Others",
          "Others",
          "Others",
          "Others",
          "Tech",
          "Tech",
          "Tech",
          "Tech",
          "Tech",
          "Tech",
          "Tech",
          "Tech",
          "Tech",
          "Tech",
          "Tech",
          "Tech",
          "Tech",
          "Tech",
          "Tech",
          "Tech",
          "Tech",
          "Tech",
          "Tech",
          "Tech",
          "Tech",
          "Tech",
          "Tech",
          "Tech",
          "Tech",
          "Tech",
          "Tech",
          "Tech",
          "Tech",
          "Tech",
          "Tech",
          "Tech",
          "Tech",
          "Tech",
          "Tech",
          "Tech",
          "Tech",
          "Tech",
          "Tech",
          "Tech",
          "Tech",
          "Tech",
          "Tech",
          "Tech",
          "Tech",
          "Others",
          "Others",
          "Others",
          "Others",
          "Others",
          "Others",
          "Others",
          "Others",
          "Others",
          "Others",
          "Others",
          "Others",
          "Others",
          "Others",
          "Others",
          "Others",
          "Others",
          "Others",
          "Others",
          "Others",
          "Others",
          "Others",
          "Others",
          "Others",
          "Others",
          "Others",
          "Others",
          "Others",
          "Others",
          "Others",
          "Others",
          "Others",
          "Others",
          "Others",
          "Others",
          "Others",
          "Others",
          "Others",
          "Others",
          "Others",
          "Others",
          "Others",
          "Others",
          "Others",
          "Others",
          "Others",
          "Others",
          "Others",
          "Others",
          "Others",
          "Others",
          "Others",
          "Others",
          "Others",
          "Others",
          "Others",
          "Others",
          "Others",
          "Others",
          "Others",
          "Others",
          "Others",
          "Others",
          "Others",
          "Others",
          "Others",
          "Others",
          "Others",
          "Others",
          "Others",
          "Others",
          "Others",
          "Others",
          "Others",
          "Others",
          "Others",
          "Others",
          "Others",
          "Others",
          "Others",
          "Others",
          "Others",
          "Others",
          "Others",
          "Others",
          "Others",
          "Others",
          "Others",
          "Others",
          "Others",
          "Others",
          "Others",
          "Others",
          "Others",
          "Others",
          "Others",
          "Others",
          "Others",
          "Others",
          "Others",
          "Others",
          "Others",
          "Others",
          "Others",
          "Others",
          "Others",
          "Others",
          "Others",
          "Others",
          "Others",
          "Others",
          "Others",
          "Others",
          "Others",
          "Others",
          "Others",
          "Others",
          "Others",
          "Others",
          "Others",
          "Others",
          "Others",
          "Others",
          "Others",
          "Others",
          "Others",
          "Others",
          "Others",
          "Others",
          "Others",
          "Others",
          "Others",
          "Others",
          "Others",
          "Tech",
          "Tech",
          "Tech",
          "Tech",
          "Tech",
          "Tech",
          "Tech",
          "Tech",
          "Tech",
          "Tech",
          "Tech",
          "Tech",
          "Tech",
          "Tech",
          "Tech",
          "Tech",
          "Tech",
          "Tech",
          "Tech",
          "Tech",
          "Tech",
          "Tech",
          "Tech",
          "Tech",
          "Tech",
          "Tech",
          "Tech",
          "Tech",
          "Tech",
          "Tech",
          "Tech",
          "Tech",
          "Tech",
          "Tech",
          "Tech",
          "Tech",
          "Tech",
          "Tech",
          "Tech",
          "Tech",
          "Tech",
          "Tech",
          "Tech",
          "Tech",
          "Tech",
          "Tech",
          "Tech",
          "Tech",
          "Tech",
          "Tech",
          "Tech",
          "Tech",
          "Tech",
          "Tech",
          "Tech",
          "Tech",
          "Tech",
          "Tech",
          "Tech",
          "Tech",
          "Tech",
          "Tech",
          "Tech",
          "Tech",
          "Tech",
          "Tech",
          "Tech",
          "Tech",
          "Tech",
          "Tech",
          "Tech",
          "Tech",
          "Tech",
          "Tech",
          "Tech",
          "Tech",
          "Tech",
          "Tech",
          "Tech",
          "Tech",
          "Tech",
          "Tech",
          "Tech",
          "Tech",
          "Others",
          "Others",
          "Others",
          "Others",
          "Others",
          "Others",
          "Others",
          "Others",
          "Others",
          "Others",
          "Others",
          "Others",
          "Others",
          "Others",
          "Others",
          "Others",
          "Others",
          "Others",
          "Others",
          "Others",
          "Others",
          "Others",
          "Others",
          "Others",
          "Others",
          "Others",
          "Others",
          "Others",
          "Tech",
          "Tech",
          "Tech",
          "Tech",
          "Tech",
          "Tech",
          "Tech",
          "Tech",
          "Tech",
          "Tech",
          "Tech",
          "Tech",
          "Tech",
          "Tech",
          "Tech",
          "Tech",
          "Tech",
          "Tech",
          "Tech",
          "Tech",
          "Tech",
          "Tech",
          "Tech",
          "Tech",
          "Tech",
          "Tech",
          "Tech",
          "Tech",
          "Tech",
          "Tech",
          "Tech",
          "Tech",
          "Tech",
          "Tech",
          "Tech",
          "Tech",
          "Tech",
          "Tech",
          "Tech",
          "Tech",
          "Tech",
          "Tech",
          "Tech",
          "Tech",
          "Tech",
          "Tech",
          "Tech",
          "Tech",
          "Tech",
          "Tech",
          "Others",
          "Others",
          "Others",
          "Others",
          "Others",
          "Others",
          "Others",
          "Others",
          "Others",
          "Others",
          "Others",
          "Others",
          "Others",
          "Others",
          "Others",
          "Others",
          "Others",
          "Others",
          "Others",
          "Others",
          "Others",
          "Others",
          "Others",
          "Others",
          "Others",
          "Others",
          "Others",
          "Others",
          "Others",
          "Others",
          "Others",
          "Others",
          "Others",
          "Others",
          "Others",
          "Others",
          "Others",
          "Others",
          "Others",
          "Others",
          "Others",
          "Others",
          "Others",
          "Others",
          "Others",
          "Others",
          "Others",
          "Others",
          "Others",
          "Others",
          "Others",
          "Others",
          "Others",
          "Others",
          "Others",
          "Others",
          "Others",
          "Others",
          "Others",
          "Others",
          "Others",
          "Others",
          "Others",
          "Others",
          "Others",
          "Others",
          "Others",
          "Others",
          "Others",
          "Others",
          "Tech",
          "Tech",
          "Tech",
          "Tech",
          "Tech",
          "Tech",
          "Tech",
          "Tech",
          "Tech",
          "Tech",
          "Tech",
          "Tech",
          "Tech",
          "Tech",
          "Tech",
          "Tech",
          "Tech",
          "Tech",
          "Tech",
          "Tech",
          "Tech",
          "Tech",
          "Tech",
          "Tech",
          "Tech",
          "Tech",
          "Tech",
          "Tech",
          "Tech",
          "Tech",
          "Tech",
          "Tech",
          "Tech",
          "Tech",
          "Tech",
          "Tech",
          "Tech",
          "Tech",
          "Tech",
          "Tech",
          "Tech",
          "Tech",
          "Tech",
          "Tech",
          "Tech",
          "Tech",
          "Tech",
          "Tech",
          "Tech",
          "Tech",
          "Tech",
          "Tech",
          "Tech",
          "Tech",
          "Tech",
          "Tech",
          "Tech",
          "Tech",
          "Tech",
          "Tech",
          "Tech",
          "Tech",
          "Tech",
          "Tech",
          "Tech",
          "Tech",
          "Tech",
          "Tech",
          "Tech",
          "Tech",
          "Tech",
          "Tech",
          "Tech",
          "Tech",
          "Tech",
          "Tech",
          "Tech",
          "Tech",
          "Tech",
          "Tech",
          "Tech",
          "Tech",
          "Tech",
          "Tech",
          "Tech",
          "Tech",
          "Tech",
          "Tech",
          "Tech",
          "Tech",
          "Tech",
          "Tech",
          "Tech",
          "Tech",
          "Tech",
          "Tech",
          "Tech",
          "Tech",
          "Tech",
          "Tech",
          "Tech",
          "Tech",
          "Tech",
          "Tech",
          "Tech",
          "Tech",
          "Tech",
          "Tech",
          "Tech",
          "Tech",
          "Tech",
          "Tech",
          "Tech",
          "Tech",
          "Tech",
          "Tech",
          "Tech",
          "Tech",
          "Tech",
          "Tech",
          "Tech",
          "Tech",
          "Tech",
          "Tech",
          "Tech",
          "Tech",
          "Tech",
          "Tech",
          "Others",
          "Others",
          "Others",
          "Others",
          "Others",
          "Others",
          "Others",
          "Others",
          "Others",
          "Others",
          "Others",
          "Others",
          "Others",
          "Others",
          "Others",
          "Others",
          "Others",
          "Others",
          "Others",
          "Others",
          "Others",
          "Others",
          "Others",
          "Others",
          "Others",
          "Others",
          "Others",
          "Others",
          "Others",
          "Others",
          "Tech",
          "Tech",
          "Tech",
          "Tech",
          "Tech",
          "Tech",
          "Tech",
          "Tech",
          "Tech",
          "Tech",
          "Tech",
          "Tech",
          "Tech",
          "Tech",
          "Tech",
          "Tech",
          "Tech",
          "Tech",
          "Tech",
          "Tech",
          "Tech",
          "Tech",
          "Tech",
          "Tech",
          "Tech",
          "Tech",
          "Tech",
          "Tech",
          "Tech",
          "Tech",
          "Tech",
          "Tech",
          "Tech",
          "Tech",
          "Tech",
          "Tech",
          "Tech",
          "Tech",
          "Tech",
          "Tech",
          "Tech",
          "Tech",
          "Tech",
          "Tech",
          "Tech",
          "Tech",
          "Tech",
          "Tech",
          "Tech",
          "Tech",
          "Tech",
          "Tech",
          "Tech",
          "Tech",
          "Tech",
          "Tech",
          "Tech",
          "Tech",
          "Tech",
          "Tech",
          "Tech",
          "Tech",
          "Tech",
          "Tech",
          "Tech",
          "Tech",
          "Tech",
          "Tech",
          "Tech",
          "Tech",
          "Tech",
          "Tech",
          "Tech",
          "Tech",
          "Tech",
          "Tech",
          "Tech",
          "Tech",
          "Tech",
          "Tech",
          "Tech",
          "Tech",
          "Tech",
          "Tech",
          "Tech",
          "Tech",
          "Tech",
          "Tech",
          "Tech",
          "Tech",
          "Tech",
          "Tech",
          "Tech",
          "Tech",
          "Tech",
          "Tech",
          "Tech",
          "Tech",
          "Tech",
          "Tech",
          "Tech",
          "Tech",
          "Tech",
          "Tech",
          "Tech",
          "Tech",
          "Tech",
          "Tech",
          "Tech",
          "Tech",
          "Tech",
          "Tech",
          "Tech",
          "Tech",
          "Tech",
          "Tech",
          "Tech",
          "Tech",
          "Tech",
          "Tech",
          "Tech",
          "Tech",
          "Tech",
          "Tech",
          "Tech",
          "Tech",
          "Tech",
          "Tech",
          "Tech",
          "Tech",
          "Tech",
          "Tech",
          "Tech",
          "Tech",
          "Tech",
          "Tech",
          "Tech",
          "Tech",
          "Tech",
          "Tech",
          "Tech",
          "Tech",
          "Tech",
          "Tech",
          "Tech",
          "Tech",
          "Tech",
          "Tech",
          "Tech",
          "Tech",
          "Tech",
          "Tech",
          "Tech",
          "Tech",
          "Tech",
          "Tech",
          "Tech",
          "Tech",
          "Tech",
          "Tech",
          "Tech",
          "Tech",
          "Tech",
          "Tech",
          "Tech",
          "Tech",
          "Tech",
          "Tech",
          "Tech",
          "Tech",
          "Tech",
          "Tech",
          "Tech",
          "Tech",
          "Tech",
          "Tech",
          "Tech",
          "Tech",
          "Tech",
          "Tech",
          "Tech",
          "Tech",
          "Tech",
          "Tech",
          "Tech",
          "Tech",
          "Tech",
          "Tech",
          "Tech",
          "Tech",
          "Tech",
          "Tech",
          "Tech",
          "Tech",
          "Tech",
          "Tech",
          "Tech",
          "Tech",
          "Tech",
          "Tech",
          "Tech",
          "Tech",
          "Tech",
          "Tech",
          "Tech",
          "Tech",
          "Tech",
          "Tech",
          "Tech",
          "Tech",
          "Tech",
          "Tech",
          "Tech",
          "Tech",
          "Tech",
          "Tech",
          "Tech",
          "Tech",
          "Tech",
          "Tech",
          "Tech",
          "Tech",
          "Tech",
          "Tech",
          "Tech",
          "Tech",
          "Tech",
          "Tech",
          "Tech",
          "Tech",
          "Tech",
          "Tech",
          "Tech",
          "Tech",
          "Tech",
          "Tech",
          "Tech",
          "Tech",
          "Tech",
          "Tech",
          "Tech",
          "Tech",
          "Tech",
          "Tech",
          "Tech",
          "Tech",
          "Tech",
          "Tech",
          "Tech",
          "Tech",
          "Tech",
          "Tech",
          "Tech"
         ],
         "legendgroup": "",
         "name": "",
         "showlegend": true,
         "type": "pie"
        }
       ],
       "layout": {
        "height": 400,
        "legend": {
         "tracegroupgap": 0
        },
        "piecolorway": [
         "#3366CC",
         "#DC3912",
         "#FF9900",
         "#109618",
         "#990099",
         "#0099C6",
         "#DD4477",
         "#66AA00",
         "#B82E2E",
         "#316395"
        ],
        "template": {
         "data": {
          "bar": [
           {
            "error_x": {
             "color": "#2a3f5f"
            },
            "error_y": {
             "color": "#2a3f5f"
            },
            "marker": {
             "line": {
              "color": "#E5ECF6",
              "width": 0.5
             },
             "pattern": {
              "fillmode": "overlay",
              "size": 10,
              "solidity": 0.2
             }
            },
            "type": "bar"
           }
          ],
          "barpolar": [
           {
            "marker": {
             "line": {
              "color": "#E5ECF6",
              "width": 0.5
             },
             "pattern": {
              "fillmode": "overlay",
              "size": 10,
              "solidity": 0.2
             }
            },
            "type": "barpolar"
           }
          ],
          "carpet": [
           {
            "aaxis": {
             "endlinecolor": "#2a3f5f",
             "gridcolor": "white",
             "linecolor": "white",
             "minorgridcolor": "white",
             "startlinecolor": "#2a3f5f"
            },
            "baxis": {
             "endlinecolor": "#2a3f5f",
             "gridcolor": "white",
             "linecolor": "white",
             "minorgridcolor": "white",
             "startlinecolor": "#2a3f5f"
            },
            "type": "carpet"
           }
          ],
          "choropleth": [
           {
            "colorbar": {
             "outlinewidth": 0,
             "ticks": ""
            },
            "type": "choropleth"
           }
          ],
          "contour": [
           {
            "colorbar": {
             "outlinewidth": 0,
             "ticks": ""
            },
            "colorscale": [
             [
              0,
              "#0d0887"
             ],
             [
              0.1111111111111111,
              "#46039f"
             ],
             [
              0.2222222222222222,
              "#7201a8"
             ],
             [
              0.3333333333333333,
              "#9c179e"
             ],
             [
              0.4444444444444444,
              "#bd3786"
             ],
             [
              0.5555555555555556,
              "#d8576b"
             ],
             [
              0.6666666666666666,
              "#ed7953"
             ],
             [
              0.7777777777777778,
              "#fb9f3a"
             ],
             [
              0.8888888888888888,
              "#fdca26"
             ],
             [
              1,
              "#f0f921"
             ]
            ],
            "type": "contour"
           }
          ],
          "contourcarpet": [
           {
            "colorbar": {
             "outlinewidth": 0,
             "ticks": ""
            },
            "type": "contourcarpet"
           }
          ],
          "heatmap": [
           {
            "colorbar": {
             "outlinewidth": 0,
             "ticks": ""
            },
            "colorscale": [
             [
              0,
              "#0d0887"
             ],
             [
              0.1111111111111111,
              "#46039f"
             ],
             [
              0.2222222222222222,
              "#7201a8"
             ],
             [
              0.3333333333333333,
              "#9c179e"
             ],
             [
              0.4444444444444444,
              "#bd3786"
             ],
             [
              0.5555555555555556,
              "#d8576b"
             ],
             [
              0.6666666666666666,
              "#ed7953"
             ],
             [
              0.7777777777777778,
              "#fb9f3a"
             ],
             [
              0.8888888888888888,
              "#fdca26"
             ],
             [
              1,
              "#f0f921"
             ]
            ],
            "type": "heatmap"
           }
          ],
          "heatmapgl": [
           {
            "colorbar": {
             "outlinewidth": 0,
             "ticks": ""
            },
            "colorscale": [
             [
              0,
              "#0d0887"
             ],
             [
              0.1111111111111111,
              "#46039f"
             ],
             [
              0.2222222222222222,
              "#7201a8"
             ],
             [
              0.3333333333333333,
              "#9c179e"
             ],
             [
              0.4444444444444444,
              "#bd3786"
             ],
             [
              0.5555555555555556,
              "#d8576b"
             ],
             [
              0.6666666666666666,
              "#ed7953"
             ],
             [
              0.7777777777777778,
              "#fb9f3a"
             ],
             [
              0.8888888888888888,
              "#fdca26"
             ],
             [
              1,
              "#f0f921"
             ]
            ],
            "type": "heatmapgl"
           }
          ],
          "histogram": [
           {
            "marker": {
             "pattern": {
              "fillmode": "overlay",
              "size": 10,
              "solidity": 0.2
             }
            },
            "type": "histogram"
           }
          ],
          "histogram2d": [
           {
            "colorbar": {
             "outlinewidth": 0,
             "ticks": ""
            },
            "colorscale": [
             [
              0,
              "#0d0887"
             ],
             [
              0.1111111111111111,
              "#46039f"
             ],
             [
              0.2222222222222222,
              "#7201a8"
             ],
             [
              0.3333333333333333,
              "#9c179e"
             ],
             [
              0.4444444444444444,
              "#bd3786"
             ],
             [
              0.5555555555555556,
              "#d8576b"
             ],
             [
              0.6666666666666666,
              "#ed7953"
             ],
             [
              0.7777777777777778,
              "#fb9f3a"
             ],
             [
              0.8888888888888888,
              "#fdca26"
             ],
             [
              1,
              "#f0f921"
             ]
            ],
            "type": "histogram2d"
           }
          ],
          "histogram2dcontour": [
           {
            "colorbar": {
             "outlinewidth": 0,
             "ticks": ""
            },
            "colorscale": [
             [
              0,
              "#0d0887"
             ],
             [
              0.1111111111111111,
              "#46039f"
             ],
             [
              0.2222222222222222,
              "#7201a8"
             ],
             [
              0.3333333333333333,
              "#9c179e"
             ],
             [
              0.4444444444444444,
              "#bd3786"
             ],
             [
              0.5555555555555556,
              "#d8576b"
             ],
             [
              0.6666666666666666,
              "#ed7953"
             ],
             [
              0.7777777777777778,
              "#fb9f3a"
             ],
             [
              0.8888888888888888,
              "#fdca26"
             ],
             [
              1,
              "#f0f921"
             ]
            ],
            "type": "histogram2dcontour"
           }
          ],
          "mesh3d": [
           {
            "colorbar": {
             "outlinewidth": 0,
             "ticks": ""
            },
            "type": "mesh3d"
           }
          ],
          "parcoords": [
           {
            "line": {
             "colorbar": {
              "outlinewidth": 0,
              "ticks": ""
             }
            },
            "type": "parcoords"
           }
          ],
          "pie": [
           {
            "automargin": true,
            "type": "pie"
           }
          ],
          "scatter": [
           {
            "fillpattern": {
             "fillmode": "overlay",
             "size": 10,
             "solidity": 0.2
            },
            "type": "scatter"
           }
          ],
          "scatter3d": [
           {
            "line": {
             "colorbar": {
              "outlinewidth": 0,
              "ticks": ""
             }
            },
            "marker": {
             "colorbar": {
              "outlinewidth": 0,
              "ticks": ""
             }
            },
            "type": "scatter3d"
           }
          ],
          "scattercarpet": [
           {
            "marker": {
             "colorbar": {
              "outlinewidth": 0,
              "ticks": ""
             }
            },
            "type": "scattercarpet"
           }
          ],
          "scattergeo": [
           {
            "marker": {
             "colorbar": {
              "outlinewidth": 0,
              "ticks": ""
             }
            },
            "type": "scattergeo"
           }
          ],
          "scattergl": [
           {
            "marker": {
             "colorbar": {
              "outlinewidth": 0,
              "ticks": ""
             }
            },
            "type": "scattergl"
           }
          ],
          "scattermapbox": [
           {
            "marker": {
             "colorbar": {
              "outlinewidth": 0,
              "ticks": ""
             }
            },
            "type": "scattermapbox"
           }
          ],
          "scatterpolar": [
           {
            "marker": {
             "colorbar": {
              "outlinewidth": 0,
              "ticks": ""
             }
            },
            "type": "scatterpolar"
           }
          ],
          "scatterpolargl": [
           {
            "marker": {
             "colorbar": {
              "outlinewidth": 0,
              "ticks": ""
             }
            },
            "type": "scatterpolargl"
           }
          ],
          "scatterternary": [
           {
            "marker": {
             "colorbar": {
              "outlinewidth": 0,
              "ticks": ""
             }
            },
            "type": "scatterternary"
           }
          ],
          "surface": [
           {
            "colorbar": {
             "outlinewidth": 0,
             "ticks": ""
            },
            "colorscale": [
             [
              0,
              "#0d0887"
             ],
             [
              0.1111111111111111,
              "#46039f"
             ],
             [
              0.2222222222222222,
              "#7201a8"
             ],
             [
              0.3333333333333333,
              "#9c179e"
             ],
             [
              0.4444444444444444,
              "#bd3786"
             ],
             [
              0.5555555555555556,
              "#d8576b"
             ],
             [
              0.6666666666666666,
              "#ed7953"
             ],
             [
              0.7777777777777778,
              "#fb9f3a"
             ],
             [
              0.8888888888888888,
              "#fdca26"
             ],
             [
              1,
              "#f0f921"
             ]
            ],
            "type": "surface"
           }
          ],
          "table": [
           {
            "cells": {
             "fill": {
              "color": "#EBF0F8"
             },
             "line": {
              "color": "white"
             }
            },
            "header": {
             "fill": {
              "color": "#C8D4E3"
             },
             "line": {
              "color": "white"
             }
            },
            "type": "table"
           }
          ]
         },
         "layout": {
          "annotationdefaults": {
           "arrowcolor": "#2a3f5f",
           "arrowhead": 0,
           "arrowwidth": 1
          },
          "autotypenumbers": "strict",
          "coloraxis": {
           "colorbar": {
            "outlinewidth": 0,
            "ticks": ""
           }
          },
          "colorscale": {
           "diverging": [
            [
             0,
             "#8e0152"
            ],
            [
             0.1,
             "#c51b7d"
            ],
            [
             0.2,
             "#de77ae"
            ],
            [
             0.3,
             "#f1b6da"
            ],
            [
             0.4,
             "#fde0ef"
            ],
            [
             0.5,
             "#f7f7f7"
            ],
            [
             0.6,
             "#e6f5d0"
            ],
            [
             0.7,
             "#b8e186"
            ],
            [
             0.8,
             "#7fbc41"
            ],
            [
             0.9,
             "#4d9221"
            ],
            [
             1,
             "#276419"
            ]
           ],
           "sequential": [
            [
             0,
             "#0d0887"
            ],
            [
             0.1111111111111111,
             "#46039f"
            ],
            [
             0.2222222222222222,
             "#7201a8"
            ],
            [
             0.3333333333333333,
             "#9c179e"
            ],
            [
             0.4444444444444444,
             "#bd3786"
            ],
            [
             0.5555555555555556,
             "#d8576b"
            ],
            [
             0.6666666666666666,
             "#ed7953"
            ],
            [
             0.7777777777777778,
             "#fb9f3a"
            ],
            [
             0.8888888888888888,
             "#fdca26"
            ],
            [
             1,
             "#f0f921"
            ]
           ],
           "sequentialminus": [
            [
             0,
             "#0d0887"
            ],
            [
             0.1111111111111111,
             "#46039f"
            ],
            [
             0.2222222222222222,
             "#7201a8"
            ],
            [
             0.3333333333333333,
             "#9c179e"
            ],
            [
             0.4444444444444444,
             "#bd3786"
            ],
            [
             0.5555555555555556,
             "#d8576b"
            ],
            [
             0.6666666666666666,
             "#ed7953"
            ],
            [
             0.7777777777777778,
             "#fb9f3a"
            ],
            [
             0.8888888888888888,
             "#fdca26"
            ],
            [
             1,
             "#f0f921"
            ]
           ]
          },
          "colorway": [
           "#636efa",
           "#EF553B",
           "#00cc96",
           "#ab63fa",
           "#FFA15A",
           "#19d3f3",
           "#FF6692",
           "#B6E880",
           "#FF97FF",
           "#FECB52"
          ],
          "font": {
           "color": "#2a3f5f"
          },
          "geo": {
           "bgcolor": "white",
           "lakecolor": "white",
           "landcolor": "#E5ECF6",
           "showlakes": true,
           "showland": true,
           "subunitcolor": "white"
          },
          "hoverlabel": {
           "align": "left"
          },
          "hovermode": "closest",
          "mapbox": {
           "style": "light"
          },
          "paper_bgcolor": "white",
          "plot_bgcolor": "#E5ECF6",
          "polar": {
           "angularaxis": {
            "gridcolor": "white",
            "linecolor": "white",
            "ticks": ""
           },
           "bgcolor": "#E5ECF6",
           "radialaxis": {
            "gridcolor": "white",
            "linecolor": "white",
            "ticks": ""
           }
          },
          "scene": {
           "xaxis": {
            "backgroundcolor": "#E5ECF6",
            "gridcolor": "white",
            "gridwidth": 2,
            "linecolor": "white",
            "showbackground": true,
            "ticks": "",
            "zerolinecolor": "white"
           },
           "yaxis": {
            "backgroundcolor": "#E5ECF6",
            "gridcolor": "white",
            "gridwidth": 2,
            "linecolor": "white",
            "showbackground": true,
            "ticks": "",
            "zerolinecolor": "white"
           },
           "zaxis": {
            "backgroundcolor": "#E5ECF6",
            "gridcolor": "white",
            "gridwidth": 2,
            "linecolor": "white",
            "showbackground": true,
            "ticks": "",
            "zerolinecolor": "white"
           }
          },
          "shapedefaults": {
           "line": {
            "color": "#2a3f5f"
           }
          },
          "ternary": {
           "aaxis": {
            "gridcolor": "white",
            "linecolor": "white",
            "ticks": ""
           },
           "baxis": {
            "gridcolor": "white",
            "linecolor": "white",
            "ticks": ""
           },
           "bgcolor": "#E5ECF6",
           "caxis": {
            "gridcolor": "white",
            "linecolor": "white",
            "ticks": ""
           }
          },
          "title": {
           "x": 0.05
          },
          "xaxis": {
           "automargin": true,
           "gridcolor": "white",
           "linecolor": "white",
           "ticks": "",
           "title": {
            "standoff": 15
           },
           "zerolinecolor": "white",
           "zerolinewidth": 2
          },
          "yaxis": {
           "automargin": true,
           "gridcolor": "white",
           "linecolor": "white",
           "ticks": "",
           "title": {
            "standoff": 15
           },
           "zerolinecolor": "white",
           "zerolinewidth": 2
          }
         }
        },
        "title": {
         "text": "Data distribution"
        },
        "width": 400
       }
      },
      "image/png": "[encoded data removed]",
      "text/html": [
       "<div>                            <div id=\"655a2bb7-e907-4a7a-bd1a-8d850153678c\" class=\"plotly-graph-div\" style=\"height:400px; width:400px;\"></div>            <script type=\"text/javascript\">                require([\"plotly\"], function(Plotly) {                    window.PLOTLYENV=window.PLOTLYENV || {};                                    if (document.getElementById(\"655a2bb7-e907-4a7a-bd1a-8d850153678c\")) {                    Plotly.newPlot(                        \"655a2bb7-e907-4a7a-bd1a-8d850153678c\",                        [{\"domain\":{\"x\":[0.0,1.0],\"y\":[0.0,1.0]},\"hovertemplate\":\"Category Area=%{label}\\u003cextra\\u003e\\u003c\\u002fextra\\u003e\",\"labels\":[\"Tech\",\"Tech\",\"Tech\",\"Tech\",\"Tech\",\"Tech\",\"Tech\",\"Tech\",\"Tech\",\"Tech\",\"Tech\",\"Tech\",\"Tech\",\"Tech\",\"Tech\",\"Tech\",\"Tech\",\"Tech\",\"Tech\",\"Tech\",\"Tech\",\"Tech\",\"Tech\",\"Tech\",\"Tech\",\"Tech\",\"Tech\",\"Tech\",\"Tech\",\"Tech\",\"Tech\",\"Tech\",\"Tech\",\"Tech\",\"Tech\",\"Tech\",\"Tech\",\"Tech\",\"Tech\",\"Tech\",\"Others\",\"Others\",\"Others\",\"Others\",\"Others\",\"Others\",\"Others\",\"Others\",\"Others\",\"Others\",\"Others\",\"Others\",\"Others\",\"Others\",\"Others\",\"Others\",\"Others\",\"Others\",\"Others\",\"Others\",\"Others\",\"Others\",\"Others\",\"Others\",\"Others\",\"Others\",\"Others\",\"Others\",\"Others\",\"Others\",\"Others\",\"Others\",\"Others\",\"Others\",\"Others\",\"Others\",\"Others\",\"Others\",\"Others\",\"Others\",\"Others\",\"Others\",\"Others\",\"Others\",\"Others\",\"Others\",\"Others\",\"Others\",\"Others\",\"Others\",\"Others\",\"Others\",\"Others\",\"Others\",\"Others\",\"Others\",\"Others\",\"Others\",\"Others\",\"Others\",\"Others\",\"Others\",\"Others\",\"Others\",\"Others\",\"Others\",\"Others\",\"Others\",\"Others\",\"Others\",\"Others\",\"Others\",\"Others\",\"Others\",\"Others\",\"Others\",\"Others\",\"Others\",\"Others\",\"Others\",\"Others\",\"Others\",\"Others\",\"Others\",\"Others\",\"Others\",\"Others\",\"Others\",\"Others\",\"Others\",\"Others\",\"Others\",\"Others\",\"Others\",\"Others\",\"Others\",\"Others\",\"Others\",\"Others\",\"Others\",\"Tech\",\"Tech\",\"Tech\",\"Tech\",\"Tech\",\"Tech\",\"Tech\",\"Tech\",\"Tech\",\"Tech\",\"Tech\",\"Tech\",\"Tech\",\"Tech\",\"Tech\",\"Tech\",\"Tech\",\"Tech\",\"Tech\",\"Tech\",\"Tech\",\"Tech\",\"Tech\",\"Tech\",\"Tech\",\"Tech\",\"Tech\",\"Tech\",\"Tech\",\"Tech\",\"Tech\",\"Tech\",\"Tech\",\"Tech\",\"Tech\",\"Tech\",\"Tech\",\"Tech\",\"Tech\",\"Tech\",\"Tech\",\"Tech\",\"Tech\",\"Tech\",\"Tech\",\"Others\",\"Others\",\"Others\",\"Others\",\"Others\",\"Others\",\"Others\",\"Others\",\"Others\",\"Others\",\"Others\",\"Others\",\"Others\",\"Others\",\"Others\",\"Others\",\"Others\",\"Others\",\"Others\",\"Others\",\"Others\",\"Others\",\"Others\",\"Others\",\"Others\",\"Others\",\"Others\",\"Others\",\"Others\",\"Others\",\"Others\",\"Others\",\"Others\",\"Others\",\"Others\",\"Others\",\"Others\",\"Others\",\"Others\",\"Others\",\"Others\",\"Others\",\"Others\",\"Others\",\"Others\",\"Others\",\"Others\",\"Others\",\"Others\",\"Others\",\"Others\",\"Others\",\"Others\",\"Others\",\"Others\",\"Others\",\"Others\",\"Others\",\"Others\",\"Others\",\"Others\",\"Others\",\"Others\",\"Others\",\"Others\",\"Others\",\"Others\",\"Others\",\"Others\",\"Others\",\"Others\",\"Others\",\"Others\",\"Others\",\"Others\",\"Others\",\"Others\",\"Others\",\"Others\",\"Others\",\"Others\",\"Others\",\"Others\",\"Others\",\"Others\",\"Others\",\"Others\",\"Others\",\"Others\",\"Others\",\"Others\",\"Others\",\"Others\",\"Others\",\"Others\",\"Others\",\"Others\",\"Others\",\"Others\",\"Others\",\"Others\",\"Others\",\"Others\",\"Others\",\"Others\",\"Others\",\"Others\",\"Others\",\"Others\",\"Others\",\"Others\",\"Others\",\"Others\",\"Others\",\"Others\",\"Others\",\"Others\",\"Others\",\"Others\",\"Others\",\"Others\",\"Others\",\"Others\",\"Others\",\"Others\",\"Others\",\"Others\",\"Others\",\"Others\",\"Others\",\"Others\",\"Others\",\"Others\",\"Others\",\"Tech\",\"Tech\",\"Tech\",\"Tech\",\"Tech\",\"Tech\",\"Tech\",\"Tech\",\"Tech\",\"Tech\",\"Tech\",\"Tech\",\"Tech\",\"Tech\",\"Tech\",\"Tech\",\"Tech\",\"Tech\",\"Tech\",\"Tech\",\"Tech\",\"Tech\",\"Tech\",\"Tech\",\"Tech\",\"Tech\",\"Tech\",\"Tech\",\"Tech\",\"Tech\",\"Tech\",\"Tech\",\"Tech\",\"Tech\",\"Tech\",\"Tech\",\"Tech\",\"Tech\",\"Tech\",\"Tech\",\"Tech\",\"Tech\",\"Tech\",\"Tech\",\"Tech\",\"Tech\",\"Tech\",\"Tech\",\"Tech\",\"Tech\",\"Tech\",\"Tech\",\"Tech\",\"Tech\",\"Tech\",\"Tech\",\"Tech\",\"Tech\",\"Tech\",\"Tech\",\"Tech\",\"Tech\",\"Tech\",\"Tech\",\"Tech\",\"Tech\",\"Tech\",\"Tech\",\"Tech\",\"Tech\",\"Tech\",\"Tech\",\"Tech\",\"Tech\",\"Tech\",\"Tech\",\"Tech\",\"Tech\",\"Tech\",\"Tech\",\"Tech\",\"Tech\",\"Tech\",\"Tech\",\"Others\",\"Others\",\"Others\",\"Others\",\"Others\",\"Others\",\"Others\",\"Others\",\"Others\",\"Others\",\"Others\",\"Others\",\"Others\",\"Others\",\"Others\",\"Others\",\"Others\",\"Others\",\"Others\",\"Others\",\"Others\",\"Others\",\"Others\",\"Others\",\"Others\",\"Others\",\"Others\",\"Others\",\"Tech\",\"Tech\",\"Tech\",\"Tech\",\"Tech\",\"Tech\",\"Tech\",\"Tech\",\"Tech\",\"Tech\",\"Tech\",\"Tech\",\"Tech\",\"Tech\",\"Tech\",\"Tech\",\"Tech\",\"Tech\",\"Tech\",\"Tech\",\"Tech\",\"Tech\",\"Tech\",\"Tech\",\"Tech\",\"Tech\",\"Tech\",\"Tech\",\"Tech\",\"Tech\",\"Tech\",\"Tech\",\"Tech\",\"Tech\",\"Tech\",\"Tech\",\"Tech\",\"Tech\",\"Tech\",\"Tech\",\"Tech\",\"Tech\",\"Tech\",\"Tech\",\"Tech\",\"Tech\",\"Tech\",\"Tech\",\"Tech\",\"Tech\",\"Others\",\"Others\",\"Others\",\"Others\",\"Others\",\"Others\",\"Others\",\"Others\",\"Others\",\"Others\",\"Others\",\"Others\",\"Others\",\"Others\",\"Others\",\"Others\",\"Others\",\"Others\",\"Others\",\"Others\",\"Others\",\"Others\",\"Others\",\"Others\",\"Others\",\"Others\",\"Others\",\"Others\",\"Others\",\"Others\",\"Others\",\"Others\",\"Others\",\"Others\",\"Others\",\"Others\",\"Others\",\"Others\",\"Others\",\"Others\",\"Others\",\"Others\",\"Others\",\"Others\",\"Others\",\"Others\",\"Others\",\"Others\",\"Others\",\"Others\",\"Others\",\"Others\",\"Others\",\"Others\",\"Others\",\"Others\",\"Others\",\"Others\",\"Others\",\"Others\",\"Others\",\"Others\",\"Others\",\"Others\",\"Others\",\"Others\",\"Others\",\"Others\",\"Others\",\"Others\",\"Tech\",\"Tech\",\"Tech\",\"Tech\",\"Tech\",\"Tech\",\"Tech\",\"Tech\",\"Tech\",\"Tech\",\"Tech\",\"Tech\",\"Tech\",\"Tech\",\"Tech\",\"Tech\",\"Tech\",\"Tech\",\"Tech\",\"Tech\",\"Tech\",\"Tech\",\"Tech\",\"Tech\",\"Tech\",\"Tech\",\"Tech\",\"Tech\",\"Tech\",\"Tech\",\"Tech\",\"Tech\",\"Tech\",\"Tech\",\"Tech\",\"Tech\",\"Tech\",\"Tech\",\"Tech\",\"Tech\",\"Tech\",\"Tech\",\"Tech\",\"Tech\",\"Tech\",\"Tech\",\"Tech\",\"Tech\",\"Tech\",\"Tech\",\"Tech\",\"Tech\",\"Tech\",\"Tech\",\"Tech\",\"Tech\",\"Tech\",\"Tech\",\"Tech\",\"Tech\",\"Tech\",\"Tech\",\"Tech\",\"Tech\",\"Tech\",\"Tech\",\"Tech\",\"Tech\",\"Tech\",\"Tech\",\"Tech\",\"Tech\",\"Tech\",\"Tech\",\"Tech\",\"Tech\",\"Tech\",\"Tech\",\"Tech\",\"Tech\",\"Tech\",\"Tech\",\"Tech\",\"Tech\",\"Tech\",\"Tech\",\"Tech\",\"Tech\",\"Tech\",\"Tech\",\"Tech\",\"Tech\",\"Tech\",\"Tech\",\"Tech\",\"Tech\",\"Tech\",\"Tech\",\"Tech\",\"Tech\",\"Tech\",\"Tech\",\"Tech\",\"Tech\",\"Tech\",\"Tech\",\"Tech\",\"Tech\",\"Tech\",\"Tech\",\"Tech\",\"Tech\",\"Tech\",\"Tech\",\"Tech\",\"Tech\",\"Tech\",\"Tech\",\"Tech\",\"Tech\",\"Tech\",\"Tech\",\"Tech\",\"Tech\",\"Tech\",\"Tech\",\"Tech\",\"Tech\",\"Others\",\"Others\",\"Others\",\"Others\",\"Others\",\"Others\",\"Others\",\"Others\",\"Others\",\"Others\",\"Others\",\"Others\",\"Others\",\"Others\",\"Others\",\"Others\",\"Others\",\"Others\",\"Others\",\"Others\",\"Others\",\"Others\",\"Others\",\"Others\",\"Others\",\"Others\",\"Others\",\"Others\",\"Others\",\"Others\",\"Tech\",\"Tech\",\"Tech\",\"Tech\",\"Tech\",\"Tech\",\"Tech\",\"Tech\",\"Tech\",\"Tech\",\"Tech\",\"Tech\",\"Tech\",\"Tech\",\"Tech\",\"Tech\",\"Tech\",\"Tech\",\"Tech\",\"Tech\",\"Tech\",\"Tech\",\"Tech\",\"Tech\",\"Tech\",\"Tech\",\"Tech\",\"Tech\",\"Tech\",\"Tech\",\"Tech\",\"Tech\",\"Tech\",\"Tech\",\"Tech\",\"Tech\",\"Tech\",\"Tech\",\"Tech\",\"Tech\",\"Tech\",\"Tech\",\"Tech\",\"Tech\",\"Tech\",\"Tech\",\"Tech\",\"Tech\",\"Tech\",\"Tech\",\"Tech\",\"Tech\",\"Tech\",\"Tech\",\"Tech\",\"Tech\",\"Tech\",\"Tech\",\"Tech\",\"Tech\",\"Tech\",\"Tech\",\"Tech\",\"Tech\",\"Tech\",\"Tech\",\"Tech\",\"Tech\",\"Tech\",\"Tech\",\"Tech\",\"Tech\",\"Tech\",\"Tech\",\"Tech\",\"Tech\",\"Tech\",\"Tech\",\"Tech\",\"Tech\",\"Tech\",\"Tech\",\"Tech\",\"Tech\",\"Tech\",\"Tech\",\"Tech\",\"Tech\",\"Tech\",\"Tech\",\"Tech\",\"Tech\",\"Tech\",\"Tech\",\"Tech\",\"Tech\",\"Tech\",\"Tech\",\"Tech\",\"Tech\",\"Tech\",\"Tech\",\"Tech\",\"Tech\",\"Tech\",\"Tech\",\"Tech\",\"Tech\",\"Tech\",\"Tech\",\"Tech\",\"Tech\",\"Tech\",\"Tech\",\"Tech\",\"Tech\",\"Tech\",\"Tech\",\"Tech\",\"Tech\",\"Tech\",\"Tech\",\"Tech\",\"Tech\",\"Tech\",\"Tech\",\"Tech\",\"Tech\",\"Tech\",\"Tech\",\"Tech\",\"Tech\",\"Tech\",\"Tech\",\"Tech\",\"Tech\",\"Tech\",\"Tech\",\"Tech\",\"Tech\",\"Tech\",\"Tech\",\"Tech\",\"Tech\",\"Tech\",\"Tech\",\"Tech\",\"Tech\",\"Tech\",\"Tech\",\"Tech\",\"Tech\",\"Tech\",\"Tech\",\"Tech\",\"Tech\",\"Tech\",\"Tech\",\"Tech\",\"Tech\",\"Tech\",\"Tech\",\"Tech\",\"Tech\",\"Tech\",\"Tech\",\"Tech\",\"Tech\",\"Tech\",\"Tech\",\"Tech\",\"Tech\",\"Tech\",\"Tech\",\"Tech\",\"Tech\",\"Tech\",\"Tech\",\"Tech\",\"Tech\",\"Tech\",\"Tech\",\"Tech\",\"Tech\",\"Tech\",\"Tech\",\"Tech\",\"Tech\",\"Tech\",\"Tech\",\"Tech\",\"Tech\",\"Tech\",\"Tech\",\"Tech\",\"Tech\",\"Tech\",\"Tech\",\"Tech\",\"Tech\",\"Tech\",\"Tech\",\"Tech\",\"Tech\",\"Tech\",\"Tech\",\"Tech\",\"Tech\",\"Tech\",\"Tech\",\"Tech\",\"Tech\",\"Tech\",\"Tech\",\"Tech\",\"Tech\",\"Tech\",\"Tech\",\"Tech\",\"Tech\",\"Tech\",\"Tech\",\"Tech\",\"Tech\",\"Tech\",\"Tech\",\"Tech\",\"Tech\",\"Tech\",\"Tech\",\"Tech\",\"Tech\",\"Tech\",\"Tech\",\"Tech\",\"Tech\",\"Tech\",\"Tech\",\"Tech\",\"Tech\",\"Tech\",\"Tech\",\"Tech\",\"Tech\",\"Tech\",\"Tech\",\"Tech\",\"Tech\",\"Tech\",\"Tech\",\"Tech\",\"Tech\",\"Tech\"],\"legendgroup\":\"\",\"name\":\"\",\"showlegend\":true,\"type\":\"pie\"}],                        {\"template\":{\"data\":{\"histogram2dcontour\":[{\"type\":\"histogram2dcontour\",\"colorbar\":{\"outlinewidth\":0,\"ticks\":\"\"},\"colorscale\":[[0.0,\"#0d0887\"],[0.1111111111111111,\"#46039f\"],[0.2222222222222222,\"#7201a8\"],[0.3333333333333333,\"#9c179e\"],[0.4444444444444444,\"#bd3786\"],[0.5555555555555556,\"#d8576b\"],[0.6666666666666666,\"#ed7953\"],[0.7777777777777778,\"#fb9f3a\"],[0.8888888888888888,\"#fdca26\"],[1.0,\"#f0f921\"]]}],\"choropleth\":[{\"type\":\"choropleth\",\"colorbar\":{\"outlinewidth\":0,\"ticks\":\"\"}}],\"histogram2d\":[{\"type\":\"histogram2d\",\"colorbar\":{\"outlinewidth\":0,\"ticks\":\"\"},\"colorscale\":[[0.0,\"#0d0887\"],[0.1111111111111111,\"#46039f\"],[0.2222222222222222,\"#7201a8\"],[0.3333333333333333,\"#9c179e\"],[0.4444444444444444,\"#bd3786\"],[0.5555555555555556,\"#d8576b\"],[0.6666666666666666,\"#ed7953\"],[0.7777777777777778,\"#fb9f3a\"],[0.8888888888888888,\"#fdca26\"],[1.0,\"#f0f921\"]]}],\"heatmap\":[{\"type\":\"heatmap\",\"colorbar\":{\"outlinewidth\":0,\"ticks\":\"\"},\"colorscale\":[[0.0,\"#0d0887\"],[0.1111111111111111,\"#46039f\"],[0.2222222222222222,\"#7201a8\"],[0.3333333333333333,\"#9c179e\"],[0.4444444444444444,\"#bd3786\"],[0.5555555555555556,\"#d8576b\"],[0.6666666666666666,\"#ed7953\"],[0.7777777777777778,\"#fb9f3a\"],[0.8888888888888888,\"#fdca26\"],[1.0,\"#f0f921\"]]}],\"heatmapgl\":[{\"type\":\"heatmapgl\",\"colorbar\":{\"outlinewidth\":0,\"ticks\":\"\"},\"colorscale\":[[0.0,\"#0d0887\"],[0.1111111111111111,\"#46039f\"],[0.2222222222222222,\"#7201a8\"],[0.3333333333333333,\"#9c179e\"],[0.4444444444444444,\"#bd3786\"],[0.5555555555555556,\"#d8576b\"],[0.6666666666666666,\"#ed7953\"],[0.7777777777777778,\"#fb9f3a\"],[0.8888888888888888,\"#fdca26\"],[1.0,\"#f0f921\"]]}],\"contourcarpet\":[{\"type\":\"contourcarpet\",\"colorbar\":{\"outlinewidth\":0,\"ticks\":\"\"}}],\"contour\":[{\"type\":\"contour\",\"colorbar\":{\"outlinewidth\":0,\"ticks\":\"\"},\"colorscale\":[[0.0,\"#0d0887\"],[0.1111111111111111,\"#46039f\"],[0.2222222222222222,\"#7201a8\"],[0.3333333333333333,\"#9c179e\"],[0.4444444444444444,\"#bd3786\"],[0.5555555555555556,\"#d8576b\"],[0.6666666666666666,\"#ed7953\"],[0.7777777777777778,\"#fb9f3a\"],[0.8888888888888888,\"#fdca26\"],[1.0,\"#f0f921\"]]}],\"surface\":[{\"type\":\"surface\",\"colorbar\":{\"outlinewidth\":0,\"ticks\":\"\"},\"colorscale\":[[0.0,\"#0d0887\"],[0.1111111111111111,\"#46039f\"],[0.2222222222222222,\"#7201a8\"],[0.3333333333333333,\"#9c179e\"],[0.4444444444444444,\"#bd3786\"],[0.5555555555555556,\"#d8576b\"],[0.6666666666666666,\"#ed7953\"],[0.7777777777777778,\"#fb9f3a\"],[0.8888888888888888,\"#fdca26\"],[1.0,\"#f0f921\"]]}],\"mesh3d\":[{\"type\":\"mesh3d\",\"colorbar\":{\"outlinewidth\":0,\"ticks\":\"\"}}],\"scatter\":[{\"fillpattern\":{\"fillmode\":\"overlay\",\"size\":10,\"solidity\":0.2},\"type\":\"scatter\"}],\"parcoords\":[{\"type\":\"parcoords\",\"line\":{\"colorbar\":{\"outlinewidth\":0,\"ticks\":\"\"}}}],\"scatterpolargl\":[{\"type\":\"scatterpolargl\",\"marker\":{\"colorbar\":{\"outlinewidth\":0,\"ticks\":\"\"}}}],\"bar\":[{\"error_x\":{\"color\":\"#2a3f5f\"},\"error_y\":{\"color\":\"#2a3f5f\"},\"marker\":{\"line\":{\"color\":\"#E5ECF6\",\"width\":0.5},\"pattern\":{\"fillmode\":\"overlay\",\"size\":10,\"solidity\":0.2}},\"type\":\"bar\"}],\"scattergeo\":[{\"type\":\"scattergeo\",\"marker\":{\"colorbar\":{\"outlinewidth\":0,\"ticks\":\"\"}}}],\"scatterpolar\":[{\"type\":\"scatterpolar\",\"marker\":{\"colorbar\":{\"outlinewidth\":0,\"ticks\":\"\"}}}],\"histogram\":[{\"marker\":{\"pattern\":{\"fillmode\":\"overlay\",\"size\":10,\"solidity\":0.2}},\"type\":\"histogram\"}],\"scattergl\":[{\"type\":\"scattergl\",\"marker\":{\"colorbar\":{\"outlinewidth\":0,\"ticks\":\"\"}}}],\"scatter3d\":[{\"type\":\"scatter3d\",\"line\":{\"colorbar\":{\"outlinewidth\":0,\"ticks\":\"\"}},\"marker\":{\"colorbar\":{\"outlinewidth\":0,\"ticks\":\"\"}}}],\"scattermapbox\":[{\"type\":\"scattermapbox\",\"marker\":{\"colorbar\":{\"outlinewidth\":0,\"ticks\":\"\"}}}],\"scatterternary\":[{\"type\":\"scatterternary\",\"marker\":{\"colorbar\":{\"outlinewidth\":0,\"ticks\":\"\"}}}],\"scattercarpet\":[{\"type\":\"scattercarpet\",\"marker\":{\"colorbar\":{\"outlinewidth\":0,\"ticks\":\"\"}}}],\"carpet\":[{\"aaxis\":{\"endlinecolor\":\"#2a3f5f\",\"gridcolor\":\"white\",\"linecolor\":\"white\",\"minorgridcolor\":\"white\",\"startlinecolor\":\"#2a3f5f\"},\"baxis\":{\"endlinecolor\":\"#2a3f5f\",\"gridcolor\":\"white\",\"linecolor\":\"white\",\"minorgridcolor\":\"white\",\"startlinecolor\":\"#2a3f5f\"},\"type\":\"carpet\"}],\"table\":[{\"cells\":{\"fill\":{\"color\":\"#EBF0F8\"},\"line\":{\"color\":\"white\"}},\"header\":{\"fill\":{\"color\":\"#C8D4E3\"},\"line\":{\"color\":\"white\"}},\"type\":\"table\"}],\"barpolar\":[{\"marker\":{\"line\":{\"color\":\"#E5ECF6\",\"width\":0.5},\"pattern\":{\"fillmode\":\"overlay\",\"size\":10,\"solidity\":0.2}},\"type\":\"barpolar\"}],\"pie\":[{\"automargin\":true,\"type\":\"pie\"}]},\"layout\":{\"autotypenumbers\":\"strict\",\"colorway\":[\"#636efa\",\"#EF553B\",\"#00cc96\",\"#ab63fa\",\"#FFA15A\",\"#19d3f3\",\"#FF6692\",\"#B6E880\",\"#FF97FF\",\"#FECB52\"],\"font\":{\"color\":\"#2a3f5f\"},\"hovermode\":\"closest\",\"hoverlabel\":{\"align\":\"left\"},\"paper_bgcolor\":\"white\",\"plot_bgcolor\":\"#E5ECF6\",\"polar\":{\"bgcolor\":\"#E5ECF6\",\"angularaxis\":{\"gridcolor\":\"white\",\"linecolor\":\"white\",\"ticks\":\"\"},\"radialaxis\":{\"gridcolor\":\"white\",\"linecolor\":\"white\",\"ticks\":\"\"}},\"ternary\":{\"bgcolor\":\"#E5ECF6\",\"aaxis\":{\"gridcolor\":\"white\",\"linecolor\":\"white\",\"ticks\":\"\"},\"baxis\":{\"gridcolor\":\"white\",\"linecolor\":\"white\",\"ticks\":\"\"},\"caxis\":{\"gridcolor\":\"white\",\"linecolor\":\"white\",\"ticks\":\"\"}},\"coloraxis\":{\"colorbar\":{\"outlinewidth\":0,\"ticks\":\"\"}},\"colorscale\":{\"sequential\":[[0.0,\"#0d0887\"],[0.1111111111111111,\"#46039f\"],[0.2222222222222222,\"#7201a8\"],[0.3333333333333333,\"#9c179e\"],[0.4444444444444444,\"#bd3786\"],[0.5555555555555556,\"#d8576b\"],[0.6666666666666666,\"#ed7953\"],[0.7777777777777778,\"#fb9f3a\"],[0.8888888888888888,\"#fdca26\"],[1.0,\"#f0f921\"]],\"sequentialminus\":[[0.0,\"#0d0887\"],[0.1111111111111111,\"#46039f\"],[0.2222222222222222,\"#7201a8\"],[0.3333333333333333,\"#9c179e\"],[0.4444444444444444,\"#bd3786\"],[0.5555555555555556,\"#d8576b\"],[0.6666666666666666,\"#ed7953\"],[0.7777777777777778,\"#fb9f3a\"],[0.8888888888888888,\"#fdca26\"],[1.0,\"#f0f921\"]],\"diverging\":[[0,\"#8e0152\"],[0.1,\"#c51b7d\"],[0.2,\"#de77ae\"],[0.3,\"#f1b6da\"],[0.4,\"#fde0ef\"],[0.5,\"#f7f7f7\"],[0.6,\"#e6f5d0\"],[0.7,\"#b8e186\"],[0.8,\"#7fbc41\"],[0.9,\"#4d9221\"],[1,\"#276419\"]]},\"xaxis\":{\"gridcolor\":\"white\",\"linecolor\":\"white\",\"ticks\":\"\",\"title\":{\"standoff\":15},\"zerolinecolor\":\"white\",\"automargin\":true,\"zerolinewidth\":2},\"yaxis\":{\"gridcolor\":\"white\",\"linecolor\":\"white\",\"ticks\":\"\",\"title\":{\"standoff\":15},\"zerolinecolor\":\"white\",\"automargin\":true,\"zerolinewidth\":2},\"scene\":{\"xaxis\":{\"backgroundcolor\":\"#E5ECF6\",\"gridcolor\":\"white\",\"linecolor\":\"white\",\"showbackground\":true,\"ticks\":\"\",\"zerolinecolor\":\"white\",\"gridwidth\":2},\"yaxis\":{\"backgroundcolor\":\"#E5ECF6\",\"gridcolor\":\"white\",\"linecolor\":\"white\",\"showbackground\":true,\"ticks\":\"\",\"zerolinecolor\":\"white\",\"gridwidth\":2},\"zaxis\":{\"backgroundcolor\":\"#E5ECF6\",\"gridcolor\":\"white\",\"linecolor\":\"white\",\"showbackground\":true,\"ticks\":\"\",\"zerolinecolor\":\"white\",\"gridwidth\":2}},\"shapedefaults\":{\"line\":{\"color\":\"#2a3f5f\"}},\"annotationdefaults\":{\"arrowcolor\":\"#2a3f5f\",\"arrowhead\":0,\"arrowwidth\":1},\"geo\":{\"bgcolor\":\"white\",\"landcolor\":\"#E5ECF6\",\"subunitcolor\":\"white\",\"showland\":true,\"showlakes\":true,\"lakecolor\":\"white\"},\"title\":{\"x\":0.05},\"mapbox\":{\"style\":\"light\"}}},\"legend\":{\"tracegroupgap\":0},\"title\":{\"text\":\"Data distribution\"},\"piecolorway\":[\"#3366CC\",\"#DC3912\",\"#FF9900\",\"#109618\",\"#990099\",\"#0099C6\",\"#DD4477\",\"#66AA00\",\"#B82E2E\",\"#316395\"],\"height\":400,\"width\":400},                        {\"responsive\": true}                    ).then(function(){\n",
       "                            \n",
       "var gd = document.getElementById('655a2bb7-e907-4a7a-bd1a-8d850153678c');\n",
       "var x = new MutationObserver(function (mutations, observer) {{\n",
       "        var display = window.getComputedStyle(gd).display;\n",
       "        if (!display || display === 'none') {{\n",
       "            console.log([gd, 'removed!']);\n",
       "            Plotly.purge(gd);\n",
       "            observer.disconnect();\n",
       "        }}\n",
       "}});\n",
       "\n",
       "// Listen for the removal of the full notebook cells\n",
       "var notebookContainer = gd.closest('#notebook-container');\n",
       "if (notebookContainer) {{\n",
       "    x.observe(notebookContainer, {childList: true});\n",
       "}}\n",
       "\n",
       "// Listen for the clearing of the current output cell\n",
       "var outputEl = gd.closest('.output');\n",
       "if (outputEl) {{\n",
       "    x.observe(outputEl, {childList: true});\n",
       "}}\n",
       "\n",
       "                        })                };                });            </script>        </div>"
      ]
     },
     "metadata": {},
     "output_type": "display_data"
    }
   ],
   "source": [
    "\n",
    "fig = px.pie(df, names='Category Area', title='Data distribution',\n",
    "             color_discrete_sequence=px.colors.qualitative.G10) # Color: https://plotly.com/python/discrete-color/\n",
    "\n",
    "fig.update_layout(height=400, width=400)\n",
    "fig.show()"
   ]
  },
  {
   "cell_type": "code",
   "execution_count": 53,
   "metadata": {},
   "outputs": [
    {
     "data": {
      "application/vnd.plotly.v1+json": {
       "config": {
        "plotlyServerURL": "https://plot.ly"
       },
       "data": [
        {
         "domain": {
          "x": [
           0,
           1
          ],
          "y": [
           0,
           1
          ]
         },
         "hovertemplate": "Category=%{label}<extra></extra>",
         "labels": [
          "Data Science",
          "Data Science",
          "Data Science",
          "Data Science",
          "Data Science",
          "Data Science",
          "Data Science",
          "Data Science",
          "Data Science",
          "Data Science",
          "Data Science",
          "Data Science",
          "Data Science",
          "Data Science",
          "Data Science",
          "Data Science",
          "Data Science",
          "Data Science",
          "Data Science",
          "Data Science",
          "Data Science",
          "Data Science",
          "Data Science",
          "Data Science",
          "Data Science",
          "Data Science",
          "Data Science",
          "Data Science",
          "Data Science",
          "Data Science",
          "Data Science",
          "Data Science",
          "Data Science",
          "Data Science",
          "Data Science",
          "Data Science",
          "Data Science",
          "Data Science",
          "Data Science",
          "Data Science",
          "Web Designing",
          "Web Designing",
          "Web Designing",
          "Web Designing",
          "Web Designing",
          "Web Designing",
          "Web Designing",
          "Web Designing",
          "Web Designing",
          "Web Designing",
          "Web Designing",
          "Web Designing",
          "Web Designing",
          "Web Designing",
          "Web Designing",
          "Web Designing",
          "Web Designing",
          "Web Designing",
          "Web Designing",
          "Web Designing",
          "Web Designing",
          "Web Designing",
          "Web Designing",
          "Web Designing",
          "Web Designing",
          "Web Designing",
          "Web Designing",
          "Web Designing",
          "Web Designing",
          "Web Designing",
          "Web Designing",
          "Web Designing",
          "Web Designing",
          "Web Designing",
          "Web Designing",
          "Web Designing",
          "Web Designing",
          "Web Designing",
          "Web Designing",
          "Web Designing",
          "Web Designing",
          "Web Designing",
          "Web Designing",
          "Web Designing",
          "Web Designing",
          "Java Developer",
          "Java Developer",
          "Java Developer",
          "Java Developer",
          "Java Developer",
          "Java Developer",
          "Java Developer",
          "Java Developer",
          "Java Developer",
          "Java Developer",
          "Java Developer",
          "Java Developer",
          "Java Developer",
          "Java Developer",
          "Java Developer",
          "Java Developer",
          "Java Developer",
          "Java Developer",
          "Java Developer",
          "Java Developer",
          "Java Developer",
          "Java Developer",
          "Java Developer",
          "Java Developer",
          "Java Developer",
          "Java Developer",
          "Java Developer",
          "Java Developer",
          "Java Developer",
          "Java Developer",
          "Java Developer",
          "Java Developer",
          "Java Developer",
          "Java Developer",
          "Java Developer",
          "Java Developer",
          "Java Developer",
          "Java Developer",
          "Java Developer",
          "Java Developer",
          "Java Developer",
          "Java Developer",
          "Java Developer",
          "Java Developer",
          "Java Developer",
          "Java Developer",
          "Java Developer",
          "Java Developer",
          "Java Developer",
          "Java Developer",
          "Java Developer",
          "Java Developer",
          "Java Developer",
          "Java Developer",
          "Java Developer",
          "Java Developer",
          "Java Developer",
          "Java Developer",
          "Java Developer",
          "Java Developer",
          "Java Developer",
          "Java Developer",
          "Java Developer",
          "Java Developer",
          "Java Developer",
          "Java Developer",
          "Java Developer",
          "Java Developer",
          "Java Developer",
          "Java Developer",
          "Java Developer",
          "Java Developer",
          "Java Developer",
          "Java Developer",
          "Java Developer",
          "Java Developer",
          "Java Developer",
          "Java Developer",
          "Java Developer",
          "Java Developer",
          "Java Developer",
          "Java Developer",
          "Java Developer",
          "Java Developer",
          "SAP Developer",
          "SAP Developer",
          "SAP Developer",
          "SAP Developer",
          "SAP Developer",
          "SAP Developer",
          "SAP Developer",
          "SAP Developer",
          "SAP Developer",
          "SAP Developer",
          "SAP Developer",
          "SAP Developer",
          "SAP Developer",
          "SAP Developer",
          "SAP Developer",
          "SAP Developer",
          "SAP Developer",
          "SAP Developer",
          "SAP Developer",
          "SAP Developer",
          "SAP Developer",
          "SAP Developer",
          "SAP Developer",
          "SAP Developer",
          "Automation Testing",
          "Automation Testing",
          "Automation Testing",
          "Automation Testing",
          "Automation Testing",
          "Automation Testing",
          "Automation Testing",
          "Automation Testing",
          "Automation Testing",
          "Automation Testing",
          "Automation Testing",
          "Automation Testing",
          "Automation Testing",
          "Automation Testing",
          "Automation Testing",
          "Automation Testing",
          "Automation Testing",
          "Automation Testing",
          "Automation Testing",
          "Automation Testing",
          "Automation Testing",
          "Automation Testing",
          "Automation Testing",
          "Automation Testing",
          "Automation Testing",
          "Automation Testing",
          "Python Developer",
          "Python Developer",
          "Python Developer",
          "Python Developer",
          "Python Developer",
          "Python Developer",
          "Python Developer",
          "Python Developer",
          "Python Developer",
          "Python Developer",
          "Python Developer",
          "Python Developer",
          "Python Developer",
          "Python Developer",
          "Python Developer",
          "Python Developer",
          "Python Developer",
          "Python Developer",
          "Python Developer",
          "Python Developer",
          "Python Developer",
          "Python Developer",
          "Python Developer",
          "Python Developer",
          "Python Developer",
          "Python Developer",
          "Python Developer",
          "Python Developer",
          "Python Developer",
          "Python Developer",
          "Python Developer",
          "Python Developer",
          "Python Developer",
          "Python Developer",
          "Python Developer",
          "Python Developer",
          "Python Developer",
          "Python Developer",
          "Python Developer",
          "Python Developer",
          "Python Developer",
          "Python Developer",
          "Python Developer",
          "Python Developer",
          "Python Developer",
          "Python Developer",
          "Python Developer",
          "Python Developer",
          "DevOps Engineer",
          "DevOps Engineer",
          "DevOps Engineer",
          "DevOps Engineer",
          "DevOps Engineer",
          "DevOps Engineer",
          "DevOps Engineer",
          "DevOps Engineer",
          "DevOps Engineer",
          "DevOps Engineer",
          "DevOps Engineer",
          "DevOps Engineer",
          "DevOps Engineer",
          "DevOps Engineer",
          "DevOps Engineer",
          "DevOps Engineer",
          "DevOps Engineer",
          "DevOps Engineer",
          "DevOps Engineer",
          "DevOps Engineer",
          "DevOps Engineer",
          "DevOps Engineer",
          "DevOps Engineer",
          "DevOps Engineer",
          "DevOps Engineer",
          "DevOps Engineer",
          "DevOps Engineer",
          "DevOps Engineer",
          "DevOps Engineer",
          "DevOps Engineer",
          "DevOps Engineer",
          "DevOps Engineer",
          "DevOps Engineer",
          "DevOps Engineer",
          "DevOps Engineer",
          "DevOps Engineer",
          "DevOps Engineer",
          "DevOps Engineer",
          "DevOps Engineer",
          "DevOps Engineer",
          "DevOps Engineer",
          "DevOps Engineer",
          "DevOps Engineer",
          "DevOps Engineer",
          "DevOps Engineer",
          "DevOps Engineer",
          "DevOps Engineer",
          "DevOps Engineer",
          "DevOps Engineer",
          "DevOps Engineer",
          "DevOps Engineer",
          "DevOps Engineer",
          "DevOps Engineer",
          "DevOps Engineer",
          "DevOps Engineer",
          "Network Security Engineer",
          "Network Security Engineer",
          "Network Security Engineer",
          "Network Security Engineer",
          "Network Security Engineer",
          "Network Security Engineer",
          "Network Security Engineer",
          "Network Security Engineer",
          "Network Security Engineer",
          "Network Security Engineer",
          "Network Security Engineer",
          "Network Security Engineer",
          "Network Security Engineer",
          "Network Security Engineer",
          "Network Security Engineer",
          "Network Security Engineer",
          "Network Security Engineer",
          "Network Security Engineer",
          "Network Security Engineer",
          "Network Security Engineer",
          "Network Security Engineer",
          "Network Security Engineer",
          "Network Security Engineer",
          "Network Security Engineer",
          "Network Security Engineer",
          "Database",
          "Database",
          "Database",
          "Database",
          "Database",
          "Database",
          "Database",
          "Database",
          "Database",
          "Database",
          "Database",
          "Database",
          "Database",
          "Database",
          "Database",
          "Database",
          "Database",
          "Database",
          "Database",
          "Database",
          "Database",
          "Database",
          "Database",
          "Database",
          "Database",
          "Database",
          "Database",
          "Database",
          "Database",
          "Database",
          "Database",
          "Database",
          "Database",
          "Hadoop",
          "Hadoop",
          "Hadoop",
          "Hadoop",
          "Hadoop",
          "Hadoop",
          "Hadoop",
          "Hadoop",
          "Hadoop",
          "Hadoop",
          "Hadoop",
          "Hadoop",
          "Hadoop",
          "Hadoop",
          "Hadoop",
          "Hadoop",
          "Hadoop",
          "Hadoop",
          "Hadoop",
          "Hadoop",
          "Hadoop",
          "Hadoop",
          "Hadoop",
          "Hadoop",
          "Hadoop",
          "Hadoop",
          "Hadoop",
          "Hadoop",
          "Hadoop",
          "Hadoop",
          "Hadoop",
          "Hadoop",
          "Hadoop",
          "Hadoop",
          "Hadoop",
          "Hadoop",
          "Hadoop",
          "Hadoop",
          "Hadoop",
          "Hadoop",
          "Hadoop",
          "Hadoop",
          "ETL Developer",
          "ETL Developer",
          "ETL Developer",
          "ETL Developer",
          "ETL Developer",
          "ETL Developer",
          "ETL Developer",
          "ETL Developer",
          "ETL Developer",
          "ETL Developer",
          "ETL Developer",
          "ETL Developer",
          "ETL Developer",
          "ETL Developer",
          "ETL Developer",
          "ETL Developer",
          "ETL Developer",
          "ETL Developer",
          "ETL Developer",
          "ETL Developer",
          "ETL Developer",
          "ETL Developer",
          "ETL Developer",
          "ETL Developer",
          "ETL Developer",
          "ETL Developer",
          "ETL Developer",
          "ETL Developer",
          "ETL Developer",
          "ETL Developer",
          "ETL Developer",
          "ETL Developer",
          "ETL Developer",
          "ETL Developer",
          "ETL Developer",
          "ETL Developer",
          "ETL Developer",
          "ETL Developer",
          "ETL Developer",
          "ETL Developer",
          "DotNet Developer",
          "DotNet Developer",
          "DotNet Developer",
          "DotNet Developer",
          "DotNet Developer",
          "DotNet Developer",
          "DotNet Developer",
          "DotNet Developer",
          "DotNet Developer",
          "DotNet Developer",
          "DotNet Developer",
          "DotNet Developer",
          "DotNet Developer",
          "DotNet Developer",
          "DotNet Developer",
          "DotNet Developer",
          "DotNet Developer",
          "DotNet Developer",
          "DotNet Developer",
          "DotNet Developer",
          "DotNet Developer",
          "DotNet Developer",
          "DotNet Developer",
          "DotNet Developer",
          "DotNet Developer",
          "DotNet Developer",
          "DotNet Developer",
          "DotNet Developer",
          "Blockchain",
          "Blockchain",
          "Blockchain",
          "Blockchain",
          "Blockchain",
          "Blockchain",
          "Blockchain",
          "Blockchain",
          "Blockchain",
          "Blockchain",
          "Blockchain",
          "Blockchain",
          "Blockchain",
          "Blockchain",
          "Blockchain",
          "Blockchain",
          "Blockchain",
          "Blockchain",
          "Blockchain",
          "Blockchain",
          "Blockchain",
          "Blockchain",
          "Blockchain",
          "Blockchain",
          "Blockchain",
          "Blockchain",
          "Blockchain",
          "Blockchain",
          "Blockchain",
          "Blockchain",
          "Blockchain",
          "Blockchain",
          "Blockchain",
          "Blockchain",
          "Blockchain",
          "Blockchain",
          "Blockchain",
          "Blockchain",
          "Blockchain",
          "Blockchain",
          "Testing",
          "Testing",
          "Testing",
          "Testing",
          "Testing",
          "Testing",
          "Testing",
          "Testing",
          "Testing",
          "Testing",
          "Testing",
          "Testing",
          "Testing",
          "Testing",
          "Testing",
          "Testing",
          "Testing",
          "Testing",
          "Testing",
          "Testing",
          "Testing",
          "Testing",
          "Testing",
          "Testing",
          "Testing",
          "Testing",
          "Testing",
          "Testing",
          "Testing",
          "Testing",
          "Testing",
          "Testing",
          "Testing",
          "Testing",
          "Testing",
          "Testing",
          "Testing",
          "Testing",
          "Testing",
          "Testing",
          "Testing",
          "Testing",
          "Testing",
          "Testing",
          "Testing",
          "Testing",
          "Testing",
          "Testing",
          "Testing",
          "Testing",
          "Testing",
          "Testing",
          "Testing",
          "Testing",
          "Testing",
          "Testing",
          "Testing",
          "Testing",
          "Testing",
          "Testing",
          "Testing",
          "Testing",
          "Testing",
          "Testing",
          "Testing",
          "Testing",
          "Testing",
          "Testing",
          "Testing",
          "Testing"
         ],
         "legendgroup": "",
         "name": "",
         "showlegend": true,
         "type": "pie"
        }
       ],
       "layout": {
        "autosize": true,
        "legend": {
         "tracegroupgap": 0
        },
        "piecolorway": [
         "#1F77B4",
         "#FF7F0E",
         "#2CA02C",
         "#D62728",
         "#9467BD",
         "#8C564B",
         "#E377C2",
         "#7F7F7F",
         "#BCBD22",
         "#17BECF"
        ],
        "template": {
         "data": {
          "bar": [
           {
            "error_x": {
             "color": "#2a3f5f"
            },
            "error_y": {
             "color": "#2a3f5f"
            },
            "marker": {
             "line": {
              "color": "#E5ECF6",
              "width": 0.5
             },
             "pattern": {
              "fillmode": "overlay",
              "size": 10,
              "solidity": 0.2
             }
            },
            "type": "bar"
           }
          ],
          "barpolar": [
           {
            "marker": {
             "line": {
              "color": "#E5ECF6",
              "width": 0.5
             },
             "pattern": {
              "fillmode": "overlay",
              "size": 10,
              "solidity": 0.2
             }
            },
            "type": "barpolar"
           }
          ],
          "carpet": [
           {
            "aaxis": {
             "endlinecolor": "#2a3f5f",
             "gridcolor": "white",
             "linecolor": "white",
             "minorgridcolor": "white",
             "startlinecolor": "#2a3f5f"
            },
            "baxis": {
             "endlinecolor": "#2a3f5f",
             "gridcolor": "white",
             "linecolor": "white",
             "minorgridcolor": "white",
             "startlinecolor": "#2a3f5f"
            },
            "type": "carpet"
           }
          ],
          "choropleth": [
           {
            "colorbar": {
             "outlinewidth": 0,
             "ticks": ""
            },
            "type": "choropleth"
           }
          ],
          "contour": [
           {
            "colorbar": {
             "outlinewidth": 0,
             "ticks": ""
            },
            "colorscale": [
             [
              0,
              "#0d0887"
             ],
             [
              0.1111111111111111,
              "#46039f"
             ],
             [
              0.2222222222222222,
              "#7201a8"
             ],
             [
              0.3333333333333333,
              "#9c179e"
             ],
             [
              0.4444444444444444,
              "#bd3786"
             ],
             [
              0.5555555555555556,
              "#d8576b"
             ],
             [
              0.6666666666666666,
              "#ed7953"
             ],
             [
              0.7777777777777778,
              "#fb9f3a"
             ],
             [
              0.8888888888888888,
              "#fdca26"
             ],
             [
              1,
              "#f0f921"
             ]
            ],
            "type": "contour"
           }
          ],
          "contourcarpet": [
           {
            "colorbar": {
             "outlinewidth": 0,
             "ticks": ""
            },
            "type": "contourcarpet"
           }
          ],
          "heatmap": [
           {
            "colorbar": {
             "outlinewidth": 0,
             "ticks": ""
            },
            "colorscale": [
             [
              0,
              "#0d0887"
             ],
             [
              0.1111111111111111,
              "#46039f"
             ],
             [
              0.2222222222222222,
              "#7201a8"
             ],
             [
              0.3333333333333333,
              "#9c179e"
             ],
             [
              0.4444444444444444,
              "#bd3786"
             ],
             [
              0.5555555555555556,
              "#d8576b"
             ],
             [
              0.6666666666666666,
              "#ed7953"
             ],
             [
              0.7777777777777778,
              "#fb9f3a"
             ],
             [
              0.8888888888888888,
              "#fdca26"
             ],
             [
              1,
              "#f0f921"
             ]
            ],
            "type": "heatmap"
           }
          ],
          "heatmapgl": [
           {
            "colorbar": {
             "outlinewidth": 0,
             "ticks": ""
            },
            "colorscale": [
             [
              0,
              "#0d0887"
             ],
             [
              0.1111111111111111,
              "#46039f"
             ],
             [
              0.2222222222222222,
              "#7201a8"
             ],
             [
              0.3333333333333333,
              "#9c179e"
             ],
             [
              0.4444444444444444,
              "#bd3786"
             ],
             [
              0.5555555555555556,
              "#d8576b"
             ],
             [
              0.6666666666666666,
              "#ed7953"
             ],
             [
              0.7777777777777778,
              "#fb9f3a"
             ],
             [
              0.8888888888888888,
              "#fdca26"
             ],
             [
              1,
              "#f0f921"
             ]
            ],
            "type": "heatmapgl"
           }
          ],
          "histogram": [
           {
            "marker": {
             "pattern": {
              "fillmode": "overlay",
              "size": 10,
              "solidity": 0.2
             }
            },
            "type": "histogram"
           }
          ],
          "histogram2d": [
           {
            "colorbar": {
             "outlinewidth": 0,
             "ticks": ""
            },
            "colorscale": [
             [
              0,
              "#0d0887"
             ],
             [
              0.1111111111111111,
              "#46039f"
             ],
             [
              0.2222222222222222,
              "#7201a8"
             ],
             [
              0.3333333333333333,
              "#9c179e"
             ],
             [
              0.4444444444444444,
              "#bd3786"
             ],
             [
              0.5555555555555556,
              "#d8576b"
             ],
             [
              0.6666666666666666,
              "#ed7953"
             ],
             [
              0.7777777777777778,
              "#fb9f3a"
             ],
             [
              0.8888888888888888,
              "#fdca26"
             ],
             [
              1,
              "#f0f921"
             ]
            ],
            "type": "histogram2d"
           }
          ],
          "histogram2dcontour": [
           {
            "colorbar": {
             "outlinewidth": 0,
             "ticks": ""
            },
            "colorscale": [
             [
              0,
              "#0d0887"
             ],
             [
              0.1111111111111111,
              "#46039f"
             ],
             [
              0.2222222222222222,
              "#7201a8"
             ],
             [
              0.3333333333333333,
              "#9c179e"
             ],
             [
              0.4444444444444444,
              "#bd3786"
             ],
             [
              0.5555555555555556,
              "#d8576b"
             ],
             [
              0.6666666666666666,
              "#ed7953"
             ],
             [
              0.7777777777777778,
              "#fb9f3a"
             ],
             [
              0.8888888888888888,
              "#fdca26"
             ],
             [
              1,
              "#f0f921"
             ]
            ],
            "type": "histogram2dcontour"
           }
          ],
          "mesh3d": [
           {
            "colorbar": {
             "outlinewidth": 0,
             "ticks": ""
            },
            "type": "mesh3d"
           }
          ],
          "parcoords": [
           {
            "line": {
             "colorbar": {
              "outlinewidth": 0,
              "ticks": ""
             }
            },
            "type": "parcoords"
           }
          ],
          "pie": [
           {
            "automargin": true,
            "type": "pie"
           }
          ],
          "scatter": [
           {
            "fillpattern": {
             "fillmode": "overlay",
             "size": 10,
             "solidity": 0.2
            },
            "type": "scatter"
           }
          ],
          "scatter3d": [
           {
            "line": {
             "colorbar": {
              "outlinewidth": 0,
              "ticks": ""
             }
            },
            "marker": {
             "colorbar": {
              "outlinewidth": 0,
              "ticks": ""
             }
            },
            "type": "scatter3d"
           }
          ],
          "scattercarpet": [
           {
            "marker": {
             "colorbar": {
              "outlinewidth": 0,
              "ticks": ""
             }
            },
            "type": "scattercarpet"
           }
          ],
          "scattergeo": [
           {
            "marker": {
             "colorbar": {
              "outlinewidth": 0,
              "ticks": ""
             }
            },
            "type": "scattergeo"
           }
          ],
          "scattergl": [
           {
            "marker": {
             "colorbar": {
              "outlinewidth": 0,
              "ticks": ""
             }
            },
            "type": "scattergl"
           }
          ],
          "scattermapbox": [
           {
            "marker": {
             "colorbar": {
              "outlinewidth": 0,
              "ticks": ""
             }
            },
            "type": "scattermapbox"
           }
          ],
          "scatterpolar": [
           {
            "marker": {
             "colorbar": {
              "outlinewidth": 0,
              "ticks": ""
             }
            },
            "type": "scatterpolar"
           }
          ],
          "scatterpolargl": [
           {
            "marker": {
             "colorbar": {
              "outlinewidth": 0,
              "ticks": ""
             }
            },
            "type": "scatterpolargl"
           }
          ],
          "scatterternary": [
           {
            "marker": {
             "colorbar": {
              "outlinewidth": 0,
              "ticks": ""
             }
            },
            "type": "scatterternary"
           }
          ],
          "surface": [
           {
            "colorbar": {
             "outlinewidth": 0,
             "ticks": ""
            },
            "colorscale": [
             [
              0,
              "#0d0887"
             ],
             [
              0.1111111111111111,
              "#46039f"
             ],
             [
              0.2222222222222222,
              "#7201a8"
             ],
             [
              0.3333333333333333,
              "#9c179e"
             ],
             [
              0.4444444444444444,
              "#bd3786"
             ],
             [
              0.5555555555555556,
              "#d8576b"
             ],
             [
              0.6666666666666666,
              "#ed7953"
             ],
             [
              0.7777777777777778,
              "#fb9f3a"
             ],
             [
              0.8888888888888888,
              "#fdca26"
             ],
             [
              1,
              "#f0f921"
             ]
            ],
            "type": "surface"
           }
          ],
          "table": [
           {
            "cells": {
             "fill": {
              "color": "#EBF0F8"
             },
             "line": {
              "color": "white"
             }
            },
            "header": {
             "fill": {
              "color": "#C8D4E3"
             },
             "line": {
              "color": "white"
             }
            },
            "type": "table"
           }
          ]
         },
         "layout": {
          "annotationdefaults": {
           "arrowcolor": "#2a3f5f",
           "arrowhead": 0,
           "arrowwidth": 1
          },
          "autotypenumbers": "strict",
          "coloraxis": {
           "colorbar": {
            "outlinewidth": 0,
            "ticks": ""
           }
          },
          "colorscale": {
           "diverging": [
            [
             0,
             "#8e0152"
            ],
            [
             0.1,
             "#c51b7d"
            ],
            [
             0.2,
             "#de77ae"
            ],
            [
             0.3,
             "#f1b6da"
            ],
            [
             0.4,
             "#fde0ef"
            ],
            [
             0.5,
             "#f7f7f7"
            ],
            [
             0.6,
             "#e6f5d0"
            ],
            [
             0.7,
             "#b8e186"
            ],
            [
             0.8,
             "#7fbc41"
            ],
            [
             0.9,
             "#4d9221"
            ],
            [
             1,
             "#276419"
            ]
           ],
           "sequential": [
            [
             0,
             "#0d0887"
            ],
            [
             0.1111111111111111,
             "#46039f"
            ],
            [
             0.2222222222222222,
             "#7201a8"
            ],
            [
             0.3333333333333333,
             "#9c179e"
            ],
            [
             0.4444444444444444,
             "#bd3786"
            ],
            [
             0.5555555555555556,
             "#d8576b"
            ],
            [
             0.6666666666666666,
             "#ed7953"
            ],
            [
             0.7777777777777778,
             "#fb9f3a"
            ],
            [
             0.8888888888888888,
             "#fdca26"
            ],
            [
             1,
             "#f0f921"
            ]
           ],
           "sequentialminus": [
            [
             0,
             "#0d0887"
            ],
            [
             0.1111111111111111,
             "#46039f"
            ],
            [
             0.2222222222222222,
             "#7201a8"
            ],
            [
             0.3333333333333333,
             "#9c179e"
            ],
            [
             0.4444444444444444,
             "#bd3786"
            ],
            [
             0.5555555555555556,
             "#d8576b"
            ],
            [
             0.6666666666666666,
             "#ed7953"
            ],
            [
             0.7777777777777778,
             "#fb9f3a"
            ],
            [
             0.8888888888888888,
             "#fdca26"
            ],
            [
             1,
             "#f0f921"
            ]
           ]
          },
          "colorway": [
           "#636efa",
           "#EF553B",
           "#00cc96",
           "#ab63fa",
           "#FFA15A",
           "#19d3f3",
           "#FF6692",
           "#B6E880",
           "#FF97FF",
           "#FECB52"
          ],
          "font": {
           "color": "#2a3f5f"
          },
          "geo": {
           "bgcolor": "white",
           "lakecolor": "white",
           "landcolor": "#E5ECF6",
           "showlakes": true,
           "showland": true,
           "subunitcolor": "white"
          },
          "hoverlabel": {
           "align": "left"
          },
          "hovermode": "closest",
          "mapbox": {
           "style": "light"
          },
          "paper_bgcolor": "white",
          "plot_bgcolor": "#E5ECF6",
          "polar": {
           "angularaxis": {
            "gridcolor": "white",
            "linecolor": "white",
            "ticks": ""
           },
           "bgcolor": "#E5ECF6",
           "radialaxis": {
            "gridcolor": "white",
            "linecolor": "white",
            "ticks": ""
           }
          },
          "scene": {
           "xaxis": {
            "backgroundcolor": "#E5ECF6",
            "gridcolor": "white",
            "gridwidth": 2,
            "linecolor": "white",
            "showbackground": true,
            "ticks": "",
            "zerolinecolor": "white"
           },
           "yaxis": {
            "backgroundcolor": "#E5ECF6",
            "gridcolor": "white",
            "gridwidth": 2,
            "linecolor": "white",
            "showbackground": true,
            "ticks": "",
            "zerolinecolor": "white"
           },
           "zaxis": {
            "backgroundcolor": "#E5ECF6",
            "gridcolor": "white",
            "gridwidth": 2,
            "linecolor": "white",
            "showbackground": true,
            "ticks": "",
            "zerolinecolor": "white"
           }
          },
          "shapedefaults": {
           "line": {
            "color": "#2a3f5f"
           }
          },
          "ternary": {
           "aaxis": {
            "gridcolor": "white",
            "linecolor": "white",
            "ticks": ""
           },
           "baxis": {
            "gridcolor": "white",
            "linecolor": "white",
            "ticks": ""
           },
           "bgcolor": "#E5ECF6",
           "caxis": {
            "gridcolor": "white",
            "linecolor": "white",
            "ticks": ""
           }
          },
          "title": {
           "x": 0.05
          },
          "xaxis": {
           "automargin": true,
           "gridcolor": "white",
           "linecolor": "white",
           "ticks": "",
           "title": {
            "standoff": 15
           },
           "zerolinecolor": "white",
           "zerolinewidth": 2
          },
          "yaxis": {
           "automargin": true,
           "gridcolor": "white",
           "linecolor": "white",
           "ticks": "",
           "title": {
            "standoff": 15
           },
           "zerolinecolor": "white",
           "zerolinewidth": 2
          }
         }
        },
        "title": {
         "text": "Tech category distribution"
        }
       }
      },
      "image/png": "[encoded data removed]",
      "text/html": [
       "<div>                            <div id=\"777a5589-c2b8-4eb7-a939-b8c8ba00f186\" class=\"plotly-graph-div\" style=\"height:525px; width:100%;\"></div>            <script type=\"text/javascript\">                require([\"plotly\"], function(Plotly) {                    window.PLOTLYENV=window.PLOTLYENV || {};                                    if (document.getElementById(\"777a5589-c2b8-4eb7-a939-b8c8ba00f186\")) {                    Plotly.newPlot(                        \"777a5589-c2b8-4eb7-a939-b8c8ba00f186\",                        [{\"domain\":{\"x\":[0.0,1.0],\"y\":[0.0,1.0]},\"hovertemplate\":\"Category=%{label}\\u003cextra\\u003e\\u003c\\u002fextra\\u003e\",\"labels\":[\"Data Science\",\"Data Science\",\"Data Science\",\"Data Science\",\"Data Science\",\"Data Science\",\"Data Science\",\"Data Science\",\"Data Science\",\"Data Science\",\"Data Science\",\"Data Science\",\"Data Science\",\"Data Science\",\"Data Science\",\"Data Science\",\"Data Science\",\"Data Science\",\"Data Science\",\"Data Science\",\"Data Science\",\"Data Science\",\"Data Science\",\"Data Science\",\"Data Science\",\"Data Science\",\"Data Science\",\"Data Science\",\"Data Science\",\"Data Science\",\"Data Science\",\"Data Science\",\"Data Science\",\"Data Science\",\"Data Science\",\"Data Science\",\"Data Science\",\"Data Science\",\"Data Science\",\"Data Science\",\"Web Designing\",\"Web Designing\",\"Web Designing\",\"Web Designing\",\"Web Designing\",\"Web Designing\",\"Web Designing\",\"Web Designing\",\"Web Designing\",\"Web Designing\",\"Web Designing\",\"Web Designing\",\"Web Designing\",\"Web Designing\",\"Web Designing\",\"Web Designing\",\"Web Designing\",\"Web Designing\",\"Web Designing\",\"Web Designing\",\"Web Designing\",\"Web Designing\",\"Web Designing\",\"Web Designing\",\"Web Designing\",\"Web Designing\",\"Web Designing\",\"Web Designing\",\"Web Designing\",\"Web Designing\",\"Web Designing\",\"Web Designing\",\"Web Designing\",\"Web Designing\",\"Web Designing\",\"Web Designing\",\"Web Designing\",\"Web Designing\",\"Web Designing\",\"Web Designing\",\"Web Designing\",\"Web Designing\",\"Web Designing\",\"Web Designing\",\"Web Designing\",\"Java Developer\",\"Java Developer\",\"Java Developer\",\"Java Developer\",\"Java Developer\",\"Java Developer\",\"Java Developer\",\"Java Developer\",\"Java Developer\",\"Java Developer\",\"Java Developer\",\"Java Developer\",\"Java Developer\",\"Java Developer\",\"Java Developer\",\"Java Developer\",\"Java Developer\",\"Java Developer\",\"Java Developer\",\"Java Developer\",\"Java Developer\",\"Java Developer\",\"Java Developer\",\"Java Developer\",\"Java Developer\",\"Java Developer\",\"Java Developer\",\"Java Developer\",\"Java Developer\",\"Java Developer\",\"Java Developer\",\"Java Developer\",\"Java Developer\",\"Java Developer\",\"Java Developer\",\"Java Developer\",\"Java Developer\",\"Java Developer\",\"Java Developer\",\"Java Developer\",\"Java Developer\",\"Java Developer\",\"Java Developer\",\"Java Developer\",\"Java Developer\",\"Java Developer\",\"Java Developer\",\"Java Developer\",\"Java Developer\",\"Java Developer\",\"Java Developer\",\"Java Developer\",\"Java Developer\",\"Java Developer\",\"Java Developer\",\"Java Developer\",\"Java Developer\",\"Java Developer\",\"Java Developer\",\"Java Developer\",\"Java Developer\",\"Java Developer\",\"Java Developer\",\"Java Developer\",\"Java Developer\",\"Java Developer\",\"Java Developer\",\"Java Developer\",\"Java Developer\",\"Java Developer\",\"Java Developer\",\"Java Developer\",\"Java Developer\",\"Java Developer\",\"Java Developer\",\"Java Developer\",\"Java Developer\",\"Java Developer\",\"Java Developer\",\"Java Developer\",\"Java Developer\",\"Java Developer\",\"Java Developer\",\"Java Developer\",\"SAP Developer\",\"SAP Developer\",\"SAP Developer\",\"SAP Developer\",\"SAP Developer\",\"SAP Developer\",\"SAP Developer\",\"SAP Developer\",\"SAP Developer\",\"SAP Developer\",\"SAP Developer\",\"SAP Developer\",\"SAP Developer\",\"SAP Developer\",\"SAP Developer\",\"SAP Developer\",\"SAP Developer\",\"SAP Developer\",\"SAP Developer\",\"SAP Developer\",\"SAP Developer\",\"SAP Developer\",\"SAP Developer\",\"SAP Developer\",\"Automation Testing\",\"Automation Testing\",\"Automation Testing\",\"Automation Testing\",\"Automation Testing\",\"Automation Testing\",\"Automation Testing\",\"Automation Testing\",\"Automation Testing\",\"Automation Testing\",\"Automation Testing\",\"Automation Testing\",\"Automation Testing\",\"Automation Testing\",\"Automation Testing\",\"Automation Testing\",\"Automation Testing\",\"Automation Testing\",\"Automation Testing\",\"Automation Testing\",\"Automation Testing\",\"Automation Testing\",\"Automation Testing\",\"Automation Testing\",\"Automation Testing\",\"Automation Testing\",\"Python Developer\",\"Python Developer\",\"Python Developer\",\"Python Developer\",\"Python Developer\",\"Python Developer\",\"Python Developer\",\"Python Developer\",\"Python Developer\",\"Python Developer\",\"Python Developer\",\"Python Developer\",\"Python Developer\",\"Python Developer\",\"Python Developer\",\"Python Developer\",\"Python Developer\",\"Python Developer\",\"Python Developer\",\"Python Developer\",\"Python Developer\",\"Python Developer\",\"Python Developer\",\"Python Developer\",\"Python Developer\",\"Python Developer\",\"Python Developer\",\"Python Developer\",\"Python Developer\",\"Python Developer\",\"Python Developer\",\"Python Developer\",\"Python Developer\",\"Python Developer\",\"Python Developer\",\"Python Developer\",\"Python Developer\",\"Python Developer\",\"Python Developer\",\"Python Developer\",\"Python Developer\",\"Python Developer\",\"Python Developer\",\"Python Developer\",\"Python Developer\",\"Python Developer\",\"Python Developer\",\"Python Developer\",\"DevOps Engineer\",\"DevOps Engineer\",\"DevOps Engineer\",\"DevOps Engineer\",\"DevOps Engineer\",\"DevOps Engineer\",\"DevOps Engineer\",\"DevOps Engineer\",\"DevOps Engineer\",\"DevOps Engineer\",\"DevOps Engineer\",\"DevOps Engineer\",\"DevOps Engineer\",\"DevOps Engineer\",\"DevOps Engineer\",\"DevOps Engineer\",\"DevOps Engineer\",\"DevOps Engineer\",\"DevOps Engineer\",\"DevOps Engineer\",\"DevOps Engineer\",\"DevOps Engineer\",\"DevOps Engineer\",\"DevOps Engineer\",\"DevOps Engineer\",\"DevOps Engineer\",\"DevOps Engineer\",\"DevOps Engineer\",\"DevOps Engineer\",\"DevOps Engineer\",\"DevOps Engineer\",\"DevOps Engineer\",\"DevOps Engineer\",\"DevOps Engineer\",\"DevOps Engineer\",\"DevOps Engineer\",\"DevOps Engineer\",\"DevOps Engineer\",\"DevOps Engineer\",\"DevOps Engineer\",\"DevOps Engineer\",\"DevOps Engineer\",\"DevOps Engineer\",\"DevOps Engineer\",\"DevOps Engineer\",\"DevOps Engineer\",\"DevOps Engineer\",\"DevOps Engineer\",\"DevOps Engineer\",\"DevOps Engineer\",\"DevOps Engineer\",\"DevOps Engineer\",\"DevOps Engineer\",\"DevOps Engineer\",\"DevOps Engineer\",\"Network Security Engineer\",\"Network Security Engineer\",\"Network Security Engineer\",\"Network Security Engineer\",\"Network Security Engineer\",\"Network Security Engineer\",\"Network Security Engineer\",\"Network Security Engineer\",\"Network Security Engineer\",\"Network Security Engineer\",\"Network Security Engineer\",\"Network Security Engineer\",\"Network Security Engineer\",\"Network Security Engineer\",\"Network Security Engineer\",\"Network Security Engineer\",\"Network Security Engineer\",\"Network Security Engineer\",\"Network Security Engineer\",\"Network Security Engineer\",\"Network Security Engineer\",\"Network Security Engineer\",\"Network Security Engineer\",\"Network Security Engineer\",\"Network Security Engineer\",\"Database\",\"Database\",\"Database\",\"Database\",\"Database\",\"Database\",\"Database\",\"Database\",\"Database\",\"Database\",\"Database\",\"Database\",\"Database\",\"Database\",\"Database\",\"Database\",\"Database\",\"Database\",\"Database\",\"Database\",\"Database\",\"Database\",\"Database\",\"Database\",\"Database\",\"Database\",\"Database\",\"Database\",\"Database\",\"Database\",\"Database\",\"Database\",\"Database\",\"Hadoop\",\"Hadoop\",\"Hadoop\",\"Hadoop\",\"Hadoop\",\"Hadoop\",\"Hadoop\",\"Hadoop\",\"Hadoop\",\"Hadoop\",\"Hadoop\",\"Hadoop\",\"Hadoop\",\"Hadoop\",\"Hadoop\",\"Hadoop\",\"Hadoop\",\"Hadoop\",\"Hadoop\",\"Hadoop\",\"Hadoop\",\"Hadoop\",\"Hadoop\",\"Hadoop\",\"Hadoop\",\"Hadoop\",\"Hadoop\",\"Hadoop\",\"Hadoop\",\"Hadoop\",\"Hadoop\",\"Hadoop\",\"Hadoop\",\"Hadoop\",\"Hadoop\",\"Hadoop\",\"Hadoop\",\"Hadoop\",\"Hadoop\",\"Hadoop\",\"Hadoop\",\"Hadoop\",\"ETL Developer\",\"ETL Developer\",\"ETL Developer\",\"ETL Developer\",\"ETL Developer\",\"ETL Developer\",\"ETL Developer\",\"ETL Developer\",\"ETL Developer\",\"ETL Developer\",\"ETL Developer\",\"ETL Developer\",\"ETL Developer\",\"ETL Developer\",\"ETL Developer\",\"ETL Developer\",\"ETL Developer\",\"ETL Developer\",\"ETL Developer\",\"ETL Developer\",\"ETL Developer\",\"ETL Developer\",\"ETL Developer\",\"ETL Developer\",\"ETL Developer\",\"ETL Developer\",\"ETL Developer\",\"ETL Developer\",\"ETL Developer\",\"ETL Developer\",\"ETL Developer\",\"ETL Developer\",\"ETL Developer\",\"ETL Developer\",\"ETL Developer\",\"ETL Developer\",\"ETL Developer\",\"ETL Developer\",\"ETL Developer\",\"ETL Developer\",\"DotNet Developer\",\"DotNet Developer\",\"DotNet Developer\",\"DotNet Developer\",\"DotNet Developer\",\"DotNet Developer\",\"DotNet Developer\",\"DotNet Developer\",\"DotNet Developer\",\"DotNet Developer\",\"DotNet Developer\",\"DotNet Developer\",\"DotNet Developer\",\"DotNet Developer\",\"DotNet Developer\",\"DotNet Developer\",\"DotNet Developer\",\"DotNet Developer\",\"DotNet Developer\",\"DotNet Developer\",\"DotNet Developer\",\"DotNet Developer\",\"DotNet Developer\",\"DotNet Developer\",\"DotNet Developer\",\"DotNet Developer\",\"DotNet Developer\",\"DotNet Developer\",\"Blockchain\",\"Blockchain\",\"Blockchain\",\"Blockchain\",\"Blockchain\",\"Blockchain\",\"Blockchain\",\"Blockchain\",\"Blockchain\",\"Blockchain\",\"Blockchain\",\"Blockchain\",\"Blockchain\",\"Blockchain\",\"Blockchain\",\"Blockchain\",\"Blockchain\",\"Blockchain\",\"Blockchain\",\"Blockchain\",\"Blockchain\",\"Blockchain\",\"Blockchain\",\"Blockchain\",\"Blockchain\",\"Blockchain\",\"Blockchain\",\"Blockchain\",\"Blockchain\",\"Blockchain\",\"Blockchain\",\"Blockchain\",\"Blockchain\",\"Blockchain\",\"Blockchain\",\"Blockchain\",\"Blockchain\",\"Blockchain\",\"Blockchain\",\"Blockchain\",\"Testing\",\"Testing\",\"Testing\",\"Testing\",\"Testing\",\"Testing\",\"Testing\",\"Testing\",\"Testing\",\"Testing\",\"Testing\",\"Testing\",\"Testing\",\"Testing\",\"Testing\",\"Testing\",\"Testing\",\"Testing\",\"Testing\",\"Testing\",\"Testing\",\"Testing\",\"Testing\",\"Testing\",\"Testing\",\"Testing\",\"Testing\",\"Testing\",\"Testing\",\"Testing\",\"Testing\",\"Testing\",\"Testing\",\"Testing\",\"Testing\",\"Testing\",\"Testing\",\"Testing\",\"Testing\",\"Testing\",\"Testing\",\"Testing\",\"Testing\",\"Testing\",\"Testing\",\"Testing\",\"Testing\",\"Testing\",\"Testing\",\"Testing\",\"Testing\",\"Testing\",\"Testing\",\"Testing\",\"Testing\",\"Testing\",\"Testing\",\"Testing\",\"Testing\",\"Testing\",\"Testing\",\"Testing\",\"Testing\",\"Testing\",\"Testing\",\"Testing\",\"Testing\",\"Testing\",\"Testing\",\"Testing\"],\"legendgroup\":\"\",\"name\":\"\",\"showlegend\":true,\"type\":\"pie\"}],                        {\"template\":{\"data\":{\"histogram2dcontour\":[{\"type\":\"histogram2dcontour\",\"colorbar\":{\"outlinewidth\":0,\"ticks\":\"\"},\"colorscale\":[[0.0,\"#0d0887\"],[0.1111111111111111,\"#46039f\"],[0.2222222222222222,\"#7201a8\"],[0.3333333333333333,\"#9c179e\"],[0.4444444444444444,\"#bd3786\"],[0.5555555555555556,\"#d8576b\"],[0.6666666666666666,\"#ed7953\"],[0.7777777777777778,\"#fb9f3a\"],[0.8888888888888888,\"#fdca26\"],[1.0,\"#f0f921\"]]}],\"choropleth\":[{\"type\":\"choropleth\",\"colorbar\":{\"outlinewidth\":0,\"ticks\":\"\"}}],\"histogram2d\":[{\"type\":\"histogram2d\",\"colorbar\":{\"outlinewidth\":0,\"ticks\":\"\"},\"colorscale\":[[0.0,\"#0d0887\"],[0.1111111111111111,\"#46039f\"],[0.2222222222222222,\"#7201a8\"],[0.3333333333333333,\"#9c179e\"],[0.4444444444444444,\"#bd3786\"],[0.5555555555555556,\"#d8576b\"],[0.6666666666666666,\"#ed7953\"],[0.7777777777777778,\"#fb9f3a\"],[0.8888888888888888,\"#fdca26\"],[1.0,\"#f0f921\"]]}],\"heatmap\":[{\"type\":\"heatmap\",\"colorbar\":{\"outlinewidth\":0,\"ticks\":\"\"},\"colorscale\":[[0.0,\"#0d0887\"],[0.1111111111111111,\"#46039f\"],[0.2222222222222222,\"#7201a8\"],[0.3333333333333333,\"#9c179e\"],[0.4444444444444444,\"#bd3786\"],[0.5555555555555556,\"#d8576b\"],[0.6666666666666666,\"#ed7953\"],[0.7777777777777778,\"#fb9f3a\"],[0.8888888888888888,\"#fdca26\"],[1.0,\"#f0f921\"]]}],\"heatmapgl\":[{\"type\":\"heatmapgl\",\"colorbar\":{\"outlinewidth\":0,\"ticks\":\"\"},\"colorscale\":[[0.0,\"#0d0887\"],[0.1111111111111111,\"#46039f\"],[0.2222222222222222,\"#7201a8\"],[0.3333333333333333,\"#9c179e\"],[0.4444444444444444,\"#bd3786\"],[0.5555555555555556,\"#d8576b\"],[0.6666666666666666,\"#ed7953\"],[0.7777777777777778,\"#fb9f3a\"],[0.8888888888888888,\"#fdca26\"],[1.0,\"#f0f921\"]]}],\"contourcarpet\":[{\"type\":\"contourcarpet\",\"colorbar\":{\"outlinewidth\":0,\"ticks\":\"\"}}],\"contour\":[{\"type\":\"contour\",\"colorbar\":{\"outlinewidth\":0,\"ticks\":\"\"},\"colorscale\":[[0.0,\"#0d0887\"],[0.1111111111111111,\"#46039f\"],[0.2222222222222222,\"#7201a8\"],[0.3333333333333333,\"#9c179e\"],[0.4444444444444444,\"#bd3786\"],[0.5555555555555556,\"#d8576b\"],[0.6666666666666666,\"#ed7953\"],[0.7777777777777778,\"#fb9f3a\"],[0.8888888888888888,\"#fdca26\"],[1.0,\"#f0f921\"]]}],\"surface\":[{\"type\":\"surface\",\"colorbar\":{\"outlinewidth\":0,\"ticks\":\"\"},\"colorscale\":[[0.0,\"#0d0887\"],[0.1111111111111111,\"#46039f\"],[0.2222222222222222,\"#7201a8\"],[0.3333333333333333,\"#9c179e\"],[0.4444444444444444,\"#bd3786\"],[0.5555555555555556,\"#d8576b\"],[0.6666666666666666,\"#ed7953\"],[0.7777777777777778,\"#fb9f3a\"],[0.8888888888888888,\"#fdca26\"],[1.0,\"#f0f921\"]]}],\"mesh3d\":[{\"type\":\"mesh3d\",\"colorbar\":{\"outlinewidth\":0,\"ticks\":\"\"}}],\"scatter\":[{\"fillpattern\":{\"fillmode\":\"overlay\",\"size\":10,\"solidity\":0.2},\"type\":\"scatter\"}],\"parcoords\":[{\"type\":\"parcoords\",\"line\":{\"colorbar\":{\"outlinewidth\":0,\"ticks\":\"\"}}}],\"scatterpolargl\":[{\"type\":\"scatterpolargl\",\"marker\":{\"colorbar\":{\"outlinewidth\":0,\"ticks\":\"\"}}}],\"bar\":[{\"error_x\":{\"color\":\"#2a3f5f\"},\"error_y\":{\"color\":\"#2a3f5f\"},\"marker\":{\"line\":{\"color\":\"#E5ECF6\",\"width\":0.5},\"pattern\":{\"fillmode\":\"overlay\",\"size\":10,\"solidity\":0.2}},\"type\":\"bar\"}],\"scattergeo\":[{\"type\":\"scattergeo\",\"marker\":{\"colorbar\":{\"outlinewidth\":0,\"ticks\":\"\"}}}],\"scatterpolar\":[{\"type\":\"scatterpolar\",\"marker\":{\"colorbar\":{\"outlinewidth\":0,\"ticks\":\"\"}}}],\"histogram\":[{\"marker\":{\"pattern\":{\"fillmode\":\"overlay\",\"size\":10,\"solidity\":0.2}},\"type\":\"histogram\"}],\"scattergl\":[{\"type\":\"scattergl\",\"marker\":{\"colorbar\":{\"outlinewidth\":0,\"ticks\":\"\"}}}],\"scatter3d\":[{\"type\":\"scatter3d\",\"line\":{\"colorbar\":{\"outlinewidth\":0,\"ticks\":\"\"}},\"marker\":{\"colorbar\":{\"outlinewidth\":0,\"ticks\":\"\"}}}],\"scattermapbox\":[{\"type\":\"scattermapbox\",\"marker\":{\"colorbar\":{\"outlinewidth\":0,\"ticks\":\"\"}}}],\"scatterternary\":[{\"type\":\"scatterternary\",\"marker\":{\"colorbar\":{\"outlinewidth\":0,\"ticks\":\"\"}}}],\"scattercarpet\":[{\"type\":\"scattercarpet\",\"marker\":{\"colorbar\":{\"outlinewidth\":0,\"ticks\":\"\"}}}],\"carpet\":[{\"aaxis\":{\"endlinecolor\":\"#2a3f5f\",\"gridcolor\":\"white\",\"linecolor\":\"white\",\"minorgridcolor\":\"white\",\"startlinecolor\":\"#2a3f5f\"},\"baxis\":{\"endlinecolor\":\"#2a3f5f\",\"gridcolor\":\"white\",\"linecolor\":\"white\",\"minorgridcolor\":\"white\",\"startlinecolor\":\"#2a3f5f\"},\"type\":\"carpet\"}],\"table\":[{\"cells\":{\"fill\":{\"color\":\"#EBF0F8\"},\"line\":{\"color\":\"white\"}},\"header\":{\"fill\":{\"color\":\"#C8D4E3\"},\"line\":{\"color\":\"white\"}},\"type\":\"table\"}],\"barpolar\":[{\"marker\":{\"line\":{\"color\":\"#E5ECF6\",\"width\":0.5},\"pattern\":{\"fillmode\":\"overlay\",\"size\":10,\"solidity\":0.2}},\"type\":\"barpolar\"}],\"pie\":[{\"automargin\":true,\"type\":\"pie\"}]},\"layout\":{\"autotypenumbers\":\"strict\",\"colorway\":[\"#636efa\",\"#EF553B\",\"#00cc96\",\"#ab63fa\",\"#FFA15A\",\"#19d3f3\",\"#FF6692\",\"#B6E880\",\"#FF97FF\",\"#FECB52\"],\"font\":{\"color\":\"#2a3f5f\"},\"hovermode\":\"closest\",\"hoverlabel\":{\"align\":\"left\"},\"paper_bgcolor\":\"white\",\"plot_bgcolor\":\"#E5ECF6\",\"polar\":{\"bgcolor\":\"#E5ECF6\",\"angularaxis\":{\"gridcolor\":\"white\",\"linecolor\":\"white\",\"ticks\":\"\"},\"radialaxis\":{\"gridcolor\":\"white\",\"linecolor\":\"white\",\"ticks\":\"\"}},\"ternary\":{\"bgcolor\":\"#E5ECF6\",\"aaxis\":{\"gridcolor\":\"white\",\"linecolor\":\"white\",\"ticks\":\"\"},\"baxis\":{\"gridcolor\":\"white\",\"linecolor\":\"white\",\"ticks\":\"\"},\"caxis\":{\"gridcolor\":\"white\",\"linecolor\":\"white\",\"ticks\":\"\"}},\"coloraxis\":{\"colorbar\":{\"outlinewidth\":0,\"ticks\":\"\"}},\"colorscale\":{\"sequential\":[[0.0,\"#0d0887\"],[0.1111111111111111,\"#46039f\"],[0.2222222222222222,\"#7201a8\"],[0.3333333333333333,\"#9c179e\"],[0.4444444444444444,\"#bd3786\"],[0.5555555555555556,\"#d8576b\"],[0.6666666666666666,\"#ed7953\"],[0.7777777777777778,\"#fb9f3a\"],[0.8888888888888888,\"#fdca26\"],[1.0,\"#f0f921\"]],\"sequentialminus\":[[0.0,\"#0d0887\"],[0.1111111111111111,\"#46039f\"],[0.2222222222222222,\"#7201a8\"],[0.3333333333333333,\"#9c179e\"],[0.4444444444444444,\"#bd3786\"],[0.5555555555555556,\"#d8576b\"],[0.6666666666666666,\"#ed7953\"],[0.7777777777777778,\"#fb9f3a\"],[0.8888888888888888,\"#fdca26\"],[1.0,\"#f0f921\"]],\"diverging\":[[0,\"#8e0152\"],[0.1,\"#c51b7d\"],[0.2,\"#de77ae\"],[0.3,\"#f1b6da\"],[0.4,\"#fde0ef\"],[0.5,\"#f7f7f7\"],[0.6,\"#e6f5d0\"],[0.7,\"#b8e186\"],[0.8,\"#7fbc41\"],[0.9,\"#4d9221\"],[1,\"#276419\"]]},\"xaxis\":{\"gridcolor\":\"white\",\"linecolor\":\"white\",\"ticks\":\"\",\"title\":{\"standoff\":15},\"zerolinecolor\":\"white\",\"automargin\":true,\"zerolinewidth\":2},\"yaxis\":{\"gridcolor\":\"white\",\"linecolor\":\"white\",\"ticks\":\"\",\"title\":{\"standoff\":15},\"zerolinecolor\":\"white\",\"automargin\":true,\"zerolinewidth\":2},\"scene\":{\"xaxis\":{\"backgroundcolor\":\"#E5ECF6\",\"gridcolor\":\"white\",\"linecolor\":\"white\",\"showbackground\":true,\"ticks\":\"\",\"zerolinecolor\":\"white\",\"gridwidth\":2},\"yaxis\":{\"backgroundcolor\":\"#E5ECF6\",\"gridcolor\":\"white\",\"linecolor\":\"white\",\"showbackground\":true,\"ticks\":\"\",\"zerolinecolor\":\"white\",\"gridwidth\":2},\"zaxis\":{\"backgroundcolor\":\"#E5ECF6\",\"gridcolor\":\"white\",\"linecolor\":\"white\",\"showbackground\":true,\"ticks\":\"\",\"zerolinecolor\":\"white\",\"gridwidth\":2}},\"shapedefaults\":{\"line\":{\"color\":\"#2a3f5f\"}},\"annotationdefaults\":{\"arrowcolor\":\"#2a3f5f\",\"arrowhead\":0,\"arrowwidth\":1},\"geo\":{\"bgcolor\":\"white\",\"landcolor\":\"#E5ECF6\",\"subunitcolor\":\"white\",\"showland\":true,\"showlakes\":true,\"lakecolor\":\"white\"},\"title\":{\"x\":0.05},\"mapbox\":{\"style\":\"light\"}}},\"legend\":{\"tracegroupgap\":0},\"title\":{\"text\":\"Tech category distribution\"},\"piecolorway\":[\"#1F77B4\",\"#FF7F0E\",\"#2CA02C\",\"#D62728\",\"#9467BD\",\"#8C564B\",\"#E377C2\",\"#7F7F7F\",\"#BCBD22\",\"#17BECF\"]},                        {\"responsive\": true}                    ).then(function(){\n",
       "                            \n",
       "var gd = document.getElementById('777a5589-c2b8-4eb7-a939-b8c8ba00f186');\n",
       "var x = new MutationObserver(function (mutations, observer) {{\n",
       "        var display = window.getComputedStyle(gd).display;\n",
       "        if (!display || display === 'none') {{\n",
       "            console.log([gd, 'removed!']);\n",
       "            Plotly.purge(gd);\n",
       "            observer.disconnect();\n",
       "        }}\n",
       "}});\n",
       "\n",
       "// Listen for the removal of the full notebook cells\n",
       "var notebookContainer = gd.closest('#notebook-container');\n",
       "if (notebookContainer) {{\n",
       "    x.observe(notebookContainer, {childList: true});\n",
       "}}\n",
       "\n",
       "// Listen for the clearing of the current output cell\n",
       "var outputEl = gd.closest('.output');\n",
       "if (outputEl) {{\n",
       "    x.observe(outputEl, {childList: true});\n",
       "}}\n",
       "\n",
       "                        })                };                });            </script>        </div>"
      ]
     },
     "metadata": {},
     "output_type": "display_data"
    },
    {
     "name": "stdout",
     "output_type": "stream",
     "text": [
      "\n"
     ]
    },
    {
     "data": {
      "application/vnd.plotly.v1+json": {
       "config": {
        "plotlyServerURL": "https://plot.ly"
       },
       "data": [
        {
         "domain": {
          "x": [
           0,
           1
          ],
          "y": [
           0,
           1
          ]
         },
         "hovertemplate": "Category=%{label}<extra></extra>",
         "labels": [
          "HR",
          "HR",
          "HR",
          "HR",
          "HR",
          "HR",
          "HR",
          "HR",
          "HR",
          "HR",
          "HR",
          "HR",
          "HR",
          "HR",
          "HR",
          "HR",
          "HR",
          "HR",
          "HR",
          "HR",
          "HR",
          "HR",
          "HR",
          "HR",
          "HR",
          "HR",
          "HR",
          "HR",
          "HR",
          "HR",
          "HR",
          "HR",
          "HR",
          "HR",
          "HR",
          "HR",
          "HR",
          "HR",
          "HR",
          "HR",
          "HR",
          "HR",
          "HR",
          "HR",
          "Advocate",
          "Advocate",
          "Advocate",
          "Advocate",
          "Advocate",
          "Advocate",
          "Advocate",
          "Advocate",
          "Advocate",
          "Advocate",
          "Advocate",
          "Advocate",
          "Advocate",
          "Advocate",
          "Advocate",
          "Advocate",
          "Advocate",
          "Advocate",
          "Advocate",
          "Advocate",
          "Arts",
          "Arts",
          "Arts",
          "Arts",
          "Arts",
          "Arts",
          "Arts",
          "Arts",
          "Arts",
          "Arts",
          "Arts",
          "Arts",
          "Arts",
          "Arts",
          "Arts",
          "Arts",
          "Arts",
          "Arts",
          "Arts",
          "Arts",
          "Arts",
          "Arts",
          "Arts",
          "Arts",
          "Arts",
          "Arts",
          "Arts",
          "Arts",
          "Arts",
          "Arts",
          "Arts",
          "Arts",
          "Arts",
          "Arts",
          "Arts",
          "Arts",
          "Mechanical Engineer",
          "Mechanical Engineer",
          "Mechanical Engineer",
          "Mechanical Engineer",
          "Mechanical Engineer",
          "Mechanical Engineer",
          "Mechanical Engineer",
          "Mechanical Engineer",
          "Mechanical Engineer",
          "Mechanical Engineer",
          "Mechanical Engineer",
          "Mechanical Engineer",
          "Mechanical Engineer",
          "Mechanical Engineer",
          "Mechanical Engineer",
          "Mechanical Engineer",
          "Mechanical Engineer",
          "Mechanical Engineer",
          "Mechanical Engineer",
          "Mechanical Engineer",
          "Mechanical Engineer",
          "Mechanical Engineer",
          "Mechanical Engineer",
          "Mechanical Engineer",
          "Mechanical Engineer",
          "Mechanical Engineer",
          "Mechanical Engineer",
          "Mechanical Engineer",
          "Mechanical Engineer",
          "Mechanical Engineer",
          "Mechanical Engineer",
          "Mechanical Engineer",
          "Mechanical Engineer",
          "Mechanical Engineer",
          "Mechanical Engineer",
          "Mechanical Engineer",
          "Mechanical Engineer",
          "Mechanical Engineer",
          "Mechanical Engineer",
          "Mechanical Engineer",
          "Sales",
          "Sales",
          "Sales",
          "Sales",
          "Sales",
          "Sales",
          "Sales",
          "Sales",
          "Sales",
          "Sales",
          "Sales",
          "Sales",
          "Sales",
          "Sales",
          "Sales",
          "Sales",
          "Sales",
          "Sales",
          "Sales",
          "Sales",
          "Sales",
          "Sales",
          "Sales",
          "Sales",
          "Sales",
          "Sales",
          "Sales",
          "Sales",
          "Sales",
          "Sales",
          "Sales",
          "Sales",
          "Sales",
          "Sales",
          "Sales",
          "Sales",
          "Sales",
          "Sales",
          "Sales",
          "Sales",
          "Health and fitness",
          "Health and fitness",
          "Health and fitness",
          "Health and fitness",
          "Health and fitness",
          "Health and fitness",
          "Health and fitness",
          "Health and fitness",
          "Health and fitness",
          "Health and fitness",
          "Health and fitness",
          "Health and fitness",
          "Health and fitness",
          "Health and fitness",
          "Health and fitness",
          "Health and fitness",
          "Health and fitness",
          "Health and fitness",
          "Health and fitness",
          "Health and fitness",
          "Health and fitness",
          "Health and fitness",
          "Health and fitness",
          "Health and fitness",
          "Health and fitness",
          "Health and fitness",
          "Health and fitness",
          "Health and fitness",
          "Health and fitness",
          "Health and fitness",
          "Civil Engineer",
          "Civil Engineer",
          "Civil Engineer",
          "Civil Engineer",
          "Civil Engineer",
          "Civil Engineer",
          "Civil Engineer",
          "Civil Engineer",
          "Civil Engineer",
          "Civil Engineer",
          "Civil Engineer",
          "Civil Engineer",
          "Civil Engineer",
          "Civil Engineer",
          "Civil Engineer",
          "Civil Engineer",
          "Civil Engineer",
          "Civil Engineer",
          "Civil Engineer",
          "Civil Engineer",
          "Civil Engineer",
          "Civil Engineer",
          "Civil Engineer",
          "Civil Engineer",
          "Business Analyst",
          "Business Analyst",
          "Business Analyst",
          "Business Analyst",
          "Business Analyst",
          "Business Analyst",
          "Business Analyst",
          "Business Analyst",
          "Business Analyst",
          "Business Analyst",
          "Business Analyst",
          "Business Analyst",
          "Business Analyst",
          "Business Analyst",
          "Business Analyst",
          "Business Analyst",
          "Business Analyst",
          "Business Analyst",
          "Business Analyst",
          "Business Analyst",
          "Business Analyst",
          "Business Analyst",
          "Business Analyst",
          "Business Analyst",
          "Business Analyst",
          "Business Analyst",
          "Business Analyst",
          "Business Analyst",
          "Electrical Engineering",
          "Electrical Engineering",
          "Electrical Engineering",
          "Electrical Engineering",
          "Electrical Engineering",
          "Electrical Engineering",
          "Electrical Engineering",
          "Electrical Engineering",
          "Electrical Engineering",
          "Electrical Engineering",
          "Electrical Engineering",
          "Electrical Engineering",
          "Electrical Engineering",
          "Electrical Engineering",
          "Electrical Engineering",
          "Electrical Engineering",
          "Electrical Engineering",
          "Electrical Engineering",
          "Electrical Engineering",
          "Electrical Engineering",
          "Electrical Engineering",
          "Electrical Engineering",
          "Electrical Engineering",
          "Electrical Engineering",
          "Electrical Engineering",
          "Electrical Engineering",
          "Electrical Engineering",
          "Electrical Engineering",
          "Electrical Engineering",
          "Electrical Engineering",
          "Operations Manager",
          "Operations Manager",
          "Operations Manager",
          "Operations Manager",
          "Operations Manager",
          "Operations Manager",
          "Operations Manager",
          "Operations Manager",
          "Operations Manager",
          "Operations Manager",
          "Operations Manager",
          "Operations Manager",
          "Operations Manager",
          "Operations Manager",
          "Operations Manager",
          "Operations Manager",
          "Operations Manager",
          "Operations Manager",
          "Operations Manager",
          "Operations Manager",
          "Operations Manager",
          "Operations Manager",
          "Operations Manager",
          "Operations Manager",
          "Operations Manager",
          "Operations Manager",
          "Operations Manager",
          "Operations Manager",
          "Operations Manager",
          "Operations Manager",
          "Operations Manager",
          "Operations Manager",
          "Operations Manager",
          "Operations Manager",
          "Operations Manager",
          "Operations Manager",
          "Operations Manager",
          "Operations Manager",
          "Operations Manager",
          "Operations Manager",
          "PMO",
          "PMO",
          "PMO",
          "PMO",
          "PMO",
          "PMO",
          "PMO",
          "PMO",
          "PMO",
          "PMO",
          "PMO",
          "PMO",
          "PMO",
          "PMO",
          "PMO",
          "PMO",
          "PMO",
          "PMO",
          "PMO",
          "PMO",
          "PMO",
          "PMO",
          "PMO",
          "PMO",
          "PMO",
          "PMO",
          "PMO",
          "PMO",
          "PMO",
          "PMO"
         ],
         "legendgroup": "",
         "name": "",
         "showlegend": true,
         "type": "pie"
        }
       ],
       "layout": {
        "autosize": true,
        "legend": {
         "tracegroupgap": 0
        },
        "piecolorway": [
         "#1F77B4",
         "#FF7F0E",
         "#2CA02C",
         "#D62728",
         "#9467BD",
         "#8C564B",
         "#E377C2",
         "#7F7F7F",
         "#BCBD22",
         "#17BECF"
        ],
        "template": {
         "data": {
          "bar": [
           {
            "error_x": {
             "color": "#2a3f5f"
            },
            "error_y": {
             "color": "#2a3f5f"
            },
            "marker": {
             "line": {
              "color": "#E5ECF6",
              "width": 0.5
             },
             "pattern": {
              "fillmode": "overlay",
              "size": 10,
              "solidity": 0.2
             }
            },
            "type": "bar"
           }
          ],
          "barpolar": [
           {
            "marker": {
             "line": {
              "color": "#E5ECF6",
              "width": 0.5
             },
             "pattern": {
              "fillmode": "overlay",
              "size": 10,
              "solidity": 0.2
             }
            },
            "type": "barpolar"
           }
          ],
          "carpet": [
           {
            "aaxis": {
             "endlinecolor": "#2a3f5f",
             "gridcolor": "white",
             "linecolor": "white",
             "minorgridcolor": "white",
             "startlinecolor": "#2a3f5f"
            },
            "baxis": {
             "endlinecolor": "#2a3f5f",
             "gridcolor": "white",
             "linecolor": "white",
             "minorgridcolor": "white",
             "startlinecolor": "#2a3f5f"
            },
            "type": "carpet"
           }
          ],
          "choropleth": [
           {
            "colorbar": {
             "outlinewidth": 0,
             "ticks": ""
            },
            "type": "choropleth"
           }
          ],
          "contour": [
           {
            "colorbar": {
             "outlinewidth": 0,
             "ticks": ""
            },
            "colorscale": [
             [
              0,
              "#0d0887"
             ],
             [
              0.1111111111111111,
              "#46039f"
             ],
             [
              0.2222222222222222,
              "#7201a8"
             ],
             [
              0.3333333333333333,
              "#9c179e"
             ],
             [
              0.4444444444444444,
              "#bd3786"
             ],
             [
              0.5555555555555556,
              "#d8576b"
             ],
             [
              0.6666666666666666,
              "#ed7953"
             ],
             [
              0.7777777777777778,
              "#fb9f3a"
             ],
             [
              0.8888888888888888,
              "#fdca26"
             ],
             [
              1,
              "#f0f921"
             ]
            ],
            "type": "contour"
           }
          ],
          "contourcarpet": [
           {
            "colorbar": {
             "outlinewidth": 0,
             "ticks": ""
            },
            "type": "contourcarpet"
           }
          ],
          "heatmap": [
           {
            "colorbar": {
             "outlinewidth": 0,
             "ticks": ""
            },
            "colorscale": [
             [
              0,
              "#0d0887"
             ],
             [
              0.1111111111111111,
              "#46039f"
             ],
             [
              0.2222222222222222,
              "#7201a8"
             ],
             [
              0.3333333333333333,
              "#9c179e"
             ],
             [
              0.4444444444444444,
              "#bd3786"
             ],
             [
              0.5555555555555556,
              "#d8576b"
             ],
             [
              0.6666666666666666,
              "#ed7953"
             ],
             [
              0.7777777777777778,
              "#fb9f3a"
             ],
             [
              0.8888888888888888,
              "#fdca26"
             ],
             [
              1,
              "#f0f921"
             ]
            ],
            "type": "heatmap"
           }
          ],
          "heatmapgl": [
           {
            "colorbar": {
             "outlinewidth": 0,
             "ticks": ""
            },
            "colorscale": [
             [
              0,
              "#0d0887"
             ],
             [
              0.1111111111111111,
              "#46039f"
             ],
             [
              0.2222222222222222,
              "#7201a8"
             ],
             [
              0.3333333333333333,
              "#9c179e"
             ],
             [
              0.4444444444444444,
              "#bd3786"
             ],
             [
              0.5555555555555556,
              "#d8576b"
             ],
             [
              0.6666666666666666,
              "#ed7953"
             ],
             [
              0.7777777777777778,
              "#fb9f3a"
             ],
             [
              0.8888888888888888,
              "#fdca26"
             ],
             [
              1,
              "#f0f921"
             ]
            ],
            "type": "heatmapgl"
           }
          ],
          "histogram": [
           {
            "marker": {
             "pattern": {
              "fillmode": "overlay",
              "size": 10,
              "solidity": 0.2
             }
            },
            "type": "histogram"
           }
          ],
          "histogram2d": [
           {
            "colorbar": {
             "outlinewidth": 0,
             "ticks": ""
            },
            "colorscale": [
             [
              0,
              "#0d0887"
             ],
             [
              0.1111111111111111,
              "#46039f"
             ],
             [
              0.2222222222222222,
              "#7201a8"
             ],
             [
              0.3333333333333333,
              "#9c179e"
             ],
             [
              0.4444444444444444,
              "#bd3786"
             ],
             [
              0.5555555555555556,
              "#d8576b"
             ],
             [
              0.6666666666666666,
              "#ed7953"
             ],
             [
              0.7777777777777778,
              "#fb9f3a"
             ],
             [
              0.8888888888888888,
              "#fdca26"
             ],
             [
              1,
              "#f0f921"
             ]
            ],
            "type": "histogram2d"
           }
          ],
          "histogram2dcontour": [
           {
            "colorbar": {
             "outlinewidth": 0,
             "ticks": ""
            },
            "colorscale": [
             [
              0,
              "#0d0887"
             ],
             [
              0.1111111111111111,
              "#46039f"
             ],
             [
              0.2222222222222222,
              "#7201a8"
             ],
             [
              0.3333333333333333,
              "#9c179e"
             ],
             [
              0.4444444444444444,
              "#bd3786"
             ],
             [
              0.5555555555555556,
              "#d8576b"
             ],
             [
              0.6666666666666666,
              "#ed7953"
             ],
             [
              0.7777777777777778,
              "#fb9f3a"
             ],
             [
              0.8888888888888888,
              "#fdca26"
             ],
             [
              1,
              "#f0f921"
             ]
            ],
            "type": "histogram2dcontour"
           }
          ],
          "mesh3d": [
           {
            "colorbar": {
             "outlinewidth": 0,
             "ticks": ""
            },
            "type": "mesh3d"
           }
          ],
          "parcoords": [
           {
            "line": {
             "colorbar": {
              "outlinewidth": 0,
              "ticks": ""
             }
            },
            "type": "parcoords"
           }
          ],
          "pie": [
           {
            "automargin": true,
            "type": "pie"
           }
          ],
          "scatter": [
           {
            "fillpattern": {
             "fillmode": "overlay",
             "size": 10,
             "solidity": 0.2
            },
            "type": "scatter"
           }
          ],
          "scatter3d": [
           {
            "line": {
             "colorbar": {
              "outlinewidth": 0,
              "ticks": ""
             }
            },
            "marker": {
             "colorbar": {
              "outlinewidth": 0,
              "ticks": ""
             }
            },
            "type": "scatter3d"
           }
          ],
          "scattercarpet": [
           {
            "marker": {
             "colorbar": {
              "outlinewidth": 0,
              "ticks": ""
             }
            },
            "type": "scattercarpet"
           }
          ],
          "scattergeo": [
           {
            "marker": {
             "colorbar": {
              "outlinewidth": 0,
              "ticks": ""
             }
            },
            "type": "scattergeo"
           }
          ],
          "scattergl": [
           {
            "marker": {
             "colorbar": {
              "outlinewidth": 0,
              "ticks": ""
             }
            },
            "type": "scattergl"
           }
          ],
          "scattermapbox": [
           {
            "marker": {
             "colorbar": {
              "outlinewidth": 0,
              "ticks": ""
             }
            },
            "type": "scattermapbox"
           }
          ],
          "scatterpolar": [
           {
            "marker": {
             "colorbar": {
              "outlinewidth": 0,
              "ticks": ""
             }
            },
            "type": "scatterpolar"
           }
          ],
          "scatterpolargl": [
           {
            "marker": {
             "colorbar": {
              "outlinewidth": 0,
              "ticks": ""
             }
            },
            "type": "scatterpolargl"
           }
          ],
          "scatterternary": [
           {
            "marker": {
             "colorbar": {
              "outlinewidth": 0,
              "ticks": ""
             }
            },
            "type": "scatterternary"
           }
          ],
          "surface": [
           {
            "colorbar": {
             "outlinewidth": 0,
             "ticks": ""
            },
            "colorscale": [
             [
              0,
              "#0d0887"
             ],
             [
              0.1111111111111111,
              "#46039f"
             ],
             [
              0.2222222222222222,
              "#7201a8"
             ],
             [
              0.3333333333333333,
              "#9c179e"
             ],
             [
              0.4444444444444444,
              "#bd3786"
             ],
             [
              0.5555555555555556,
              "#d8576b"
             ],
             [
              0.6666666666666666,
              "#ed7953"
             ],
             [
              0.7777777777777778,
              "#fb9f3a"
             ],
             [
              0.8888888888888888,
              "#fdca26"
             ],
             [
              1,
              "#f0f921"
             ]
            ],
            "type": "surface"
           }
          ],
          "table": [
           {
            "cells": {
             "fill": {
              "color": "#EBF0F8"
             },
             "line": {
              "color": "white"
             }
            },
            "header": {
             "fill": {
              "color": "#C8D4E3"
             },
             "line": {
              "color": "white"
             }
            },
            "type": "table"
           }
          ]
         },
         "layout": {
          "annotationdefaults": {
           "arrowcolor": "#2a3f5f",
           "arrowhead": 0,
           "arrowwidth": 1
          },
          "autotypenumbers": "strict",
          "coloraxis": {
           "colorbar": {
            "outlinewidth": 0,
            "ticks": ""
           }
          },
          "colorscale": {
           "diverging": [
            [
             0,
             "#8e0152"
            ],
            [
             0.1,
             "#c51b7d"
            ],
            [
             0.2,
             "#de77ae"
            ],
            [
             0.3,
             "#f1b6da"
            ],
            [
             0.4,
             "#fde0ef"
            ],
            [
             0.5,
             "#f7f7f7"
            ],
            [
             0.6,
             "#e6f5d0"
            ],
            [
             0.7,
             "#b8e186"
            ],
            [
             0.8,
             "#7fbc41"
            ],
            [
             0.9,
             "#4d9221"
            ],
            [
             1,
             "#276419"
            ]
           ],
           "sequential": [
            [
             0,
             "#0d0887"
            ],
            [
             0.1111111111111111,
             "#46039f"
            ],
            [
             0.2222222222222222,
             "#7201a8"
            ],
            [
             0.3333333333333333,
             "#9c179e"
            ],
            [
             0.4444444444444444,
             "#bd3786"
            ],
            [
             0.5555555555555556,
             "#d8576b"
            ],
            [
             0.6666666666666666,
             "#ed7953"
            ],
            [
             0.7777777777777778,
             "#fb9f3a"
            ],
            [
             0.8888888888888888,
             "#fdca26"
            ],
            [
             1,
             "#f0f921"
            ]
           ],
           "sequentialminus": [
            [
             0,
             "#0d0887"
            ],
            [
             0.1111111111111111,
             "#46039f"
            ],
            [
             0.2222222222222222,
             "#7201a8"
            ],
            [
             0.3333333333333333,
             "#9c179e"
            ],
            [
             0.4444444444444444,
             "#bd3786"
            ],
            [
             0.5555555555555556,
             "#d8576b"
            ],
            [
             0.6666666666666666,
             "#ed7953"
            ],
            [
             0.7777777777777778,
             "#fb9f3a"
            ],
            [
             0.8888888888888888,
             "#fdca26"
            ],
            [
             1,
             "#f0f921"
            ]
           ]
          },
          "colorway": [
           "#636efa",
           "#EF553B",
           "#00cc96",
           "#ab63fa",
           "#FFA15A",
           "#19d3f3",
           "#FF6692",
           "#B6E880",
           "#FF97FF",
           "#FECB52"
          ],
          "font": {
           "color": "#2a3f5f"
          },
          "geo": {
           "bgcolor": "white",
           "lakecolor": "white",
           "landcolor": "#E5ECF6",
           "showlakes": true,
           "showland": true,
           "subunitcolor": "white"
          },
          "hoverlabel": {
           "align": "left"
          },
          "hovermode": "closest",
          "mapbox": {
           "style": "light"
          },
          "paper_bgcolor": "white",
          "plot_bgcolor": "#E5ECF6",
          "polar": {
           "angularaxis": {
            "gridcolor": "white",
            "linecolor": "white",
            "ticks": ""
           },
           "bgcolor": "#E5ECF6",
           "radialaxis": {
            "gridcolor": "white",
            "linecolor": "white",
            "ticks": ""
           }
          },
          "scene": {
           "xaxis": {
            "backgroundcolor": "#E5ECF6",
            "gridcolor": "white",
            "gridwidth": 2,
            "linecolor": "white",
            "showbackground": true,
            "ticks": "",
            "zerolinecolor": "white"
           },
           "yaxis": {
            "backgroundcolor": "#E5ECF6",
            "gridcolor": "white",
            "gridwidth": 2,
            "linecolor": "white",
            "showbackground": true,
            "ticks": "",
            "zerolinecolor": "white"
           },
           "zaxis": {
            "backgroundcolor": "#E5ECF6",
            "gridcolor": "white",
            "gridwidth": 2,
            "linecolor": "white",
            "showbackground": true,
            "ticks": "",
            "zerolinecolor": "white"
           }
          },
          "shapedefaults": {
           "line": {
            "color": "#2a3f5f"
           }
          },
          "ternary": {
           "aaxis": {
            "gridcolor": "white",
            "linecolor": "white",
            "ticks": ""
           },
           "baxis": {
            "gridcolor": "white",
            "linecolor": "white",
            "ticks": ""
           },
           "bgcolor": "#E5ECF6",
           "caxis": {
            "gridcolor": "white",
            "linecolor": "white",
            "ticks": ""
           }
          },
          "title": {
           "x": 0.05
          },
          "xaxis": {
           "automargin": true,
           "gridcolor": "white",
           "linecolor": "white",
           "ticks": "",
           "title": {
            "standoff": 15
           },
           "zerolinecolor": "white",
           "zerolinewidth": 2
          },
          "yaxis": {
           "automargin": true,
           "gridcolor": "white",
           "linecolor": "white",
           "ticks": "",
           "title": {
            "standoff": 15
           },
           "zerolinecolor": "white",
           "zerolinewidth": 2
          }
         }
        },
        "title": {
         "text": "Others category distribution"
        }
       }
      },
      "image/png": "[encoded data removed]",
      "text/html": [
       "<div>                            <div id=\"b6a6b015-8843-4595-9521-1c68e1f533fd\" class=\"plotly-graph-div\" style=\"height:525px; width:100%;\"></div>            <script type=\"text/javascript\">                require([\"plotly\"], function(Plotly) {                    window.PLOTLYENV=window.PLOTLYENV || {};                                    if (document.getElementById(\"b6a6b015-8843-4595-9521-1c68e1f533fd\")) {                    Plotly.newPlot(                        \"b6a6b015-8843-4595-9521-1c68e1f533fd\",                        [{\"domain\":{\"x\":[0.0,1.0],\"y\":[0.0,1.0]},\"hovertemplate\":\"Category=%{label}\\u003cextra\\u003e\\u003c\\u002fextra\\u003e\",\"labels\":[\"HR\",\"HR\",\"HR\",\"HR\",\"HR\",\"HR\",\"HR\",\"HR\",\"HR\",\"HR\",\"HR\",\"HR\",\"HR\",\"HR\",\"HR\",\"HR\",\"HR\",\"HR\",\"HR\",\"HR\",\"HR\",\"HR\",\"HR\",\"HR\",\"HR\",\"HR\",\"HR\",\"HR\",\"HR\",\"HR\",\"HR\",\"HR\",\"HR\",\"HR\",\"HR\",\"HR\",\"HR\",\"HR\",\"HR\",\"HR\",\"HR\",\"HR\",\"HR\",\"HR\",\"Advocate\",\"Advocate\",\"Advocate\",\"Advocate\",\"Advocate\",\"Advocate\",\"Advocate\",\"Advocate\",\"Advocate\",\"Advocate\",\"Advocate\",\"Advocate\",\"Advocate\",\"Advocate\",\"Advocate\",\"Advocate\",\"Advocate\",\"Advocate\",\"Advocate\",\"Advocate\",\"Arts\",\"Arts\",\"Arts\",\"Arts\",\"Arts\",\"Arts\",\"Arts\",\"Arts\",\"Arts\",\"Arts\",\"Arts\",\"Arts\",\"Arts\",\"Arts\",\"Arts\",\"Arts\",\"Arts\",\"Arts\",\"Arts\",\"Arts\",\"Arts\",\"Arts\",\"Arts\",\"Arts\",\"Arts\",\"Arts\",\"Arts\",\"Arts\",\"Arts\",\"Arts\",\"Arts\",\"Arts\",\"Arts\",\"Arts\",\"Arts\",\"Arts\",\"Mechanical Engineer\",\"Mechanical Engineer\",\"Mechanical Engineer\",\"Mechanical Engineer\",\"Mechanical Engineer\",\"Mechanical Engineer\",\"Mechanical Engineer\",\"Mechanical Engineer\",\"Mechanical Engineer\",\"Mechanical Engineer\",\"Mechanical Engineer\",\"Mechanical Engineer\",\"Mechanical Engineer\",\"Mechanical Engineer\",\"Mechanical Engineer\",\"Mechanical Engineer\",\"Mechanical Engineer\",\"Mechanical Engineer\",\"Mechanical Engineer\",\"Mechanical Engineer\",\"Mechanical Engineer\",\"Mechanical Engineer\",\"Mechanical Engineer\",\"Mechanical Engineer\",\"Mechanical Engineer\",\"Mechanical Engineer\",\"Mechanical Engineer\",\"Mechanical Engineer\",\"Mechanical Engineer\",\"Mechanical Engineer\",\"Mechanical Engineer\",\"Mechanical Engineer\",\"Mechanical Engineer\",\"Mechanical Engineer\",\"Mechanical Engineer\",\"Mechanical Engineer\",\"Mechanical Engineer\",\"Mechanical Engineer\",\"Mechanical Engineer\",\"Mechanical Engineer\",\"Sales\",\"Sales\",\"Sales\",\"Sales\",\"Sales\",\"Sales\",\"Sales\",\"Sales\",\"Sales\",\"Sales\",\"Sales\",\"Sales\",\"Sales\",\"Sales\",\"Sales\",\"Sales\",\"Sales\",\"Sales\",\"Sales\",\"Sales\",\"Sales\",\"Sales\",\"Sales\",\"Sales\",\"Sales\",\"Sales\",\"Sales\",\"Sales\",\"Sales\",\"Sales\",\"Sales\",\"Sales\",\"Sales\",\"Sales\",\"Sales\",\"Sales\",\"Sales\",\"Sales\",\"Sales\",\"Sales\",\"Health and fitness\",\"Health and fitness\",\"Health and fitness\",\"Health and fitness\",\"Health and fitness\",\"Health and fitness\",\"Health and fitness\",\"Health and fitness\",\"Health and fitness\",\"Health and fitness\",\"Health and fitness\",\"Health and fitness\",\"Health and fitness\",\"Health and fitness\",\"Health and fitness\",\"Health and fitness\",\"Health and fitness\",\"Health and fitness\",\"Health and fitness\",\"Health and fitness\",\"Health and fitness\",\"Health and fitness\",\"Health and fitness\",\"Health and fitness\",\"Health and fitness\",\"Health and fitness\",\"Health and fitness\",\"Health and fitness\",\"Health and fitness\",\"Health and fitness\",\"Civil Engineer\",\"Civil Engineer\",\"Civil Engineer\",\"Civil Engineer\",\"Civil Engineer\",\"Civil Engineer\",\"Civil Engineer\",\"Civil Engineer\",\"Civil Engineer\",\"Civil Engineer\",\"Civil Engineer\",\"Civil Engineer\",\"Civil Engineer\",\"Civil Engineer\",\"Civil Engineer\",\"Civil Engineer\",\"Civil Engineer\",\"Civil Engineer\",\"Civil Engineer\",\"Civil Engineer\",\"Civil Engineer\",\"Civil Engineer\",\"Civil Engineer\",\"Civil Engineer\",\"Business Analyst\",\"Business Analyst\",\"Business Analyst\",\"Business Analyst\",\"Business Analyst\",\"Business Analyst\",\"Business Analyst\",\"Business Analyst\",\"Business Analyst\",\"Business Analyst\",\"Business Analyst\",\"Business Analyst\",\"Business Analyst\",\"Business Analyst\",\"Business Analyst\",\"Business Analyst\",\"Business Analyst\",\"Business Analyst\",\"Business Analyst\",\"Business Analyst\",\"Business Analyst\",\"Business Analyst\",\"Business Analyst\",\"Business Analyst\",\"Business Analyst\",\"Business Analyst\",\"Business Analyst\",\"Business Analyst\",\"Electrical Engineering\",\"Electrical Engineering\",\"Electrical Engineering\",\"Electrical Engineering\",\"Electrical Engineering\",\"Electrical Engineering\",\"Electrical Engineering\",\"Electrical Engineering\",\"Electrical Engineering\",\"Electrical Engineering\",\"Electrical Engineering\",\"Electrical Engineering\",\"Electrical Engineering\",\"Electrical Engineering\",\"Electrical Engineering\",\"Electrical Engineering\",\"Electrical Engineering\",\"Electrical Engineering\",\"Electrical Engineering\",\"Electrical Engineering\",\"Electrical Engineering\",\"Electrical Engineering\",\"Electrical Engineering\",\"Electrical Engineering\",\"Electrical Engineering\",\"Electrical Engineering\",\"Electrical Engineering\",\"Electrical Engineering\",\"Electrical Engineering\",\"Electrical Engineering\",\"Operations Manager\",\"Operations Manager\",\"Operations Manager\",\"Operations Manager\",\"Operations Manager\",\"Operations Manager\",\"Operations Manager\",\"Operations Manager\",\"Operations Manager\",\"Operations Manager\",\"Operations Manager\",\"Operations Manager\",\"Operations Manager\",\"Operations Manager\",\"Operations Manager\",\"Operations Manager\",\"Operations Manager\",\"Operations Manager\",\"Operations Manager\",\"Operations Manager\",\"Operations Manager\",\"Operations Manager\",\"Operations Manager\",\"Operations Manager\",\"Operations Manager\",\"Operations Manager\",\"Operations Manager\",\"Operations Manager\",\"Operations Manager\",\"Operations Manager\",\"Operations Manager\",\"Operations Manager\",\"Operations Manager\",\"Operations Manager\",\"Operations Manager\",\"Operations Manager\",\"Operations Manager\",\"Operations Manager\",\"Operations Manager\",\"Operations Manager\",\"PMO\",\"PMO\",\"PMO\",\"PMO\",\"PMO\",\"PMO\",\"PMO\",\"PMO\",\"PMO\",\"PMO\",\"PMO\",\"PMO\",\"PMO\",\"PMO\",\"PMO\",\"PMO\",\"PMO\",\"PMO\",\"PMO\",\"PMO\",\"PMO\",\"PMO\",\"PMO\",\"PMO\",\"PMO\",\"PMO\",\"PMO\",\"PMO\",\"PMO\",\"PMO\"],\"legendgroup\":\"\",\"name\":\"\",\"showlegend\":true,\"type\":\"pie\"}],                        {\"template\":{\"data\":{\"histogram2dcontour\":[{\"type\":\"histogram2dcontour\",\"colorbar\":{\"outlinewidth\":0,\"ticks\":\"\"},\"colorscale\":[[0.0,\"#0d0887\"],[0.1111111111111111,\"#46039f\"],[0.2222222222222222,\"#7201a8\"],[0.3333333333333333,\"#9c179e\"],[0.4444444444444444,\"#bd3786\"],[0.5555555555555556,\"#d8576b\"],[0.6666666666666666,\"#ed7953\"],[0.7777777777777778,\"#fb9f3a\"],[0.8888888888888888,\"#fdca26\"],[1.0,\"#f0f921\"]]}],\"choropleth\":[{\"type\":\"choropleth\",\"colorbar\":{\"outlinewidth\":0,\"ticks\":\"\"}}],\"histogram2d\":[{\"type\":\"histogram2d\",\"colorbar\":{\"outlinewidth\":0,\"ticks\":\"\"},\"colorscale\":[[0.0,\"#0d0887\"],[0.1111111111111111,\"#46039f\"],[0.2222222222222222,\"#7201a8\"],[0.3333333333333333,\"#9c179e\"],[0.4444444444444444,\"#bd3786\"],[0.5555555555555556,\"#d8576b\"],[0.6666666666666666,\"#ed7953\"],[0.7777777777777778,\"#fb9f3a\"],[0.8888888888888888,\"#fdca26\"],[1.0,\"#f0f921\"]]}],\"heatmap\":[{\"type\":\"heatmap\",\"colorbar\":{\"outlinewidth\":0,\"ticks\":\"\"},\"colorscale\":[[0.0,\"#0d0887\"],[0.1111111111111111,\"#46039f\"],[0.2222222222222222,\"#7201a8\"],[0.3333333333333333,\"#9c179e\"],[0.4444444444444444,\"#bd3786\"],[0.5555555555555556,\"#d8576b\"],[0.6666666666666666,\"#ed7953\"],[0.7777777777777778,\"#fb9f3a\"],[0.8888888888888888,\"#fdca26\"],[1.0,\"#f0f921\"]]}],\"heatmapgl\":[{\"type\":\"heatmapgl\",\"colorbar\":{\"outlinewidth\":0,\"ticks\":\"\"},\"colorscale\":[[0.0,\"#0d0887\"],[0.1111111111111111,\"#46039f\"],[0.2222222222222222,\"#7201a8\"],[0.3333333333333333,\"#9c179e\"],[0.4444444444444444,\"#bd3786\"],[0.5555555555555556,\"#d8576b\"],[0.6666666666666666,\"#ed7953\"],[0.7777777777777778,\"#fb9f3a\"],[0.8888888888888888,\"#fdca26\"],[1.0,\"#f0f921\"]]}],\"contourcarpet\":[{\"type\":\"contourcarpet\",\"colorbar\":{\"outlinewidth\":0,\"ticks\":\"\"}}],\"contour\":[{\"type\":\"contour\",\"colorbar\":{\"outlinewidth\":0,\"ticks\":\"\"},\"colorscale\":[[0.0,\"#0d0887\"],[0.1111111111111111,\"#46039f\"],[0.2222222222222222,\"#7201a8\"],[0.3333333333333333,\"#9c179e\"],[0.4444444444444444,\"#bd3786\"],[0.5555555555555556,\"#d8576b\"],[0.6666666666666666,\"#ed7953\"],[0.7777777777777778,\"#fb9f3a\"],[0.8888888888888888,\"#fdca26\"],[1.0,\"#f0f921\"]]}],\"surface\":[{\"type\":\"surface\",\"colorbar\":{\"outlinewidth\":0,\"ticks\":\"\"},\"colorscale\":[[0.0,\"#0d0887\"],[0.1111111111111111,\"#46039f\"],[0.2222222222222222,\"#7201a8\"],[0.3333333333333333,\"#9c179e\"],[0.4444444444444444,\"#bd3786\"],[0.5555555555555556,\"#d8576b\"],[0.6666666666666666,\"#ed7953\"],[0.7777777777777778,\"#fb9f3a\"],[0.8888888888888888,\"#fdca26\"],[1.0,\"#f0f921\"]]}],\"mesh3d\":[{\"type\":\"mesh3d\",\"colorbar\":{\"outlinewidth\":0,\"ticks\":\"\"}}],\"scatter\":[{\"fillpattern\":{\"fillmode\":\"overlay\",\"size\":10,\"solidity\":0.2},\"type\":\"scatter\"}],\"parcoords\":[{\"type\":\"parcoords\",\"line\":{\"colorbar\":{\"outlinewidth\":0,\"ticks\":\"\"}}}],\"scatterpolargl\":[{\"type\":\"scatterpolargl\",\"marker\":{\"colorbar\":{\"outlinewidth\":0,\"ticks\":\"\"}}}],\"bar\":[{\"error_x\":{\"color\":\"#2a3f5f\"},\"error_y\":{\"color\":\"#2a3f5f\"},\"marker\":{\"line\":{\"color\":\"#E5ECF6\",\"width\":0.5},\"pattern\":{\"fillmode\":\"overlay\",\"size\":10,\"solidity\":0.2}},\"type\":\"bar\"}],\"scattergeo\":[{\"type\":\"scattergeo\",\"marker\":{\"colorbar\":{\"outlinewidth\":0,\"ticks\":\"\"}}}],\"scatterpolar\":[{\"type\":\"scatterpolar\",\"marker\":{\"colorbar\":{\"outlinewidth\":0,\"ticks\":\"\"}}}],\"histogram\":[{\"marker\":{\"pattern\":{\"fillmode\":\"overlay\",\"size\":10,\"solidity\":0.2}},\"type\":\"histogram\"}],\"scattergl\":[{\"type\":\"scattergl\",\"marker\":{\"colorbar\":{\"outlinewidth\":0,\"ticks\":\"\"}}}],\"scatter3d\":[{\"type\":\"scatter3d\",\"line\":{\"colorbar\":{\"outlinewidth\":0,\"ticks\":\"\"}},\"marker\":{\"colorbar\":{\"outlinewidth\":0,\"ticks\":\"\"}}}],\"scattermapbox\":[{\"type\":\"scattermapbox\",\"marker\":{\"colorbar\":{\"outlinewidth\":0,\"ticks\":\"\"}}}],\"scatterternary\":[{\"type\":\"scatterternary\",\"marker\":{\"colorbar\":{\"outlinewidth\":0,\"ticks\":\"\"}}}],\"scattercarpet\":[{\"type\":\"scattercarpet\",\"marker\":{\"colorbar\":{\"outlinewidth\":0,\"ticks\":\"\"}}}],\"carpet\":[{\"aaxis\":{\"endlinecolor\":\"#2a3f5f\",\"gridcolor\":\"white\",\"linecolor\":\"white\",\"minorgridcolor\":\"white\",\"startlinecolor\":\"#2a3f5f\"},\"baxis\":{\"endlinecolor\":\"#2a3f5f\",\"gridcolor\":\"white\",\"linecolor\":\"white\",\"minorgridcolor\":\"white\",\"startlinecolor\":\"#2a3f5f\"},\"type\":\"carpet\"}],\"table\":[{\"cells\":{\"fill\":{\"color\":\"#EBF0F8\"},\"line\":{\"color\":\"white\"}},\"header\":{\"fill\":{\"color\":\"#C8D4E3\"},\"line\":{\"color\":\"white\"}},\"type\":\"table\"}],\"barpolar\":[{\"marker\":{\"line\":{\"color\":\"#E5ECF6\",\"width\":0.5},\"pattern\":{\"fillmode\":\"overlay\",\"size\":10,\"solidity\":0.2}},\"type\":\"barpolar\"}],\"pie\":[{\"automargin\":true,\"type\":\"pie\"}]},\"layout\":{\"autotypenumbers\":\"strict\",\"colorway\":[\"#636efa\",\"#EF553B\",\"#00cc96\",\"#ab63fa\",\"#FFA15A\",\"#19d3f3\",\"#FF6692\",\"#B6E880\",\"#FF97FF\",\"#FECB52\"],\"font\":{\"color\":\"#2a3f5f\"},\"hovermode\":\"closest\",\"hoverlabel\":{\"align\":\"left\"},\"paper_bgcolor\":\"white\",\"plot_bgcolor\":\"#E5ECF6\",\"polar\":{\"bgcolor\":\"#E5ECF6\",\"angularaxis\":{\"gridcolor\":\"white\",\"linecolor\":\"white\",\"ticks\":\"\"},\"radialaxis\":{\"gridcolor\":\"white\",\"linecolor\":\"white\",\"ticks\":\"\"}},\"ternary\":{\"bgcolor\":\"#E5ECF6\",\"aaxis\":{\"gridcolor\":\"white\",\"linecolor\":\"white\",\"ticks\":\"\"},\"baxis\":{\"gridcolor\":\"white\",\"linecolor\":\"white\",\"ticks\":\"\"},\"caxis\":{\"gridcolor\":\"white\",\"linecolor\":\"white\",\"ticks\":\"\"}},\"coloraxis\":{\"colorbar\":{\"outlinewidth\":0,\"ticks\":\"\"}},\"colorscale\":{\"sequential\":[[0.0,\"#0d0887\"],[0.1111111111111111,\"#46039f\"],[0.2222222222222222,\"#7201a8\"],[0.3333333333333333,\"#9c179e\"],[0.4444444444444444,\"#bd3786\"],[0.5555555555555556,\"#d8576b\"],[0.6666666666666666,\"#ed7953\"],[0.7777777777777778,\"#fb9f3a\"],[0.8888888888888888,\"#fdca26\"],[1.0,\"#f0f921\"]],\"sequentialminus\":[[0.0,\"#0d0887\"],[0.1111111111111111,\"#46039f\"],[0.2222222222222222,\"#7201a8\"],[0.3333333333333333,\"#9c179e\"],[0.4444444444444444,\"#bd3786\"],[0.5555555555555556,\"#d8576b\"],[0.6666666666666666,\"#ed7953\"],[0.7777777777777778,\"#fb9f3a\"],[0.8888888888888888,\"#fdca26\"],[1.0,\"#f0f921\"]],\"diverging\":[[0,\"#8e0152\"],[0.1,\"#c51b7d\"],[0.2,\"#de77ae\"],[0.3,\"#f1b6da\"],[0.4,\"#fde0ef\"],[0.5,\"#f7f7f7\"],[0.6,\"#e6f5d0\"],[0.7,\"#b8e186\"],[0.8,\"#7fbc41\"],[0.9,\"#4d9221\"],[1,\"#276419\"]]},\"xaxis\":{\"gridcolor\":\"white\",\"linecolor\":\"white\",\"ticks\":\"\",\"title\":{\"standoff\":15},\"zerolinecolor\":\"white\",\"automargin\":true,\"zerolinewidth\":2},\"yaxis\":{\"gridcolor\":\"white\",\"linecolor\":\"white\",\"ticks\":\"\",\"title\":{\"standoff\":15},\"zerolinecolor\":\"white\",\"automargin\":true,\"zerolinewidth\":2},\"scene\":{\"xaxis\":{\"backgroundcolor\":\"#E5ECF6\",\"gridcolor\":\"white\",\"linecolor\":\"white\",\"showbackground\":true,\"ticks\":\"\",\"zerolinecolor\":\"white\",\"gridwidth\":2},\"yaxis\":{\"backgroundcolor\":\"#E5ECF6\",\"gridcolor\":\"white\",\"linecolor\":\"white\",\"showbackground\":true,\"ticks\":\"\",\"zerolinecolor\":\"white\",\"gridwidth\":2},\"zaxis\":{\"backgroundcolor\":\"#E5ECF6\",\"gridcolor\":\"white\",\"linecolor\":\"white\",\"showbackground\":true,\"ticks\":\"\",\"zerolinecolor\":\"white\",\"gridwidth\":2}},\"shapedefaults\":{\"line\":{\"color\":\"#2a3f5f\"}},\"annotationdefaults\":{\"arrowcolor\":\"#2a3f5f\",\"arrowhead\":0,\"arrowwidth\":1},\"geo\":{\"bgcolor\":\"white\",\"landcolor\":\"#E5ECF6\",\"subunitcolor\":\"white\",\"showland\":true,\"showlakes\":true,\"lakecolor\":\"white\"},\"title\":{\"x\":0.05},\"mapbox\":{\"style\":\"light\"}}},\"legend\":{\"tracegroupgap\":0},\"title\":{\"text\":\"Others category distribution\"},\"piecolorway\":[\"#1F77B4\",\"#FF7F0E\",\"#2CA02C\",\"#D62728\",\"#9467BD\",\"#8C564B\",\"#E377C2\",\"#7F7F7F\",\"#BCBD22\",\"#17BECF\"]},                        {\"responsive\": true}                    ).then(function(){\n",
       "                            \n",
       "var gd = document.getElementById('b6a6b015-8843-4595-9521-1c68e1f533fd');\n",
       "var x = new MutationObserver(function (mutations, observer) {{\n",
       "        var display = window.getComputedStyle(gd).display;\n",
       "        if (!display || display === 'none') {{\n",
       "            console.log([gd, 'removed!']);\n",
       "            Plotly.purge(gd);\n",
       "            observer.disconnect();\n",
       "        }}\n",
       "}});\n",
       "\n",
       "// Listen for the removal of the full notebook cells\n",
       "var notebookContainer = gd.closest('#notebook-container');\n",
       "if (notebookContainer) {{\n",
       "    x.observe(notebookContainer, {childList: true});\n",
       "}}\n",
       "\n",
       "// Listen for the clearing of the current output cell\n",
       "var outputEl = gd.closest('.output');\n",
       "if (outputEl) {{\n",
       "    x.observe(outputEl, {childList: true});\n",
       "}}\n",
       "\n",
       "                        })                };                });            </script>        </div>"
      ]
     },
     "metadata": {},
     "output_type": "display_data"
    }
   ],
   "source": [
    "# Here was made a visualization more deeper, to see distribution of category area (tech or others)\n",
    "df_1 = df[df['Category Area'] == 'Tech']\n",
    "df_2 = df[df['Category Area'] == 'Others']\n",
    "\n",
    "fig_1 = px.pie(df_1, names='Category', title='Tech category distribution',\n",
    "               color_discrete_sequence=px.colors.qualitative.D3) # Color: https://plotly.com/python/discrete-color/\n",
    "\n",
    "fig_2 = px.pie(df_2, names='Category', title='Others category distribution',\n",
    "               color_discrete_sequence=px.colors.qualitative.D3)\n",
    "\n",
    "fig_1.show()\n",
    "print('')\n",
    "fig_2.show()"
   ]
  },
  {
   "cell_type": "code",
   "execution_count": 54,
   "metadata": {},
   "outputs": [
    {
     "data": {
      "application/vnd.plotly.v1+json": {
       "config": {
        "plotlyServerURL": "https://plot.ly"
       },
       "data": [
        {
         "domain": {
          "x": [
           0,
           1
          ],
          "y": [
           0,
           1
          ]
         },
         "hovertemplate": "Category=%{label}<extra></extra>",
         "labels": [
          "Data Science",
          "Data Science",
          "Data Science",
          "Data Science",
          "Data Science",
          "Data Science",
          "Data Science",
          "Data Science",
          "Data Science",
          "Data Science",
          "Data Science",
          "Data Science",
          "Data Science",
          "Data Science",
          "Data Science",
          "Data Science",
          "Data Science",
          "Data Science",
          "Data Science",
          "Data Science",
          "Data Science",
          "Data Science",
          "Data Science",
          "Data Science",
          "Data Science",
          "Data Science",
          "Data Science",
          "Data Science",
          "Data Science",
          "Data Science",
          "Data Science",
          "Data Science",
          "Data Science",
          "Data Science",
          "Data Science",
          "Data Science",
          "Data Science",
          "Data Science",
          "Data Science",
          "Data Science",
          "HR",
          "HR",
          "HR",
          "HR",
          "HR",
          "HR",
          "HR",
          "HR",
          "HR",
          "HR",
          "HR",
          "HR",
          "HR",
          "HR",
          "HR",
          "HR",
          "HR",
          "HR",
          "HR",
          "HR",
          "HR",
          "HR",
          "HR",
          "HR",
          "HR",
          "HR",
          "HR",
          "HR",
          "HR",
          "HR",
          "HR",
          "HR",
          "HR",
          "HR",
          "HR",
          "HR",
          "HR",
          "HR",
          "HR",
          "HR",
          "HR",
          "HR",
          "HR",
          "HR",
          "Advocate",
          "Advocate",
          "Advocate",
          "Advocate",
          "Advocate",
          "Advocate",
          "Advocate",
          "Advocate",
          "Advocate",
          "Advocate",
          "Advocate",
          "Advocate",
          "Advocate",
          "Advocate",
          "Advocate",
          "Advocate",
          "Advocate",
          "Advocate",
          "Advocate",
          "Advocate",
          "Arts",
          "Arts",
          "Arts",
          "Arts",
          "Arts",
          "Arts",
          "Arts",
          "Arts",
          "Arts",
          "Arts",
          "Arts",
          "Arts",
          "Arts",
          "Arts",
          "Arts",
          "Arts",
          "Arts",
          "Arts",
          "Arts",
          "Arts",
          "Arts",
          "Arts",
          "Arts",
          "Arts",
          "Arts",
          "Arts",
          "Arts",
          "Arts",
          "Arts",
          "Arts",
          "Arts",
          "Arts",
          "Arts",
          "Arts",
          "Arts",
          "Arts",
          "Web Designing",
          "Web Designing",
          "Web Designing",
          "Web Designing",
          "Web Designing",
          "Web Designing",
          "Web Designing",
          "Web Designing",
          "Web Designing",
          "Web Designing",
          "Web Designing",
          "Web Designing",
          "Web Designing",
          "Web Designing",
          "Web Designing",
          "Web Designing",
          "Web Designing",
          "Web Designing",
          "Web Designing",
          "Web Designing",
          "Web Designing",
          "Web Designing",
          "Web Designing",
          "Web Designing",
          "Web Designing",
          "Web Designing",
          "Web Designing",
          "Web Designing",
          "Web Designing",
          "Web Designing",
          "Web Designing",
          "Web Designing",
          "Web Designing",
          "Web Designing",
          "Web Designing",
          "Web Designing",
          "Web Designing",
          "Web Designing",
          "Web Designing",
          "Web Designing",
          "Web Designing",
          "Web Designing",
          "Web Designing",
          "Web Designing",
          "Web Designing",
          "Mechanical Engineer",
          "Mechanical Engineer",
          "Mechanical Engineer",
          "Mechanical Engineer",
          "Mechanical Engineer",
          "Mechanical Engineer",
          "Mechanical Engineer",
          "Mechanical Engineer",
          "Mechanical Engineer",
          "Mechanical Engineer",
          "Mechanical Engineer",
          "Mechanical Engineer",
          "Mechanical Engineer",
          "Mechanical Engineer",
          "Mechanical Engineer",
          "Mechanical Engineer",
          "Mechanical Engineer",
          "Mechanical Engineer",
          "Mechanical Engineer",
          "Mechanical Engineer",
          "Mechanical Engineer",
          "Mechanical Engineer",
          "Mechanical Engineer",
          "Mechanical Engineer",
          "Mechanical Engineer",
          "Mechanical Engineer",
          "Mechanical Engineer",
          "Mechanical Engineer",
          "Mechanical Engineer",
          "Mechanical Engineer",
          "Mechanical Engineer",
          "Mechanical Engineer",
          "Mechanical Engineer",
          "Mechanical Engineer",
          "Mechanical Engineer",
          "Mechanical Engineer",
          "Mechanical Engineer",
          "Mechanical Engineer",
          "Mechanical Engineer",
          "Mechanical Engineer",
          "Sales",
          "Sales",
          "Sales",
          "Sales",
          "Sales",
          "Sales",
          "Sales",
          "Sales",
          "Sales",
          "Sales",
          "Sales",
          "Sales",
          "Sales",
          "Sales",
          "Sales",
          "Sales",
          "Sales",
          "Sales",
          "Sales",
          "Sales",
          "Sales",
          "Sales",
          "Sales",
          "Sales",
          "Sales",
          "Sales",
          "Sales",
          "Sales",
          "Sales",
          "Sales",
          "Sales",
          "Sales",
          "Sales",
          "Sales",
          "Sales",
          "Sales",
          "Sales",
          "Sales",
          "Sales",
          "Sales",
          "Health and fitness",
          "Health and fitness",
          "Health and fitness",
          "Health and fitness",
          "Health and fitness",
          "Health and fitness",
          "Health and fitness",
          "Health and fitness",
          "Health and fitness",
          "Health and fitness",
          "Health and fitness",
          "Health and fitness",
          "Health and fitness",
          "Health and fitness",
          "Health and fitness",
          "Health and fitness",
          "Health and fitness",
          "Health and fitness",
          "Health and fitness",
          "Health and fitness",
          "Health and fitness",
          "Health and fitness",
          "Health and fitness",
          "Health and fitness",
          "Health and fitness",
          "Health and fitness",
          "Health and fitness",
          "Health and fitness",
          "Health and fitness",
          "Health and fitness",
          "Civil Engineer",
          "Civil Engineer",
          "Civil Engineer",
          "Civil Engineer",
          "Civil Engineer",
          "Civil Engineer",
          "Civil Engineer",
          "Civil Engineer",
          "Civil Engineer",
          "Civil Engineer",
          "Civil Engineer",
          "Civil Engineer",
          "Civil Engineer",
          "Civil Engineer",
          "Civil Engineer",
          "Civil Engineer",
          "Civil Engineer",
          "Civil Engineer",
          "Civil Engineer",
          "Civil Engineer",
          "Civil Engineer",
          "Civil Engineer",
          "Civil Engineer",
          "Civil Engineer",
          "Java Developer",
          "Java Developer",
          "Java Developer",
          "Java Developer",
          "Java Developer",
          "Java Developer",
          "Java Developer",
          "Java Developer",
          "Java Developer",
          "Java Developer",
          "Java Developer",
          "Java Developer",
          "Java Developer",
          "Java Developer",
          "Java Developer",
          "Java Developer",
          "Java Developer",
          "Java Developer",
          "Java Developer",
          "Java Developer",
          "Java Developer",
          "Java Developer",
          "Java Developer",
          "Java Developer",
          "Java Developer",
          "Java Developer",
          "Java Developer",
          "Java Developer",
          "Java Developer",
          "Java Developer",
          "Java Developer",
          "Java Developer",
          "Java Developer",
          "Java Developer",
          "Java Developer",
          "Java Developer",
          "Java Developer",
          "Java Developer",
          "Java Developer",
          "Java Developer",
          "Java Developer",
          "Java Developer",
          "Java Developer",
          "Java Developer",
          "Java Developer",
          "Java Developer",
          "Java Developer",
          "Java Developer",
          "Java Developer",
          "Java Developer",
          "Java Developer",
          "Java Developer",
          "Java Developer",
          "Java Developer",
          "Java Developer",
          "Java Developer",
          "Java Developer",
          "Java Developer",
          "Java Developer",
          "Java Developer",
          "Java Developer",
          "Java Developer",
          "Java Developer",
          "Java Developer",
          "Java Developer",
          "Java Developer",
          "Java Developer",
          "Java Developer",
          "Java Developer",
          "Java Developer",
          "Java Developer",
          "Java Developer",
          "Java Developer",
          "Java Developer",
          "Java Developer",
          "Java Developer",
          "Java Developer",
          "Java Developer",
          "Java Developer",
          "Java Developer",
          "Java Developer",
          "Java Developer",
          "Java Developer",
          "Java Developer",
          "Business Analyst",
          "Business Analyst",
          "Business Analyst",
          "Business Analyst",
          "Business Analyst",
          "Business Analyst",
          "Business Analyst",
          "Business Analyst",
          "Business Analyst",
          "Business Analyst",
          "Business Analyst",
          "Business Analyst",
          "Business Analyst",
          "Business Analyst",
          "Business Analyst",
          "Business Analyst",
          "Business Analyst",
          "Business Analyst",
          "Business Analyst",
          "Business Analyst",
          "Business Analyst",
          "Business Analyst",
          "Business Analyst",
          "Business Analyst",
          "Business Analyst",
          "Business Analyst",
          "Business Analyst",
          "Business Analyst",
          "SAP Developer",
          "SAP Developer",
          "SAP Developer",
          "SAP Developer",
          "SAP Developer",
          "SAP Developer",
          "SAP Developer",
          "SAP Developer",
          "SAP Developer",
          "SAP Developer",
          "SAP Developer",
          "SAP Developer",
          "SAP Developer",
          "SAP Developer",
          "SAP Developer",
          "SAP Developer",
          "SAP Developer",
          "SAP Developer",
          "SAP Developer",
          "SAP Developer",
          "SAP Developer",
          "SAP Developer",
          "SAP Developer",
          "SAP Developer",
          "Automation Testing",
          "Automation Testing",
          "Automation Testing",
          "Automation Testing",
          "Automation Testing",
          "Automation Testing",
          "Automation Testing",
          "Automation Testing",
          "Automation Testing",
          "Automation Testing",
          "Automation Testing",
          "Automation Testing",
          "Automation Testing",
          "Automation Testing",
          "Automation Testing",
          "Automation Testing",
          "Automation Testing",
          "Automation Testing",
          "Automation Testing",
          "Automation Testing",
          "Automation Testing",
          "Automation Testing",
          "Automation Testing",
          "Automation Testing",
          "Automation Testing",
          "Automation Testing",
          "Electrical Engineering",
          "Electrical Engineering",
          "Electrical Engineering",
          "Electrical Engineering",
          "Electrical Engineering",
          "Electrical Engineering",
          "Electrical Engineering",
          "Electrical Engineering",
          "Electrical Engineering",
          "Electrical Engineering",
          "Electrical Engineering",
          "Electrical Engineering",
          "Electrical Engineering",
          "Electrical Engineering",
          "Electrical Engineering",
          "Electrical Engineering",
          "Electrical Engineering",
          "Electrical Engineering",
          "Electrical Engineering",
          "Electrical Engineering",
          "Electrical Engineering",
          "Electrical Engineering",
          "Electrical Engineering",
          "Electrical Engineering",
          "Electrical Engineering",
          "Electrical Engineering",
          "Electrical Engineering",
          "Electrical Engineering",
          "Electrical Engineering",
          "Electrical Engineering",
          "Operations Manager",
          "Operations Manager",
          "Operations Manager",
          "Operations Manager",
          "Operations Manager",
          "Operations Manager",
          "Operations Manager",
          "Operations Manager",
          "Operations Manager",
          "Operations Manager",
          "Operations Manager",
          "Operations Manager",
          "Operations Manager",
          "Operations Manager",
          "Operations Manager",
          "Operations Manager",
          "Operations Manager",
          "Operations Manager",
          "Operations Manager",
          "Operations Manager",
          "Operations Manager",
          "Operations Manager",
          "Operations Manager",
          "Operations Manager",
          "Operations Manager",
          "Operations Manager",
          "Operations Manager",
          "Operations Manager",
          "Operations Manager",
          "Operations Manager",
          "Operations Manager",
          "Operations Manager",
          "Operations Manager",
          "Operations Manager",
          "Operations Manager",
          "Operations Manager",
          "Operations Manager",
          "Operations Manager",
          "Operations Manager",
          "Operations Manager",
          "Python Developer",
          "Python Developer",
          "Python Developer",
          "Python Developer",
          "Python Developer",
          "Python Developer",
          "Python Developer",
          "Python Developer",
          "Python Developer",
          "Python Developer",
          "Python Developer",
          "Python Developer",
          "Python Developer",
          "Python Developer",
          "Python Developer",
          "Python Developer",
          "Python Developer",
          "Python Developer",
          "Python Developer",
          "Python Developer",
          "Python Developer",
          "Python Developer",
          "Python Developer",
          "Python Developer",
          "Python Developer",
          "Python Developer",
          "Python Developer",
          "Python Developer",
          "Python Developer",
          "Python Developer",
          "Python Developer",
          "Python Developer",
          "Python Developer",
          "Python Developer",
          "Python Developer",
          "Python Developer",
          "Python Developer",
          "Python Developer",
          "Python Developer",
          "Python Developer",
          "Python Developer",
          "Python Developer",
          "Python Developer",
          "Python Developer",
          "Python Developer",
          "Python Developer",
          "Python Developer",
          "Python Developer",
          "DevOps Engineer",
          "DevOps Engineer",
          "DevOps Engineer",
          "DevOps Engineer",
          "DevOps Engineer",
          "DevOps Engineer",
          "DevOps Engineer",
          "DevOps Engineer",
          "DevOps Engineer",
          "DevOps Engineer",
          "DevOps Engineer",
          "DevOps Engineer",
          "DevOps Engineer",
          "DevOps Engineer",
          "DevOps Engineer",
          "DevOps Engineer",
          "DevOps Engineer",
          "DevOps Engineer",
          "DevOps Engineer",
          "DevOps Engineer",
          "DevOps Engineer",
          "DevOps Engineer",
          "DevOps Engineer",
          "DevOps Engineer",
          "DevOps Engineer",
          "DevOps Engineer",
          "DevOps Engineer",
          "DevOps Engineer",
          "DevOps Engineer",
          "DevOps Engineer",
          "DevOps Engineer",
          "DevOps Engineer",
          "DevOps Engineer",
          "DevOps Engineer",
          "DevOps Engineer",
          "DevOps Engineer",
          "DevOps Engineer",
          "DevOps Engineer",
          "DevOps Engineer",
          "DevOps Engineer",
          "DevOps Engineer",
          "DevOps Engineer",
          "DevOps Engineer",
          "DevOps Engineer",
          "DevOps Engineer",
          "DevOps Engineer",
          "DevOps Engineer",
          "DevOps Engineer",
          "DevOps Engineer",
          "DevOps Engineer",
          "DevOps Engineer",
          "DevOps Engineer",
          "DevOps Engineer",
          "DevOps Engineer",
          "DevOps Engineer",
          "Network Security Engineer",
          "Network Security Engineer",
          "Network Security Engineer",
          "Network Security Engineer",
          "Network Security Engineer",
          "Network Security Engineer",
          "Network Security Engineer",
          "Network Security Engineer",
          "Network Security Engineer",
          "Network Security Engineer",
          "Network Security Engineer",
          "Network Security Engineer",
          "Network Security Engineer",
          "Network Security Engineer",
          "Network Security Engineer",
          "Network Security Engineer",
          "Network Security Engineer",
          "Network Security Engineer",
          "Network Security Engineer",
          "Network Security Engineer",
          "Network Security Engineer",
          "Network Security Engineer",
          "Network Security Engineer",
          "Network Security Engineer",
          "Network Security Engineer",
          "PMO",
          "PMO",
          "PMO",
          "PMO",
          "PMO",
          "PMO",
          "PMO",
          "PMO",
          "PMO",
          "PMO",
          "PMO",
          "PMO",
          "PMO",
          "PMO",
          "PMO",
          "PMO",
          "PMO",
          "PMO",
          "PMO",
          "PMO",
          "PMO",
          "PMO",
          "PMO",
          "PMO",
          "PMO",
          "PMO",
          "PMO",
          "PMO",
          "PMO",
          "PMO",
          "Database",
          "Database",
          "Database",
          "Database",
          "Database",
          "Database",
          "Database",
          "Database",
          "Database",
          "Database",
          "Database",
          "Database",
          "Database",
          "Database",
          "Database",
          "Database",
          "Database",
          "Database",
          "Database",
          "Database",
          "Database",
          "Database",
          "Database",
          "Database",
          "Database",
          "Database",
          "Database",
          "Database",
          "Database",
          "Database",
          "Database",
          "Database",
          "Database",
          "Hadoop",
          "Hadoop",
          "Hadoop",
          "Hadoop",
          "Hadoop",
          "Hadoop",
          "Hadoop",
          "Hadoop",
          "Hadoop",
          "Hadoop",
          "Hadoop",
          "Hadoop",
          "Hadoop",
          "Hadoop",
          "Hadoop",
          "Hadoop",
          "Hadoop",
          "Hadoop",
          "Hadoop",
          "Hadoop",
          "Hadoop",
          "Hadoop",
          "Hadoop",
          "Hadoop",
          "Hadoop",
          "Hadoop",
          "Hadoop",
          "Hadoop",
          "Hadoop",
          "Hadoop",
          "Hadoop",
          "Hadoop",
          "Hadoop",
          "Hadoop",
          "Hadoop",
          "Hadoop",
          "Hadoop",
          "Hadoop",
          "Hadoop",
          "Hadoop",
          "Hadoop",
          "Hadoop",
          "ETL Developer",
          "ETL Developer",
          "ETL Developer",
          "ETL Developer",
          "ETL Developer",
          "ETL Developer",
          "ETL Developer",
          "ETL Developer",
          "ETL Developer",
          "ETL Developer",
          "ETL Developer",
          "ETL Developer",
          "ETL Developer",
          "ETL Developer",
          "ETL Developer",
          "ETL Developer",
          "ETL Developer",
          "ETL Developer",
          "ETL Developer",
          "ETL Developer",
          "ETL Developer",
          "ETL Developer",
          "ETL Developer",
          "ETL Developer",
          "ETL Developer",
          "ETL Developer",
          "ETL Developer",
          "ETL Developer",
          "ETL Developer",
          "ETL Developer",
          "ETL Developer",
          "ETL Developer",
          "ETL Developer",
          "ETL Developer",
          "ETL Developer",
          "ETL Developer",
          "ETL Developer",
          "ETL Developer",
          "ETL Developer",
          "ETL Developer",
          "DotNet Developer",
          "DotNet Developer",
          "DotNet Developer",
          "DotNet Developer",
          "DotNet Developer",
          "DotNet Developer",
          "DotNet Developer",
          "DotNet Developer",
          "DotNet Developer",
          "DotNet Developer",
          "DotNet Developer",
          "DotNet Developer",
          "DotNet Developer",
          "DotNet Developer",
          "DotNet Developer",
          "DotNet Developer",
          "DotNet Developer",
          "DotNet Developer",
          "DotNet Developer",
          "DotNet Developer",
          "DotNet Developer",
          "DotNet Developer",
          "DotNet Developer",
          "DotNet Developer",
          "DotNet Developer",
          "DotNet Developer",
          "DotNet Developer",
          "DotNet Developer",
          "Blockchain",
          "Blockchain",
          "Blockchain",
          "Blockchain",
          "Blockchain",
          "Blockchain",
          "Blockchain",
          "Blockchain",
          "Blockchain",
          "Blockchain",
          "Blockchain",
          "Blockchain",
          "Blockchain",
          "Blockchain",
          "Blockchain",
          "Blockchain",
          "Blockchain",
          "Blockchain",
          "Blockchain",
          "Blockchain",
          "Blockchain",
          "Blockchain",
          "Blockchain",
          "Blockchain",
          "Blockchain",
          "Blockchain",
          "Blockchain",
          "Blockchain",
          "Blockchain",
          "Blockchain",
          "Blockchain",
          "Blockchain",
          "Blockchain",
          "Blockchain",
          "Blockchain",
          "Blockchain",
          "Blockchain",
          "Blockchain",
          "Blockchain",
          "Blockchain",
          "Testing",
          "Testing",
          "Testing",
          "Testing",
          "Testing",
          "Testing",
          "Testing",
          "Testing",
          "Testing",
          "Testing",
          "Testing",
          "Testing",
          "Testing",
          "Testing",
          "Testing",
          "Testing",
          "Testing",
          "Testing",
          "Testing",
          "Testing",
          "Testing",
          "Testing",
          "Testing",
          "Testing",
          "Testing",
          "Testing",
          "Testing",
          "Testing",
          "Testing",
          "Testing",
          "Testing",
          "Testing",
          "Testing",
          "Testing",
          "Testing",
          "Testing",
          "Testing",
          "Testing",
          "Testing",
          "Testing",
          "Testing",
          "Testing",
          "Testing",
          "Testing",
          "Testing",
          "Testing",
          "Testing",
          "Testing",
          "Testing",
          "Testing",
          "Testing",
          "Testing",
          "Testing",
          "Testing",
          "Testing",
          "Testing",
          "Testing",
          "Testing",
          "Testing",
          "Testing",
          "Testing",
          "Testing",
          "Testing",
          "Testing",
          "Testing",
          "Testing",
          "Testing",
          "Testing",
          "Testing",
          "Testing"
         ],
         "legendgroup": "",
         "name": "",
         "showlegend": true,
         "type": "pie"
        }
       ],
       "layout": {
        "height": 500,
        "legend": {
         "tracegroupgap": 0
        },
        "margin": {
         "t": 60
        },
        "piecolorway": [
         "#1F77B4",
         "#FF7F0E",
         "#2CA02C",
         "#D62728",
         "#9467BD",
         "#8C564B",
         "#E377C2",
         "#7F7F7F",
         "#BCBD22",
         "#17BECF"
        ],
        "template": {
         "data": {
          "bar": [
           {
            "error_x": {
             "color": "#2a3f5f"
            },
            "error_y": {
             "color": "#2a3f5f"
            },
            "marker": {
             "line": {
              "color": "#E5ECF6",
              "width": 0.5
             },
             "pattern": {
              "fillmode": "overlay",
              "size": 10,
              "solidity": 0.2
             }
            },
            "type": "bar"
           }
          ],
          "barpolar": [
           {
            "marker": {
             "line": {
              "color": "#E5ECF6",
              "width": 0.5
             },
             "pattern": {
              "fillmode": "overlay",
              "size": 10,
              "solidity": 0.2
             }
            },
            "type": "barpolar"
           }
          ],
          "carpet": [
           {
            "aaxis": {
             "endlinecolor": "#2a3f5f",
             "gridcolor": "white",
             "linecolor": "white",
             "minorgridcolor": "white",
             "startlinecolor": "#2a3f5f"
            },
            "baxis": {
             "endlinecolor": "#2a3f5f",
             "gridcolor": "white",
             "linecolor": "white",
             "minorgridcolor": "white",
             "startlinecolor": "#2a3f5f"
            },
            "type": "carpet"
           }
          ],
          "choropleth": [
           {
            "colorbar": {
             "outlinewidth": 0,
             "ticks": ""
            },
            "type": "choropleth"
           }
          ],
          "contour": [
           {
            "colorbar": {
             "outlinewidth": 0,
             "ticks": ""
            },
            "colorscale": [
             [
              0,
              "#0d0887"
             ],
             [
              0.1111111111111111,
              "#46039f"
             ],
             [
              0.2222222222222222,
              "#7201a8"
             ],
             [
              0.3333333333333333,
              "#9c179e"
             ],
             [
              0.4444444444444444,
              "#bd3786"
             ],
             [
              0.5555555555555556,
              "#d8576b"
             ],
             [
              0.6666666666666666,
              "#ed7953"
             ],
             [
              0.7777777777777778,
              "#fb9f3a"
             ],
             [
              0.8888888888888888,
              "#fdca26"
             ],
             [
              1,
              "#f0f921"
             ]
            ],
            "type": "contour"
           }
          ],
          "contourcarpet": [
           {
            "colorbar": {
             "outlinewidth": 0,
             "ticks": ""
            },
            "type": "contourcarpet"
           }
          ],
          "heatmap": [
           {
            "colorbar": {
             "outlinewidth": 0,
             "ticks": ""
            },
            "colorscale": [
             [
              0,
              "#0d0887"
             ],
             [
              0.1111111111111111,
              "#46039f"
             ],
             [
              0.2222222222222222,
              "#7201a8"
             ],
             [
              0.3333333333333333,
              "#9c179e"
             ],
             [
              0.4444444444444444,
              "#bd3786"
             ],
             [
              0.5555555555555556,
              "#d8576b"
             ],
             [
              0.6666666666666666,
              "#ed7953"
             ],
             [
              0.7777777777777778,
              "#fb9f3a"
             ],
             [
              0.8888888888888888,
              "#fdca26"
             ],
             [
              1,
              "#f0f921"
             ]
            ],
            "type": "heatmap"
           }
          ],
          "heatmapgl": [
           {
            "colorbar": {
             "outlinewidth": 0,
             "ticks": ""
            },
            "colorscale": [
             [
              0,
              "#0d0887"
             ],
             [
              0.1111111111111111,
              "#46039f"
             ],
             [
              0.2222222222222222,
              "#7201a8"
             ],
             [
              0.3333333333333333,
              "#9c179e"
             ],
             [
              0.4444444444444444,
              "#bd3786"
             ],
             [
              0.5555555555555556,
              "#d8576b"
             ],
             [
              0.6666666666666666,
              "#ed7953"
             ],
             [
              0.7777777777777778,
              "#fb9f3a"
             ],
             [
              0.8888888888888888,
              "#fdca26"
             ],
             [
              1,
              "#f0f921"
             ]
            ],
            "type": "heatmapgl"
           }
          ],
          "histogram": [
           {
            "marker": {
             "pattern": {
              "fillmode": "overlay",
              "size": 10,
              "solidity": 0.2
             }
            },
            "type": "histogram"
           }
          ],
          "histogram2d": [
           {
            "colorbar": {
             "outlinewidth": 0,
             "ticks": ""
            },
            "colorscale": [
             [
              0,
              "#0d0887"
             ],
             [
              0.1111111111111111,
              "#46039f"
             ],
             [
              0.2222222222222222,
              "#7201a8"
             ],
             [
              0.3333333333333333,
              "#9c179e"
             ],
             [
              0.4444444444444444,
              "#bd3786"
             ],
             [
              0.5555555555555556,
              "#d8576b"
             ],
             [
              0.6666666666666666,
              "#ed7953"
             ],
             [
              0.7777777777777778,
              "#fb9f3a"
             ],
             [
              0.8888888888888888,
              "#fdca26"
             ],
             [
              1,
              "#f0f921"
             ]
            ],
            "type": "histogram2d"
           }
          ],
          "histogram2dcontour": [
           {
            "colorbar": {
             "outlinewidth": 0,
             "ticks": ""
            },
            "colorscale": [
             [
              0,
              "#0d0887"
             ],
             [
              0.1111111111111111,
              "#46039f"
             ],
             [
              0.2222222222222222,
              "#7201a8"
             ],
             [
              0.3333333333333333,
              "#9c179e"
             ],
             [
              0.4444444444444444,
              "#bd3786"
             ],
             [
              0.5555555555555556,
              "#d8576b"
             ],
             [
              0.6666666666666666,
              "#ed7953"
             ],
             [
              0.7777777777777778,
              "#fb9f3a"
             ],
             [
              0.8888888888888888,
              "#fdca26"
             ],
             [
              1,
              "#f0f921"
             ]
            ],
            "type": "histogram2dcontour"
           }
          ],
          "mesh3d": [
           {
            "colorbar": {
             "outlinewidth": 0,
             "ticks": ""
            },
            "type": "mesh3d"
           }
          ],
          "parcoords": [
           {
            "line": {
             "colorbar": {
              "outlinewidth": 0,
              "ticks": ""
             }
            },
            "type": "parcoords"
           }
          ],
          "pie": [
           {
            "automargin": true,
            "type": "pie"
           }
          ],
          "scatter": [
           {
            "fillpattern": {
             "fillmode": "overlay",
             "size": 10,
             "solidity": 0.2
            },
            "type": "scatter"
           }
          ],
          "scatter3d": [
           {
            "line": {
             "colorbar": {
              "outlinewidth": 0,
              "ticks": ""
             }
            },
            "marker": {
             "colorbar": {
              "outlinewidth": 0,
              "ticks": ""
             }
            },
            "type": "scatter3d"
           }
          ],
          "scattercarpet": [
           {
            "marker": {
             "colorbar": {
              "outlinewidth": 0,
              "ticks": ""
             }
            },
            "type": "scattercarpet"
           }
          ],
          "scattergeo": [
           {
            "marker": {
             "colorbar": {
              "outlinewidth": 0,
              "ticks": ""
             }
            },
            "type": "scattergeo"
           }
          ],
          "scattergl": [
           {
            "marker": {
             "colorbar": {
              "outlinewidth": 0,
              "ticks": ""
             }
            },
            "type": "scattergl"
           }
          ],
          "scattermapbox": [
           {
            "marker": {
             "colorbar": {
              "outlinewidth": 0,
              "ticks": ""
             }
            },
            "type": "scattermapbox"
           }
          ],
          "scatterpolar": [
           {
            "marker": {
             "colorbar": {
              "outlinewidth": 0,
              "ticks": ""
             }
            },
            "type": "scatterpolar"
           }
          ],
          "scatterpolargl": [
           {
            "marker": {
             "colorbar": {
              "outlinewidth": 0,
              "ticks": ""
             }
            },
            "type": "scatterpolargl"
           }
          ],
          "scatterternary": [
           {
            "marker": {
             "colorbar": {
              "outlinewidth": 0,
              "ticks": ""
             }
            },
            "type": "scatterternary"
           }
          ],
          "surface": [
           {
            "colorbar": {
             "outlinewidth": 0,
             "ticks": ""
            },
            "colorscale": [
             [
              0,
              "#0d0887"
             ],
             [
              0.1111111111111111,
              "#46039f"
             ],
             [
              0.2222222222222222,
              "#7201a8"
             ],
             [
              0.3333333333333333,
              "#9c179e"
             ],
             [
              0.4444444444444444,
              "#bd3786"
             ],
             [
              0.5555555555555556,
              "#d8576b"
             ],
             [
              0.6666666666666666,
              "#ed7953"
             ],
             [
              0.7777777777777778,
              "#fb9f3a"
             ],
             [
              0.8888888888888888,
              "#fdca26"
             ],
             [
              1,
              "#f0f921"
             ]
            ],
            "type": "surface"
           }
          ],
          "table": [
           {
            "cells": {
             "fill": {
              "color": "#EBF0F8"
             },
             "line": {
              "color": "white"
             }
            },
            "header": {
             "fill": {
              "color": "#C8D4E3"
             },
             "line": {
              "color": "white"
             }
            },
            "type": "table"
           }
          ]
         },
         "layout": {
          "annotationdefaults": {
           "arrowcolor": "#2a3f5f",
           "arrowhead": 0,
           "arrowwidth": 1
          },
          "autotypenumbers": "strict",
          "coloraxis": {
           "colorbar": {
            "outlinewidth": 0,
            "ticks": ""
           }
          },
          "colorscale": {
           "diverging": [
            [
             0,
             "#8e0152"
            ],
            [
             0.1,
             "#c51b7d"
            ],
            [
             0.2,
             "#de77ae"
            ],
            [
             0.3,
             "#f1b6da"
            ],
            [
             0.4,
             "#fde0ef"
            ],
            [
             0.5,
             "#f7f7f7"
            ],
            [
             0.6,
             "#e6f5d0"
            ],
            [
             0.7,
             "#b8e186"
            ],
            [
             0.8,
             "#7fbc41"
            ],
            [
             0.9,
             "#4d9221"
            ],
            [
             1,
             "#276419"
            ]
           ],
           "sequential": [
            [
             0,
             "#0d0887"
            ],
            [
             0.1111111111111111,
             "#46039f"
            ],
            [
             0.2222222222222222,
             "#7201a8"
            ],
            [
             0.3333333333333333,
             "#9c179e"
            ],
            [
             0.4444444444444444,
             "#bd3786"
            ],
            [
             0.5555555555555556,
             "#d8576b"
            ],
            [
             0.6666666666666666,
             "#ed7953"
            ],
            [
             0.7777777777777778,
             "#fb9f3a"
            ],
            [
             0.8888888888888888,
             "#fdca26"
            ],
            [
             1,
             "#f0f921"
            ]
           ],
           "sequentialminus": [
            [
             0,
             "#0d0887"
            ],
            [
             0.1111111111111111,
             "#46039f"
            ],
            [
             0.2222222222222222,
             "#7201a8"
            ],
            [
             0.3333333333333333,
             "#9c179e"
            ],
            [
             0.4444444444444444,
             "#bd3786"
            ],
            [
             0.5555555555555556,
             "#d8576b"
            ],
            [
             0.6666666666666666,
             "#ed7953"
            ],
            [
             0.7777777777777778,
             "#fb9f3a"
            ],
            [
             0.8888888888888888,
             "#fdca26"
            ],
            [
             1,
             "#f0f921"
            ]
           ]
          },
          "colorway": [
           "#636efa",
           "#EF553B",
           "#00cc96",
           "#ab63fa",
           "#FFA15A",
           "#19d3f3",
           "#FF6692",
           "#B6E880",
           "#FF97FF",
           "#FECB52"
          ],
          "font": {
           "color": "#2a3f5f"
          },
          "geo": {
           "bgcolor": "white",
           "lakecolor": "white",
           "landcolor": "#E5ECF6",
           "showlakes": true,
           "showland": true,
           "subunitcolor": "white"
          },
          "hoverlabel": {
           "align": "left"
          },
          "hovermode": "closest",
          "mapbox": {
           "style": "light"
          },
          "paper_bgcolor": "white",
          "plot_bgcolor": "#E5ECF6",
          "polar": {
           "angularaxis": {
            "gridcolor": "white",
            "linecolor": "white",
            "ticks": ""
           },
           "bgcolor": "#E5ECF6",
           "radialaxis": {
            "gridcolor": "white",
            "linecolor": "white",
            "ticks": ""
           }
          },
          "scene": {
           "xaxis": {
            "backgroundcolor": "#E5ECF6",
            "gridcolor": "white",
            "gridwidth": 2,
            "linecolor": "white",
            "showbackground": true,
            "ticks": "",
            "zerolinecolor": "white"
           },
           "yaxis": {
            "backgroundcolor": "#E5ECF6",
            "gridcolor": "white",
            "gridwidth": 2,
            "linecolor": "white",
            "showbackground": true,
            "ticks": "",
            "zerolinecolor": "white"
           },
           "zaxis": {
            "backgroundcolor": "#E5ECF6",
            "gridcolor": "white",
            "gridwidth": 2,
            "linecolor": "white",
            "showbackground": true,
            "ticks": "",
            "zerolinecolor": "white"
           }
          },
          "shapedefaults": {
           "line": {
            "color": "#2a3f5f"
           }
          },
          "ternary": {
           "aaxis": {
            "gridcolor": "white",
            "linecolor": "white",
            "ticks": ""
           },
           "baxis": {
            "gridcolor": "white",
            "linecolor": "white",
            "ticks": ""
           },
           "bgcolor": "#E5ECF6",
           "caxis": {
            "gridcolor": "white",
            "linecolor": "white",
            "ticks": ""
           }
          },
          "title": {
           "x": 0.05
          },
          "xaxis": {
           "automargin": true,
           "gridcolor": "white",
           "linecolor": "white",
           "ticks": "",
           "title": {
            "standoff": 15
           },
           "zerolinecolor": "white",
           "zerolinewidth": 2
          },
          "yaxis": {
           "automargin": true,
           "gridcolor": "white",
           "linecolor": "white",
           "ticks": "",
           "title": {
            "standoff": 15
           },
           "zerolinecolor": "white",
           "zerolinewidth": 2
          }
         }
        },
        "width": 700
       }
      },
      "image/png": "[encoded data removed]",
      "text/html": [
       "<div>                            <div id=\"b7a8b006-44f8-4b6d-a8fc-74231ff8961e\" class=\"plotly-graph-div\" style=\"height:500px; width:700px;\"></div>            <script type=\"text/javascript\">                require([\"plotly\"], function(Plotly) {                    window.PLOTLYENV=window.PLOTLYENV || {};                                    if (document.getElementById(\"b7a8b006-44f8-4b6d-a8fc-74231ff8961e\")) {                    Plotly.newPlot(                        \"b7a8b006-44f8-4b6d-a8fc-74231ff8961e\",                        [{\"domain\":{\"x\":[0.0,1.0],\"y\":[0.0,1.0]},\"hovertemplate\":\"Category=%{label}\\u003cextra\\u003e\\u003c\\u002fextra\\u003e\",\"labels\":[\"Data Science\",\"Data Science\",\"Data Science\",\"Data Science\",\"Data Science\",\"Data Science\",\"Data Science\",\"Data Science\",\"Data Science\",\"Data Science\",\"Data Science\",\"Data Science\",\"Data Science\",\"Data Science\",\"Data Science\",\"Data Science\",\"Data Science\",\"Data Science\",\"Data Science\",\"Data Science\",\"Data Science\",\"Data Science\",\"Data Science\",\"Data Science\",\"Data Science\",\"Data Science\",\"Data Science\",\"Data Science\",\"Data Science\",\"Data Science\",\"Data Science\",\"Data Science\",\"Data Science\",\"Data Science\",\"Data Science\",\"Data Science\",\"Data Science\",\"Data Science\",\"Data Science\",\"Data Science\",\"HR\",\"HR\",\"HR\",\"HR\",\"HR\",\"HR\",\"HR\",\"HR\",\"HR\",\"HR\",\"HR\",\"HR\",\"HR\",\"HR\",\"HR\",\"HR\",\"HR\",\"HR\",\"HR\",\"HR\",\"HR\",\"HR\",\"HR\",\"HR\",\"HR\",\"HR\",\"HR\",\"HR\",\"HR\",\"HR\",\"HR\",\"HR\",\"HR\",\"HR\",\"HR\",\"HR\",\"HR\",\"HR\",\"HR\",\"HR\",\"HR\",\"HR\",\"HR\",\"HR\",\"Advocate\",\"Advocate\",\"Advocate\",\"Advocate\",\"Advocate\",\"Advocate\",\"Advocate\",\"Advocate\",\"Advocate\",\"Advocate\",\"Advocate\",\"Advocate\",\"Advocate\",\"Advocate\",\"Advocate\",\"Advocate\",\"Advocate\",\"Advocate\",\"Advocate\",\"Advocate\",\"Arts\",\"Arts\",\"Arts\",\"Arts\",\"Arts\",\"Arts\",\"Arts\",\"Arts\",\"Arts\",\"Arts\",\"Arts\",\"Arts\",\"Arts\",\"Arts\",\"Arts\",\"Arts\",\"Arts\",\"Arts\",\"Arts\",\"Arts\",\"Arts\",\"Arts\",\"Arts\",\"Arts\",\"Arts\",\"Arts\",\"Arts\",\"Arts\",\"Arts\",\"Arts\",\"Arts\",\"Arts\",\"Arts\",\"Arts\",\"Arts\",\"Arts\",\"Web Designing\",\"Web Designing\",\"Web Designing\",\"Web Designing\",\"Web Designing\",\"Web Designing\",\"Web Designing\",\"Web Designing\",\"Web Designing\",\"Web Designing\",\"Web Designing\",\"Web Designing\",\"Web Designing\",\"Web Designing\",\"Web Designing\",\"Web Designing\",\"Web Designing\",\"Web Designing\",\"Web Designing\",\"Web Designing\",\"Web Designing\",\"Web Designing\",\"Web Designing\",\"Web Designing\",\"Web Designing\",\"Web Designing\",\"Web Designing\",\"Web Designing\",\"Web Designing\",\"Web Designing\",\"Web Designing\",\"Web Designing\",\"Web Designing\",\"Web Designing\",\"Web Designing\",\"Web Designing\",\"Web Designing\",\"Web Designing\",\"Web Designing\",\"Web Designing\",\"Web Designing\",\"Web Designing\",\"Web Designing\",\"Web Designing\",\"Web Designing\",\"Mechanical Engineer\",\"Mechanical Engineer\",\"Mechanical Engineer\",\"Mechanical Engineer\",\"Mechanical Engineer\",\"Mechanical Engineer\",\"Mechanical Engineer\",\"Mechanical Engineer\",\"Mechanical Engineer\",\"Mechanical Engineer\",\"Mechanical Engineer\",\"Mechanical Engineer\",\"Mechanical Engineer\",\"Mechanical Engineer\",\"Mechanical Engineer\",\"Mechanical Engineer\",\"Mechanical Engineer\",\"Mechanical Engineer\",\"Mechanical Engineer\",\"Mechanical Engineer\",\"Mechanical Engineer\",\"Mechanical Engineer\",\"Mechanical Engineer\",\"Mechanical Engineer\",\"Mechanical Engineer\",\"Mechanical Engineer\",\"Mechanical Engineer\",\"Mechanical Engineer\",\"Mechanical Engineer\",\"Mechanical Engineer\",\"Mechanical Engineer\",\"Mechanical Engineer\",\"Mechanical Engineer\",\"Mechanical Engineer\",\"Mechanical Engineer\",\"Mechanical Engineer\",\"Mechanical Engineer\",\"Mechanical Engineer\",\"Mechanical Engineer\",\"Mechanical Engineer\",\"Sales\",\"Sales\",\"Sales\",\"Sales\",\"Sales\",\"Sales\",\"Sales\",\"Sales\",\"Sales\",\"Sales\",\"Sales\",\"Sales\",\"Sales\",\"Sales\",\"Sales\",\"Sales\",\"Sales\",\"Sales\",\"Sales\",\"Sales\",\"Sales\",\"Sales\",\"Sales\",\"Sales\",\"Sales\",\"Sales\",\"Sales\",\"Sales\",\"Sales\",\"Sales\",\"Sales\",\"Sales\",\"Sales\",\"Sales\",\"Sales\",\"Sales\",\"Sales\",\"Sales\",\"Sales\",\"Sales\",\"Health and fitness\",\"Health and fitness\",\"Health and fitness\",\"Health and fitness\",\"Health and fitness\",\"Health and fitness\",\"Health and fitness\",\"Health and fitness\",\"Health and fitness\",\"Health and fitness\",\"Health and fitness\",\"Health and fitness\",\"Health and fitness\",\"Health and fitness\",\"Health and fitness\",\"Health and fitness\",\"Health and fitness\",\"Health and fitness\",\"Health and fitness\",\"Health and fitness\",\"Health and fitness\",\"Health and fitness\",\"Health and fitness\",\"Health and fitness\",\"Health and fitness\",\"Health and fitness\",\"Health and fitness\",\"Health and fitness\",\"Health and fitness\",\"Health and fitness\",\"Civil Engineer\",\"Civil Engineer\",\"Civil Engineer\",\"Civil Engineer\",\"Civil Engineer\",\"Civil Engineer\",\"Civil Engineer\",\"Civil Engineer\",\"Civil Engineer\",\"Civil Engineer\",\"Civil Engineer\",\"Civil Engineer\",\"Civil Engineer\",\"Civil Engineer\",\"Civil Engineer\",\"Civil Engineer\",\"Civil Engineer\",\"Civil Engineer\",\"Civil Engineer\",\"Civil Engineer\",\"Civil Engineer\",\"Civil Engineer\",\"Civil Engineer\",\"Civil Engineer\",\"Java Developer\",\"Java Developer\",\"Java Developer\",\"Java Developer\",\"Java Developer\",\"Java Developer\",\"Java Developer\",\"Java Developer\",\"Java Developer\",\"Java Developer\",\"Java Developer\",\"Java Developer\",\"Java Developer\",\"Java Developer\",\"Java Developer\",\"Java Developer\",\"Java Developer\",\"Java Developer\",\"Java Developer\",\"Java Developer\",\"Java Developer\",\"Java Developer\",\"Java Developer\",\"Java Developer\",\"Java Developer\",\"Java Developer\",\"Java Developer\",\"Java Developer\",\"Java Developer\",\"Java Developer\",\"Java Developer\",\"Java Developer\",\"Java Developer\",\"Java Developer\",\"Java Developer\",\"Java Developer\",\"Java Developer\",\"Java Developer\",\"Java Developer\",\"Java Developer\",\"Java Developer\",\"Java Developer\",\"Java Developer\",\"Java Developer\",\"Java Developer\",\"Java Developer\",\"Java Developer\",\"Java Developer\",\"Java Developer\",\"Java Developer\",\"Java Developer\",\"Java Developer\",\"Java Developer\",\"Java Developer\",\"Java Developer\",\"Java Developer\",\"Java Developer\",\"Java Developer\",\"Java Developer\",\"Java Developer\",\"Java Developer\",\"Java Developer\",\"Java Developer\",\"Java Developer\",\"Java Developer\",\"Java Developer\",\"Java Developer\",\"Java Developer\",\"Java Developer\",\"Java Developer\",\"Java Developer\",\"Java Developer\",\"Java Developer\",\"Java Developer\",\"Java Developer\",\"Java Developer\",\"Java Developer\",\"Java Developer\",\"Java Developer\",\"Java Developer\",\"Java Developer\",\"Java Developer\",\"Java Developer\",\"Java Developer\",\"Business Analyst\",\"Business Analyst\",\"Business Analyst\",\"Business Analyst\",\"Business Analyst\",\"Business Analyst\",\"Business Analyst\",\"Business Analyst\",\"Business Analyst\",\"Business Analyst\",\"Business Analyst\",\"Business Analyst\",\"Business Analyst\",\"Business Analyst\",\"Business Analyst\",\"Business Analyst\",\"Business Analyst\",\"Business Analyst\",\"Business Analyst\",\"Business Analyst\",\"Business Analyst\",\"Business Analyst\",\"Business Analyst\",\"Business Analyst\",\"Business Analyst\",\"Business Analyst\",\"Business Analyst\",\"Business Analyst\",\"SAP Developer\",\"SAP Developer\",\"SAP Developer\",\"SAP Developer\",\"SAP Developer\",\"SAP Developer\",\"SAP Developer\",\"SAP Developer\",\"SAP Developer\",\"SAP Developer\",\"SAP Developer\",\"SAP Developer\",\"SAP Developer\",\"SAP Developer\",\"SAP Developer\",\"SAP Developer\",\"SAP Developer\",\"SAP Developer\",\"SAP Developer\",\"SAP Developer\",\"SAP Developer\",\"SAP Developer\",\"SAP Developer\",\"SAP Developer\",\"Automation Testing\",\"Automation Testing\",\"Automation Testing\",\"Automation Testing\",\"Automation Testing\",\"Automation Testing\",\"Automation Testing\",\"Automation Testing\",\"Automation Testing\",\"Automation Testing\",\"Automation Testing\",\"Automation Testing\",\"Automation Testing\",\"Automation Testing\",\"Automation Testing\",\"Automation Testing\",\"Automation Testing\",\"Automation Testing\",\"Automation Testing\",\"Automation Testing\",\"Automation Testing\",\"Automation Testing\",\"Automation Testing\",\"Automation Testing\",\"Automation Testing\",\"Automation Testing\",\"Electrical Engineering\",\"Electrical Engineering\",\"Electrical Engineering\",\"Electrical Engineering\",\"Electrical Engineering\",\"Electrical Engineering\",\"Electrical Engineering\",\"Electrical Engineering\",\"Electrical Engineering\",\"Electrical Engineering\",\"Electrical Engineering\",\"Electrical Engineering\",\"Electrical Engineering\",\"Electrical Engineering\",\"Electrical Engineering\",\"Electrical Engineering\",\"Electrical Engineering\",\"Electrical Engineering\",\"Electrical Engineering\",\"Electrical Engineering\",\"Electrical Engineering\",\"Electrical Engineering\",\"Electrical Engineering\",\"Electrical Engineering\",\"Electrical Engineering\",\"Electrical Engineering\",\"Electrical Engineering\",\"Electrical Engineering\",\"Electrical Engineering\",\"Electrical Engineering\",\"Operations Manager\",\"Operations Manager\",\"Operations Manager\",\"Operations Manager\",\"Operations Manager\",\"Operations Manager\",\"Operations Manager\",\"Operations Manager\",\"Operations Manager\",\"Operations Manager\",\"Operations Manager\",\"Operations Manager\",\"Operations Manager\",\"Operations Manager\",\"Operations Manager\",\"Operations Manager\",\"Operations Manager\",\"Operations Manager\",\"Operations Manager\",\"Operations Manager\",\"Operations Manager\",\"Operations Manager\",\"Operations Manager\",\"Operations Manager\",\"Operations Manager\",\"Operations Manager\",\"Operations Manager\",\"Operations Manager\",\"Operations Manager\",\"Operations Manager\",\"Operations Manager\",\"Operations Manager\",\"Operations Manager\",\"Operations Manager\",\"Operations Manager\",\"Operations Manager\",\"Operations Manager\",\"Operations Manager\",\"Operations Manager\",\"Operations Manager\",\"Python Developer\",\"Python Developer\",\"Python Developer\",\"Python Developer\",\"Python Developer\",\"Python Developer\",\"Python Developer\",\"Python Developer\",\"Python Developer\",\"Python Developer\",\"Python Developer\",\"Python Developer\",\"Python Developer\",\"Python Developer\",\"Python Developer\",\"Python Developer\",\"Python Developer\",\"Python Developer\",\"Python Developer\",\"Python Developer\",\"Python Developer\",\"Python Developer\",\"Python Developer\",\"Python Developer\",\"Python Developer\",\"Python Developer\",\"Python Developer\",\"Python Developer\",\"Python Developer\",\"Python Developer\",\"Python Developer\",\"Python Developer\",\"Python Developer\",\"Python Developer\",\"Python Developer\",\"Python Developer\",\"Python Developer\",\"Python Developer\",\"Python Developer\",\"Python Developer\",\"Python Developer\",\"Python Developer\",\"Python Developer\",\"Python Developer\",\"Python Developer\",\"Python Developer\",\"Python Developer\",\"Python Developer\",\"DevOps Engineer\",\"DevOps Engineer\",\"DevOps Engineer\",\"DevOps Engineer\",\"DevOps Engineer\",\"DevOps Engineer\",\"DevOps Engineer\",\"DevOps Engineer\",\"DevOps Engineer\",\"DevOps Engineer\",\"DevOps Engineer\",\"DevOps Engineer\",\"DevOps Engineer\",\"DevOps Engineer\",\"DevOps Engineer\",\"DevOps Engineer\",\"DevOps Engineer\",\"DevOps Engineer\",\"DevOps Engineer\",\"DevOps Engineer\",\"DevOps Engineer\",\"DevOps Engineer\",\"DevOps Engineer\",\"DevOps Engineer\",\"DevOps Engineer\",\"DevOps Engineer\",\"DevOps Engineer\",\"DevOps Engineer\",\"DevOps Engineer\",\"DevOps Engineer\",\"DevOps Engineer\",\"DevOps Engineer\",\"DevOps Engineer\",\"DevOps Engineer\",\"DevOps Engineer\",\"DevOps Engineer\",\"DevOps Engineer\",\"DevOps Engineer\",\"DevOps Engineer\",\"DevOps Engineer\",\"DevOps Engineer\",\"DevOps Engineer\",\"DevOps Engineer\",\"DevOps Engineer\",\"DevOps Engineer\",\"DevOps Engineer\",\"DevOps Engineer\",\"DevOps Engineer\",\"DevOps Engineer\",\"DevOps Engineer\",\"DevOps Engineer\",\"DevOps Engineer\",\"DevOps Engineer\",\"DevOps Engineer\",\"DevOps Engineer\",\"Network Security Engineer\",\"Network Security Engineer\",\"Network Security Engineer\",\"Network Security Engineer\",\"Network Security Engineer\",\"Network Security Engineer\",\"Network Security Engineer\",\"Network Security Engineer\",\"Network Security Engineer\",\"Network Security Engineer\",\"Network Security Engineer\",\"Network Security Engineer\",\"Network Security Engineer\",\"Network Security Engineer\",\"Network Security Engineer\",\"Network Security Engineer\",\"Network Security Engineer\",\"Network Security Engineer\",\"Network Security Engineer\",\"Network Security Engineer\",\"Network Security Engineer\",\"Network Security Engineer\",\"Network Security Engineer\",\"Network Security Engineer\",\"Network Security Engineer\",\"PMO\",\"PMO\",\"PMO\",\"PMO\",\"PMO\",\"PMO\",\"PMO\",\"PMO\",\"PMO\",\"PMO\",\"PMO\",\"PMO\",\"PMO\",\"PMO\",\"PMO\",\"PMO\",\"PMO\",\"PMO\",\"PMO\",\"PMO\",\"PMO\",\"PMO\",\"PMO\",\"PMO\",\"PMO\",\"PMO\",\"PMO\",\"PMO\",\"PMO\",\"PMO\",\"Database\",\"Database\",\"Database\",\"Database\",\"Database\",\"Database\",\"Database\",\"Database\",\"Database\",\"Database\",\"Database\",\"Database\",\"Database\",\"Database\",\"Database\",\"Database\",\"Database\",\"Database\",\"Database\",\"Database\",\"Database\",\"Database\",\"Database\",\"Database\",\"Database\",\"Database\",\"Database\",\"Database\",\"Database\",\"Database\",\"Database\",\"Database\",\"Database\",\"Hadoop\",\"Hadoop\",\"Hadoop\",\"Hadoop\",\"Hadoop\",\"Hadoop\",\"Hadoop\",\"Hadoop\",\"Hadoop\",\"Hadoop\",\"Hadoop\",\"Hadoop\",\"Hadoop\",\"Hadoop\",\"Hadoop\",\"Hadoop\",\"Hadoop\",\"Hadoop\",\"Hadoop\",\"Hadoop\",\"Hadoop\",\"Hadoop\",\"Hadoop\",\"Hadoop\",\"Hadoop\",\"Hadoop\",\"Hadoop\",\"Hadoop\",\"Hadoop\",\"Hadoop\",\"Hadoop\",\"Hadoop\",\"Hadoop\",\"Hadoop\",\"Hadoop\",\"Hadoop\",\"Hadoop\",\"Hadoop\",\"Hadoop\",\"Hadoop\",\"Hadoop\",\"Hadoop\",\"ETL Developer\",\"ETL Developer\",\"ETL Developer\",\"ETL Developer\",\"ETL Developer\",\"ETL Developer\",\"ETL Developer\",\"ETL Developer\",\"ETL Developer\",\"ETL Developer\",\"ETL Developer\",\"ETL Developer\",\"ETL Developer\",\"ETL Developer\",\"ETL Developer\",\"ETL Developer\",\"ETL Developer\",\"ETL Developer\",\"ETL Developer\",\"ETL Developer\",\"ETL Developer\",\"ETL Developer\",\"ETL Developer\",\"ETL Developer\",\"ETL Developer\",\"ETL Developer\",\"ETL Developer\",\"ETL Developer\",\"ETL Developer\",\"ETL Developer\",\"ETL Developer\",\"ETL Developer\",\"ETL Developer\",\"ETL Developer\",\"ETL Developer\",\"ETL Developer\",\"ETL Developer\",\"ETL Developer\",\"ETL Developer\",\"ETL Developer\",\"DotNet Developer\",\"DotNet Developer\",\"DotNet Developer\",\"DotNet Developer\",\"DotNet Developer\",\"DotNet Developer\",\"DotNet Developer\",\"DotNet Developer\",\"DotNet Developer\",\"DotNet Developer\",\"DotNet Developer\",\"DotNet Developer\",\"DotNet Developer\",\"DotNet Developer\",\"DotNet Developer\",\"DotNet Developer\",\"DotNet Developer\",\"DotNet Developer\",\"DotNet Developer\",\"DotNet Developer\",\"DotNet Developer\",\"DotNet Developer\",\"DotNet Developer\",\"DotNet Developer\",\"DotNet Developer\",\"DotNet Developer\",\"DotNet Developer\",\"DotNet Developer\",\"Blockchain\",\"Blockchain\",\"Blockchain\",\"Blockchain\",\"Blockchain\",\"Blockchain\",\"Blockchain\",\"Blockchain\",\"Blockchain\",\"Blockchain\",\"Blockchain\",\"Blockchain\",\"Blockchain\",\"Blockchain\",\"Blockchain\",\"Blockchain\",\"Blockchain\",\"Blockchain\",\"Blockchain\",\"Blockchain\",\"Blockchain\",\"Blockchain\",\"Blockchain\",\"Blockchain\",\"Blockchain\",\"Blockchain\",\"Blockchain\",\"Blockchain\",\"Blockchain\",\"Blockchain\",\"Blockchain\",\"Blockchain\",\"Blockchain\",\"Blockchain\",\"Blockchain\",\"Blockchain\",\"Blockchain\",\"Blockchain\",\"Blockchain\",\"Blockchain\",\"Testing\",\"Testing\",\"Testing\",\"Testing\",\"Testing\",\"Testing\",\"Testing\",\"Testing\",\"Testing\",\"Testing\",\"Testing\",\"Testing\",\"Testing\",\"Testing\",\"Testing\",\"Testing\",\"Testing\",\"Testing\",\"Testing\",\"Testing\",\"Testing\",\"Testing\",\"Testing\",\"Testing\",\"Testing\",\"Testing\",\"Testing\",\"Testing\",\"Testing\",\"Testing\",\"Testing\",\"Testing\",\"Testing\",\"Testing\",\"Testing\",\"Testing\",\"Testing\",\"Testing\",\"Testing\",\"Testing\",\"Testing\",\"Testing\",\"Testing\",\"Testing\",\"Testing\",\"Testing\",\"Testing\",\"Testing\",\"Testing\",\"Testing\",\"Testing\",\"Testing\",\"Testing\",\"Testing\",\"Testing\",\"Testing\",\"Testing\",\"Testing\",\"Testing\",\"Testing\",\"Testing\",\"Testing\",\"Testing\",\"Testing\",\"Testing\",\"Testing\",\"Testing\",\"Testing\",\"Testing\",\"Testing\"],\"legendgroup\":\"\",\"name\":\"\",\"showlegend\":true,\"type\":\"pie\"}],                        {\"template\":{\"data\":{\"histogram2dcontour\":[{\"type\":\"histogram2dcontour\",\"colorbar\":{\"outlinewidth\":0,\"ticks\":\"\"},\"colorscale\":[[0.0,\"#0d0887\"],[0.1111111111111111,\"#46039f\"],[0.2222222222222222,\"#7201a8\"],[0.3333333333333333,\"#9c179e\"],[0.4444444444444444,\"#bd3786\"],[0.5555555555555556,\"#d8576b\"],[0.6666666666666666,\"#ed7953\"],[0.7777777777777778,\"#fb9f3a\"],[0.8888888888888888,\"#fdca26\"],[1.0,\"#f0f921\"]]}],\"choropleth\":[{\"type\":\"choropleth\",\"colorbar\":{\"outlinewidth\":0,\"ticks\":\"\"}}],\"histogram2d\":[{\"type\":\"histogram2d\",\"colorbar\":{\"outlinewidth\":0,\"ticks\":\"\"},\"colorscale\":[[0.0,\"#0d0887\"],[0.1111111111111111,\"#46039f\"],[0.2222222222222222,\"#7201a8\"],[0.3333333333333333,\"#9c179e\"],[0.4444444444444444,\"#bd3786\"],[0.5555555555555556,\"#d8576b\"],[0.6666666666666666,\"#ed7953\"],[0.7777777777777778,\"#fb9f3a\"],[0.8888888888888888,\"#fdca26\"],[1.0,\"#f0f921\"]]}],\"heatmap\":[{\"type\":\"heatmap\",\"colorbar\":{\"outlinewidth\":0,\"ticks\":\"\"},\"colorscale\":[[0.0,\"#0d0887\"],[0.1111111111111111,\"#46039f\"],[0.2222222222222222,\"#7201a8\"],[0.3333333333333333,\"#9c179e\"],[0.4444444444444444,\"#bd3786\"],[0.5555555555555556,\"#d8576b\"],[0.6666666666666666,\"#ed7953\"],[0.7777777777777778,\"#fb9f3a\"],[0.8888888888888888,\"#fdca26\"],[1.0,\"#f0f921\"]]}],\"heatmapgl\":[{\"type\":\"heatmapgl\",\"colorbar\":{\"outlinewidth\":0,\"ticks\":\"\"},\"colorscale\":[[0.0,\"#0d0887\"],[0.1111111111111111,\"#46039f\"],[0.2222222222222222,\"#7201a8\"],[0.3333333333333333,\"#9c179e\"],[0.4444444444444444,\"#bd3786\"],[0.5555555555555556,\"#d8576b\"],[0.6666666666666666,\"#ed7953\"],[0.7777777777777778,\"#fb9f3a\"],[0.8888888888888888,\"#fdca26\"],[1.0,\"#f0f921\"]]}],\"contourcarpet\":[{\"type\":\"contourcarpet\",\"colorbar\":{\"outlinewidth\":0,\"ticks\":\"\"}}],\"contour\":[{\"type\":\"contour\",\"colorbar\":{\"outlinewidth\":0,\"ticks\":\"\"},\"colorscale\":[[0.0,\"#0d0887\"],[0.1111111111111111,\"#46039f\"],[0.2222222222222222,\"#7201a8\"],[0.3333333333333333,\"#9c179e\"],[0.4444444444444444,\"#bd3786\"],[0.5555555555555556,\"#d8576b\"],[0.6666666666666666,\"#ed7953\"],[0.7777777777777778,\"#fb9f3a\"],[0.8888888888888888,\"#fdca26\"],[1.0,\"#f0f921\"]]}],\"surface\":[{\"type\":\"surface\",\"colorbar\":{\"outlinewidth\":0,\"ticks\":\"\"},\"colorscale\":[[0.0,\"#0d0887\"],[0.1111111111111111,\"#46039f\"],[0.2222222222222222,\"#7201a8\"],[0.3333333333333333,\"#9c179e\"],[0.4444444444444444,\"#bd3786\"],[0.5555555555555556,\"#d8576b\"],[0.6666666666666666,\"#ed7953\"],[0.7777777777777778,\"#fb9f3a\"],[0.8888888888888888,\"#fdca26\"],[1.0,\"#f0f921\"]]}],\"mesh3d\":[{\"type\":\"mesh3d\",\"colorbar\":{\"outlinewidth\":0,\"ticks\":\"\"}}],\"scatter\":[{\"fillpattern\":{\"fillmode\":\"overlay\",\"size\":10,\"solidity\":0.2},\"type\":\"scatter\"}],\"parcoords\":[{\"type\":\"parcoords\",\"line\":{\"colorbar\":{\"outlinewidth\":0,\"ticks\":\"\"}}}],\"scatterpolargl\":[{\"type\":\"scatterpolargl\",\"marker\":{\"colorbar\":{\"outlinewidth\":0,\"ticks\":\"\"}}}],\"bar\":[{\"error_x\":{\"color\":\"#2a3f5f\"},\"error_y\":{\"color\":\"#2a3f5f\"},\"marker\":{\"line\":{\"color\":\"#E5ECF6\",\"width\":0.5},\"pattern\":{\"fillmode\":\"overlay\",\"size\":10,\"solidity\":0.2}},\"type\":\"bar\"}],\"scattergeo\":[{\"type\":\"scattergeo\",\"marker\":{\"colorbar\":{\"outlinewidth\":0,\"ticks\":\"\"}}}],\"scatterpolar\":[{\"type\":\"scatterpolar\",\"marker\":{\"colorbar\":{\"outlinewidth\":0,\"ticks\":\"\"}}}],\"histogram\":[{\"marker\":{\"pattern\":{\"fillmode\":\"overlay\",\"size\":10,\"solidity\":0.2}},\"type\":\"histogram\"}],\"scattergl\":[{\"type\":\"scattergl\",\"marker\":{\"colorbar\":{\"outlinewidth\":0,\"ticks\":\"\"}}}],\"scatter3d\":[{\"type\":\"scatter3d\",\"line\":{\"colorbar\":{\"outlinewidth\":0,\"ticks\":\"\"}},\"marker\":{\"colorbar\":{\"outlinewidth\":0,\"ticks\":\"\"}}}],\"scattermapbox\":[{\"type\":\"scattermapbox\",\"marker\":{\"colorbar\":{\"outlinewidth\":0,\"ticks\":\"\"}}}],\"scatterternary\":[{\"type\":\"scatterternary\",\"marker\":{\"colorbar\":{\"outlinewidth\":0,\"ticks\":\"\"}}}],\"scattercarpet\":[{\"type\":\"scattercarpet\",\"marker\":{\"colorbar\":{\"outlinewidth\":0,\"ticks\":\"\"}}}],\"carpet\":[{\"aaxis\":{\"endlinecolor\":\"#2a3f5f\",\"gridcolor\":\"white\",\"linecolor\":\"white\",\"minorgridcolor\":\"white\",\"startlinecolor\":\"#2a3f5f\"},\"baxis\":{\"endlinecolor\":\"#2a3f5f\",\"gridcolor\":\"white\",\"linecolor\":\"white\",\"minorgridcolor\":\"white\",\"startlinecolor\":\"#2a3f5f\"},\"type\":\"carpet\"}],\"table\":[{\"cells\":{\"fill\":{\"color\":\"#EBF0F8\"},\"line\":{\"color\":\"white\"}},\"header\":{\"fill\":{\"color\":\"#C8D4E3\"},\"line\":{\"color\":\"white\"}},\"type\":\"table\"}],\"barpolar\":[{\"marker\":{\"line\":{\"color\":\"#E5ECF6\",\"width\":0.5},\"pattern\":{\"fillmode\":\"overlay\",\"size\":10,\"solidity\":0.2}},\"type\":\"barpolar\"}],\"pie\":[{\"automargin\":true,\"type\":\"pie\"}]},\"layout\":{\"autotypenumbers\":\"strict\",\"colorway\":[\"#636efa\",\"#EF553B\",\"#00cc96\",\"#ab63fa\",\"#FFA15A\",\"#19d3f3\",\"#FF6692\",\"#B6E880\",\"#FF97FF\",\"#FECB52\"],\"font\":{\"color\":\"#2a3f5f\"},\"hovermode\":\"closest\",\"hoverlabel\":{\"align\":\"left\"},\"paper_bgcolor\":\"white\",\"plot_bgcolor\":\"#E5ECF6\",\"polar\":{\"bgcolor\":\"#E5ECF6\",\"angularaxis\":{\"gridcolor\":\"white\",\"linecolor\":\"white\",\"ticks\":\"\"},\"radialaxis\":{\"gridcolor\":\"white\",\"linecolor\":\"white\",\"ticks\":\"\"}},\"ternary\":{\"bgcolor\":\"#E5ECF6\",\"aaxis\":{\"gridcolor\":\"white\",\"linecolor\":\"white\",\"ticks\":\"\"},\"baxis\":{\"gridcolor\":\"white\",\"linecolor\":\"white\",\"ticks\":\"\"},\"caxis\":{\"gridcolor\":\"white\",\"linecolor\":\"white\",\"ticks\":\"\"}},\"coloraxis\":{\"colorbar\":{\"outlinewidth\":0,\"ticks\":\"\"}},\"colorscale\":{\"sequential\":[[0.0,\"#0d0887\"],[0.1111111111111111,\"#46039f\"],[0.2222222222222222,\"#7201a8\"],[0.3333333333333333,\"#9c179e\"],[0.4444444444444444,\"#bd3786\"],[0.5555555555555556,\"#d8576b\"],[0.6666666666666666,\"#ed7953\"],[0.7777777777777778,\"#fb9f3a\"],[0.8888888888888888,\"#fdca26\"],[1.0,\"#f0f921\"]],\"sequentialminus\":[[0.0,\"#0d0887\"],[0.1111111111111111,\"#46039f\"],[0.2222222222222222,\"#7201a8\"],[0.3333333333333333,\"#9c179e\"],[0.4444444444444444,\"#bd3786\"],[0.5555555555555556,\"#d8576b\"],[0.6666666666666666,\"#ed7953\"],[0.7777777777777778,\"#fb9f3a\"],[0.8888888888888888,\"#fdca26\"],[1.0,\"#f0f921\"]],\"diverging\":[[0,\"#8e0152\"],[0.1,\"#c51b7d\"],[0.2,\"#de77ae\"],[0.3,\"#f1b6da\"],[0.4,\"#fde0ef\"],[0.5,\"#f7f7f7\"],[0.6,\"#e6f5d0\"],[0.7,\"#b8e186\"],[0.8,\"#7fbc41\"],[0.9,\"#4d9221\"],[1,\"#276419\"]]},\"xaxis\":{\"gridcolor\":\"white\",\"linecolor\":\"white\",\"ticks\":\"\",\"title\":{\"standoff\":15},\"zerolinecolor\":\"white\",\"automargin\":true,\"zerolinewidth\":2},\"yaxis\":{\"gridcolor\":\"white\",\"linecolor\":\"white\",\"ticks\":\"\",\"title\":{\"standoff\":15},\"zerolinecolor\":\"white\",\"automargin\":true,\"zerolinewidth\":2},\"scene\":{\"xaxis\":{\"backgroundcolor\":\"#E5ECF6\",\"gridcolor\":\"white\",\"linecolor\":\"white\",\"showbackground\":true,\"ticks\":\"\",\"zerolinecolor\":\"white\",\"gridwidth\":2},\"yaxis\":{\"backgroundcolor\":\"#E5ECF6\",\"gridcolor\":\"white\",\"linecolor\":\"white\",\"showbackground\":true,\"ticks\":\"\",\"zerolinecolor\":\"white\",\"gridwidth\":2},\"zaxis\":{\"backgroundcolor\":\"#E5ECF6\",\"gridcolor\":\"white\",\"linecolor\":\"white\",\"showbackground\":true,\"ticks\":\"\",\"zerolinecolor\":\"white\",\"gridwidth\":2}},\"shapedefaults\":{\"line\":{\"color\":\"#2a3f5f\"}},\"annotationdefaults\":{\"arrowcolor\":\"#2a3f5f\",\"arrowhead\":0,\"arrowwidth\":1},\"geo\":{\"bgcolor\":\"white\",\"landcolor\":\"#E5ECF6\",\"subunitcolor\":\"white\",\"showland\":true,\"showlakes\":true,\"lakecolor\":\"white\"},\"title\":{\"x\":0.05},\"mapbox\":{\"style\":\"light\"}}},\"legend\":{\"tracegroupgap\":0},\"margin\":{\"t\":60},\"piecolorway\":[\"#1F77B4\",\"#FF7F0E\",\"#2CA02C\",\"#D62728\",\"#9467BD\",\"#8C564B\",\"#E377C2\",\"#7F7F7F\",\"#BCBD22\",\"#17BECF\"],\"height\":500,\"width\":700},                        {\"responsive\": true}                    ).then(function(){\n",
       "                            \n",
       "var gd = document.getElementById('b7a8b006-44f8-4b6d-a8fc-74231ff8961e');\n",
       "var x = new MutationObserver(function (mutations, observer) {{\n",
       "        var display = window.getComputedStyle(gd).display;\n",
       "        if (!display || display === 'none') {{\n",
       "            console.log([gd, 'removed!']);\n",
       "            Plotly.purge(gd);\n",
       "            observer.disconnect();\n",
       "        }}\n",
       "}});\n",
       "\n",
       "// Listen for the removal of the full notebook cells\n",
       "var notebookContainer = gd.closest('#notebook-container');\n",
       "if (notebookContainer) {{\n",
       "    x.observe(notebookContainer, {childList: true});\n",
       "}}\n",
       "\n",
       "// Listen for the clearing of the current output cell\n",
       "var outputEl = gd.closest('.output');\n",
       "if (outputEl) {{\n",
       "    x.observe(outputEl, {childList: true});\n",
       "}}\n",
       "\n",
       "                        })                };                });            </script>        </div>"
      ]
     },
     "metadata": {},
     "output_type": "display_data"
    }
   ],
   "source": [
    "fig3 = px.pie(df,names='Category',color_discrete_sequence=px.colors.qualitative.D3)\n",
    "fig3.update_layout(height=500, width=700)\n",
    "fig3.show()"
   ]
  },
  {
   "cell_type": "code",
   "execution_count": 55,
   "metadata": {},
   "outputs": [
    {
     "name": "stdout",
     "output_type": "stream",
     "text": [
      "962 is the lenght of lines\n",
      "166 are uniques\n",
      "0.17% of data aren´t duplicates \n",
      "\n"
     ]
    },
    {
     "data": {
      "text/plain": [
       "\"Skills â\\x80¢ R â\\x80¢ Python â\\x80¢ SAP HANA â\\x80¢ Tableau â\\x80¢ SAP HANA SQL â\\x80¢ SAP HANA PAL â\\x80¢ MS SQL â\\x80¢ SAP Lumira â\\x80¢ C# â\\x80¢ Linear Programming â\\x80¢ Data Modelling â\\x80¢ Advance Analytics â\\x80¢ SCM Analytics â\\x80¢ Retail Analytics â\\x80¢Social Media Analytics â\\x80¢ NLP Education Details \\r\\nJanuary 2017 to January 2018 PGDM Business Analytics  Great Lakes Institute of Management & Illinois Institute of Technology\\r\\nJanuary 2013 Bachelor of Engineering Electronics and Communication Bengaluru, Karnataka New Horizon College of Engineering, Bangalore Visvesvaraya Technological University\\r\\nData Science Consultant \\r\\n\\r\\nConsultant - Deloitte USI\\r\\nSkill Details \\r\\nLINEAR PROGRAMMING- Exprience - 6 months\\r\\nRETAIL- Exprience - 6 months\\r\\nRETAIL MARKETING- Exprience - 6 months\\r\\nSCM- Exprience - 6 months\\r\\nSQL- Exprience - Less than 1 year months\\r\\nDeep Learning- Exprience - Less than 1 year months\\r\\nMachine learning- Exprience - Less than 1 year months\\r\\nPython- Exprience - Less than 1 year months\\r\\nR- Exprience - Less than 1 year monthsCompany Details \\r\\ncompany - Deloitte USI\\r\\ndescription - The project involved analysing historic deals and coming with insights to optimize future deals.\\r\\nRole: Was given raw data, carried out end to end analysis and presented insights to client.\\r\\nKey Responsibilities:\\r\\nâ\\x80¢ Extract data from client systems across geographies.\\r\\nâ\\x80¢ Understand and build reports in tableau. Infer meaningful insights to optimize prices and find out process blockades.\\r\\nTechnical Environment: R, Tableau.\\r\\n\\r\\nIndustry: Cross Industry\\r\\nService Area: Cross Industry - Products\\r\\nProject Name: Handwriting recognition\\r\\nConsultant: 3 months.\\r\\nThe project involved taking handwritten images and converting them to digital text images by object detection and sentence creation.\\r\\nRole: I was developing sentence correction functionality.\\r\\nKey Responsibilities:\\r\\nâ\\x80¢ Gather data large enough to capture all English words\\r\\nâ\\x80¢ Train LSTM models on words.\\r\\nTechnical Environment: Python.\\r\\n\\r\\nIndustry: Finance\\r\\nService Area: Financial Services - BI development Project Name: SWIFT\\r\\nConsultant: 8 months.\\r\\nThe project was to develop an analytics infrastructure on top of SAP S/4, it would user to view\\r\\nfinancial reports to respective departments. Reporting also included forecasting expenses.\\r\\nRole: I was leading the offshore team.\\r\\nKey Responsibilities:\\r\\nâ\\x80¢ Design & Develop data models for reporting.\\r\\nâ\\x80¢ Develop ETL for data flow\\r\\nâ\\x80¢ Validate various reports.\\r\\nTechnical Environment: SAP HANA, Tableau, SAP AO.\\r\\n\\r\\nIndustry: Healthcare Analytics\\r\\nService Area: Life Sciences - Product development Project Name: Clinical Healthcare System\\r\\nConsultant: 2 months.\\r\\nThe project was to develop an analytics infrastructure on top of Argus, it would allow users to query faster and provide advance analytics capabilities.\\r\\nRole: I was involved from design to deploy phase, performed a lot of data restructuring and built\\r\\nmodels for insights.\\r\\nKey Responsibilities:\\r\\nâ\\x80¢ Design & Develop data models for reporting.\\r\\nâ\\x80¢ Develop and deploy analytical models.\\r\\nâ\\x80¢ Validate various reports.\\r\\nTechnical Environment: Data Modelling, SAP HANA, Tableau, NLP.\\r\\n\\r\\nIndustry: FMCG\\r\\nService Area: Trade & Promotion\\r\\nProject Name: Consumption Based Planning for Flowers Foods Consultant; 8 months.\\r\\nThe project involved setting up of CRM and CBP modules.\\r\\nRole: I was involved in key data decomposition activities and setting up the base for future year\\r\\nforecast. Over the course of the project I developed various models and carried out key\\r\\nperformance improvements.\\r\\nKey Responsibilities:\\r\\nâ\\x80¢ Design & Develop HANA models for decomposition.\\r\\nâ\\x80¢ Develop data flow for forecast.\\r\\nâ\\x80¢ Developed various views for reporting of Customer/Sales/Funds.\\r\\nâ\\x80¢ Validate various reports in BOBJ.\\r\\nTechnical Environment: Data Modelling, SAP HANA, BOBJ, Time Series Forecasting.\\r\\n\\r\\nInternal Initiative Industry: FMCG\\r\\nCustomer Segmentation and RFM analysis Consultant; 3 months.\\r\\nThe initiative involved setting up of HANA-Python interface and advance analytics on Python. Over the course I had successfully segmented data into five core segments using K-means and carried out RFM analysis in Python. Also developed algorithm to categorize any new customer under the defined buckets.\\r\\nTechnical Environment: Anaconda3, Python3.6, HANA SPS12\\r\\n\\r\\nIndustry: Telecom Invoice state detection Consultant; 1 months.\\r\\nThe initiative was to reduce the manual effort in verifying closed and open invoices manually, it\\r\\ninvolved development to a decision tree to classify open/closed invoices. This enabled effort\\r\\nreduction by 60%.\\r\\nTechnical Environment: R, SAP PAL, SAP HANA SPS12\\r\\n\\r\\nAccenture Experience\\r\\nIndustry: Analytics - Cross Industry\\r\\nIn Process Analytics for SAP Senior Developer; 19 months.\\r\\nAccenture Solutions Pvt. Ltd., India\\r\\nThe project involved development of SAP analytics tool - In Process Analytics (IPA) . My role was to develop database objects and data models to provide operational insights to clients.\\r\\nRole: I have developed various Finance related KPIs and spearheaded various deployments.\\r\\nIntroduced SAP Predictive analytics to reduce development time and reuse functionalities for KPIs and prepared production planning reports.\\r\\nKey Responsibilities:\\r\\nâ\\x80¢ Involved in information gather phase.\\r\\nâ\\x80¢ Designed and implemented SAP HANA data modelling using Attribute View, Analytic View, and\\r\\nCalculation View.\\r\\nâ\\x80¢ Developed various KPI's individually using complex SQL scripts in Calculation views.\\r\\nâ\\x80¢ Created procedures in HANA Database.\\r\\nâ\\x80¢ Took ownership and developed Dashboard functionality.\\r\\nâ\\x80¢ Involved in building data processing algorithms to be executed in R server for cluster analysis.\\r\\nTechnical Environment: R, SAP HANA, T-SQL.\\r\\nIndustry: Cross Industry\\r\\nAccenture Testing Accelerator for SAP Database Developer; 21 months.\\r\\nAccenture Solutions Pvt. Ltd., India\\r\\nRole: I have taken care of all development activities for the ATAS tool and have also completed\\r\\nvarious deployments of the product.\\r\\nApart from these activities I was also actively involved in maintenance of the database servers\\r\\n(Production & Quality)\\r\\nKey Responsibilities:\\r\\nâ\\x80¢ Analyzing business requirements, understanding the scope, getting requirements clarified\\r\\ninteracting with business and further transform all requirements to generate attribute\\r\\nmapping documents and reviewing mapping specification documentation\\r\\nâ\\x80¢ Create / Update database objects like tables, views, stored procedures, function, and packages\\r\\nâ\\x80¢ Monitored SQL Server Error Logs and Application Logs through SQL Server Agent\\r\\nâ\\x80¢ Prepared Data Flow Diagrams, Entity Relationship Diagrams using UML\\r\\nâ\\x80¢ Responsible for Designing, developing and Normalization of database tables\\r\\nâ\\x80¢ Experience in performance tuning using SQL profiler.\\r\\nâ\\x80¢ Involved in QA, UAT, knowledge transfer and support activities\\r\\nTechnical Environment: SQL Server 2008/2014, Visual Studio 2010, Windows Server, Performance\\r\\nMonitor, SQL Server Profiler, C#, PL-SQL, T-SQL.\""
      ]
     },
     "execution_count": 55,
     "metadata": {},
     "output_type": "execute_result"
    }
   ],
   "source": [
    "# Here we can see that resumes are duplicates\n",
    "len_df = len(df)\n",
    "len_df_resume_uni = len(df['Resume'].unique())\n",
    "porc_no_duplicate = round(len_df_resume_uni/len_df, 2)\n",
    "\n",
    "print(len_df, 'is the lenght of lines')\n",
    "print(len_df_resume_uni, 'are uniques')\n",
    "print(f'{porc_no_duplicate}% of data aren´t duplicates \\n')\n",
    "\n",
    "# The text has invalid char, then these invalid char can be present in others datas\n",
    "df['Resume'][3]"
   ]
  },
  {
   "cell_type": "code",
   "execution_count": 56,
   "metadata": {},
   "outputs": [],
   "source": [
    "from IPython.display import clear_output\n",
    "\n",
    "# Getting unique resumes\n",
    "unique_resume = df['Resume'].unique().tolist()\n",
    "\n",
    "# Here it was done an exploration of resume, to find invalid chars\n",
    "def resume_exp(unique_resume):\n",
    "  num = 0\n",
    "  for resume in unique_resume:\n",
    "      print(num)\n",
    "      print(resume)\n",
    "      time.sleep(0.5) # Inserted this line, to try fix a error, basically sometimes output not appear\n",
    "\n",
    "      inp = input()\n",
    "      if inp == '':\n",
    "          clear_output()\n",
    "          num += 1\n",
    "      else:\n",
    "          clear_output()\n",
    "          break\n",
    "\n",
    "# Commented to not execute, uncomment to execute function\n",
    "resume_exp(unique_resume) # Insert any char to stop loop and press enter to continue"
   ]
  },
  {
   "cell_type": "code",
   "execution_count": 57,
   "metadata": {},
   "outputs": [
    {
     "name": "stderr",
     "output_type": "stream",
     "text": [
      "<>:22: SyntaxWarning:\n",
      "\n",
      "invalid escape sequence '\\s'\n",
      "\n",
      "<>:22: SyntaxWarning:\n",
      "\n",
      "invalid escape sequence '\\s'\n",
      "\n",
      "C:\\Users\\SOHAM\\AppData\\Local\\Temp\\ipykernel_8000\\2117854071.py:22: SyntaxWarning:\n",
      "\n",
      "invalid escape sequence '\\s'\n",
      "\n"
     ]
    }
   ],
   "source": [
    "invalid_char = ['â¢', 'âª', 'â', 'ï', 'ï', 'ï·',\n",
    "                'Â', 'Ã¼', 'Ã¼Â', 'Ã±', 'ÃÂ', '·', '*'] # '   ' whitespace\n",
    "\n",
    "# This text below commeted, was my first attempt used in clean_resume function, however i found a best way such as '^\\x00-\\x7f]'\n",
    "''' text = re.sub('â¢', ' ', text)\n",
    "    text = re.sub('âª', ' ', text)\n",
    "    text = re.sub('â', ' ', text)\n",
    "    text = re.sub('Â', ' ', text)\n",
    "    text = re.sub('Ã¼', ' ', text)\n",
    "    text = re.sub('Ã¼Â', ' ', text)\n",
    "    text = re.sub('Ã±', ' ', text)\n",
    "    text = re.sub('ÃÂ', ' ', text)\n",
    "    text = re.sub('ï', ' ', text)\n",
    "    text = re.sub('ï', ' ', text)\n",
    "    text = re.sub('ï·', ' ', text)'''\n",
    "\n",
    "# Taking off invalid chars from resume\n",
    "def clean_resume(text):\n",
    "    text = re.sub('[^\\x00-\\x7f]', ' ', text) # https://stackoverflow.com/questions/20889996/how-do-i-remove-all-non-ascii-characters-with-regex-and-notepad no ascii\n",
    "    text = re.sub('\\r', ' ', text)\n",
    "    text = re.sub('\\n', ' ', text)\n",
    "    text = re.sub('\\s+', ' ', text) # Remove whitespace\n",
    "    text = re.sub(('[%s]' % re.escape(string.punctuation)), ' ', text) # https://medium.com/geekculture/how-to-remove-punctuation-from-text-in-python-7c8790bac4bd\n",
    "    return text\n",
    "\n",
    "df['Processed Resume'] = df['Resume'].apply(lambda x: clean_resume(x))"
   ]
  },
  {
   "cell_type": "code",
   "execution_count": 59,
   "metadata": {},
   "outputs": [
    {
     "data": {
      "text/plain": [
       "'â\\x80¢ Operating Systems: Windows â\\x80¢ Others: MS Excel, MS Office, MS Power Point Key Projects Handled Project Title: fruit sorting and disease detection Client: Kranti Dynamics Team Size: 5 Education Details \\r\\nJanuary 2014 B.E. Electronics Mumbai, Maharashtra University of Mumbai\\r\\nPython Developer/analyst \\r\\n\\r\\npython developer and data analyst\\r\\nSkill Details \\r\\npython scripting,programming,developing- Exprience - 12 months\\r\\nfrontend  ,html- Exprience - 12 months\\r\\npython liabrary, numpy,pandas,matplolib,requests,beautiful soap- Exprience - 12 months\\r\\nmysql- Exprience - 12 months\\r\\ndjango- Exprience - 12 months\\r\\nweb scrapping- Exprience - Less than 1 year monthsCompany Details \\r\\ncompany - Ace The Power of 5\\r\\ndescription - The Accountabilities:\\r\\n\\r\\nâ\\x86\\x92 Understanding the functional requirements of the application given by the client.\\r\\n\\r\\nâ\\x86\\x92 Participated in walkthroughs of business requirements, functional requirements and technical design to ensure their testability.\\r\\n\\r\\nâ\\x86\\x92 Responsible for Software Configuration Management of project deliverables.\\r\\n\\r\\nTechnical skill set:\\r\\n\\r\\nâ\\x80¢ Languages: C, C ++, Java, python,python liabray,mysql,django,html\\r\\n\\r\\nâ\\x80¢ Scripting: Python,\\r\\nâ\\x80¢ GUI development: Tk, Java\\r\\ncompany - kranti dyanamics\\r\\ndescription - programming,scripting,developer,web scrapping'"
      ]
     },
     "execution_count": 59,
     "metadata": {},
     "output_type": "execute_result"
    }
   ],
   "source": [
    "random_number = 580\n",
    "df['Resume'][random_number]\n"
   ]
  },
  {
   "cell_type": "code",
   "execution_count": 60,
   "metadata": {},
   "outputs": [
    {
     "data": {
      "text/plain": [
       "' Operating Systems  Windows Others  MS Excel  MS Office  MS Power Point Key Projects Handled Project Title  fruit sorting and disease detection Client  Kranti Dynamics Team Size  5 Education Details January 2014 B E  Electronics Mumbai  Maharashtra University of Mumbai Python Developer analyst python developer and data analyst Skill Details python scripting programming developing  Exprience   12 months frontend  html  Exprience   12 months python liabrary  numpy pandas matplolib requests beautiful soap  Exprience   12 months mysql  Exprience   12 months django  Exprience   12 months web scrapping  Exprience   Less than 1 year monthsCompany Details company   Ace The Power of 5 description   The Accountabilities  Understanding the functional requirements of the application given by the client  Participated in walkthroughs of business requirements  functional requirements and technical design to ensure their testability  Responsible for Software Configuration Management of project deliverables  Technical skill set  Languages  C  C     Java  python python liabray mysql django html Scripting  Python  GUI development  Tk  Java company   kranti dyanamics description   programming scripting developer web scrapping'"
      ]
     },
     "execution_count": 60,
     "metadata": {},
     "output_type": "execute_result"
    }
   ],
   "source": [
    "df['Processed Resume'][random_number]"
   ]
  },
  {
   "cell_type": "code",
   "execution_count": 61,
   "metadata": {},
   "outputs": [],
   "source": [
    "# It was realized that all resumes have the text 'Skill Details'\n",
    "# Above this text 'Skill Details' in any resume has education and current job person\n",
    "# Below has all experience person\n",
    "# Basically the cells bellow will get these texts ('Experience', 'Current Job', 'Education')\n",
    "\n",
    "df['Experience'] = df['Processed Resume'].apply(lambda x: (x.split(\"Skill Details\", 1)[1]))\n",
    "\n",
    "df['Current Job'] = None\n",
    "df['Education'] = None\n",
    "\n",
    "for i in range(0, len(df)):\n",
    "  educ_and_job = df['Resume'].iloc[i].split('Skill Details', 1)[0]\n",
    "  educ_and_job_lines = educ_and_job.split('\\n')\n",
    "\n",
    "  df.loc[i, 'Current Job'] = clean_resume('\\n'.join(educ_and_job_lines[-4:]))\n",
    "  df.loc[i, 'Education'] = clean_resume('\\n'.join(educ_and_job_lines[:-4]))"
   ]
  },
  {
   "cell_type": "code",
   "execution_count": 62,
   "metadata": {},
   "outputs": [
    {
     "name": "stdout",
     "output_type": "stream",
     "text": [
      "Education Details July 2016 to May 2019 BE Electrical And Electronics Engineering Bhopal  Madhya Pradesh RGPV July 2012 to May 2015 Diploma in Electrical Electrical Engineering Bhopal  Madhya Pradesh Rgpv university Bhopal Matric GHS BHULI  \n",
      "\n",
      "Electrical Engineering  \n",
      "\n",
      " Basic Computer  Electrical Machine  Electrical wiring  Solar power Plant  Distribution Substation  Exprience   Less than 1 year monthsCompany Details company   Enigma Business Advisor description   Solar Energy 1  Solar power plant Installation 2  Maintenance Transmission and Distribution Line 1  Installation\n"
     ]
    }
   ],
   "source": [
    "random_number = 509\n",
    "print(df['Education'][random_number],'\\n')\n",
    "print(df['Current Job'][random_number], '\\n')\n",
    "print(df['Experience'][random_number])"
   ]
  },
  {
   "cell_type": "code",
   "execution_count": 63,
   "metadata": {},
   "outputs": [
    {
     "name": "stdout",
     "output_type": "stream",
     "text": [
      "100\n"
     ]
    }
   ],
   "source": [
    "# Verify if current job does part from category\n",
    "list_1 = []\n",
    "list_2 = []\n",
    "\n",
    "for i in range(0, len(df)):\n",
    "  df.loc[i, 'Category'] = df.loc[i, 'Category'].upper()\n",
    "  df.loc[i, 'Current Job'] = df.loc[i, 'Current Job'].upper()\n",
    "\n",
    "  if df.loc[i, 'Category'] in df.loc[i, 'Current Job']:\n",
    "    list_1.append(f\"{df.loc[i, 'Category']}, {df.loc[i, 'Current Job']}\")\n",
    "  else:\n",
    "    list_2.append(f\"{df.loc[i, 'Category']}, {df.loc[i, 'Current Job']}\")\n",
    "\n",
    "print(len(set(list(list_1)))) # list_1 or list_2\n",
    "\n",
    "# Was realized that have 149 current jobs that does part from category\n",
    "# But the others ones?\n",
    "# It was realize that the rest was been part, but written with other form\n",
    "# Like (\"Category: DATA SCIENCE\", \"Current Job: Data scientist\")\n",
    "# It´s the same thing, but written with other form"
   ]
  },
  {
   "cell_type": "code",
   "execution_count": 65,
   "metadata": {},
   "outputs": [
    {
     "data": {
      "text/html": [
       "<div>\n",
       "<style scoped>\n",
       "    .dataframe tbody tr th:only-of-type {\n",
       "        vertical-align: middle;\n",
       "    }\n",
       "\n",
       "    .dataframe tbody tr th {\n",
       "        vertical-align: top;\n",
       "    }\n",
       "\n",
       "    .dataframe thead th {\n",
       "        text-align: right;\n",
       "    }\n",
       "</style>\n",
       "<table border=\"1\" class=\"dataframe\">\n",
       "  <thead>\n",
       "    <tr style=\"text-align: right;\">\n",
       "      <th></th>\n",
       "      <th>Category</th>\n",
       "      <th>Category Area</th>\n",
       "      <th>Final Resume</th>\n",
       "      <th>Education</th>\n",
       "      <th>Current Job</th>\n",
       "      <th>Experience</th>\n",
       "    </tr>\n",
       "  </thead>\n",
       "  <tbody>\n",
       "    <tr>\n",
       "      <th>0</th>\n",
       "      <td>DATA SCIENCE</td>\n",
       "      <td>Tech</td>\n",
       "      <td>Education: Skills   Programming Languages  Pyt...</td>\n",
       "      <td>Skills   Programming Languages  Python  pandas...</td>\n",
       "      <td>DATA SCIENCE ASSURANCE ASSOCIATE DATA SCIENCE ...</td>\n",
       "      <td>JAVASCRIPT  Exprience   24 months jQuery  Exp...</td>\n",
       "    </tr>\n",
       "    <tr>\n",
       "      <th>1</th>\n",
       "      <td>DATA SCIENCE</td>\n",
       "      <td>Tech</td>\n",
       "      <td>Education: Education Details May 2013 to May 2...</td>\n",
       "      <td>Education Details May 2013 to May 2017 B E UIT...</td>\n",
       "      <td>DATA SCIENTIST DATA SCIENTIST   MATELABS</td>\n",
       "      <td>Python  Exprience   Less than 1 year months S...</td>\n",
       "    </tr>\n",
       "    <tr>\n",
       "      <th>2</th>\n",
       "      <td>DATA SCIENCE</td>\n",
       "      <td>Tech</td>\n",
       "      <td>Education: Areas of Interest Deep Learning  Co...</td>\n",
       "      <td>Areas of Interest Deep Learning  Control Syste...</td>\n",
       "      <td>DATA SCIENCE DATA SCIENCE AND ELECTRICAL ENTHU...</td>\n",
       "      <td>Data Analysis  Exprience   Less than 1 year m...</td>\n",
       "    </tr>\n",
       "    <tr>\n",
       "      <th>3</th>\n",
       "      <td>DATA SCIENCE</td>\n",
       "      <td>Tech</td>\n",
       "      <td>Education: Skills R Python SAP HANA Tableau SA...</td>\n",
       "      <td>Skills R Python SAP HANA Tableau SAP HANA SQL ...</td>\n",
       "      <td>DATA SCIENCE CONSULTANT CONSULTANT   DELOITTE ...</td>\n",
       "      <td>LINEAR PROGRAMMING  Exprience   6 months RETA...</td>\n",
       "    </tr>\n",
       "    <tr>\n",
       "      <th>4</th>\n",
       "      <td>DATA SCIENCE</td>\n",
       "      <td>Tech</td>\n",
       "      <td>Education: Education Details MCA YMCAUST  Fari...</td>\n",
       "      <td>Education Details MCA YMCAUST  Faridabad  Hary...</td>\n",
       "      <td>DATA SCIENCE INTERNSHIP</td>\n",
       "      <td>Data Structure  Exprience   Less than 1 year ...</td>\n",
       "    </tr>\n",
       "  </tbody>\n",
       "</table>\n",
       "</div>"
      ],
      "text/plain": [
       "       Category Category Area  \\\n",
       "0  DATA SCIENCE          Tech   \n",
       "1  DATA SCIENCE          Tech   \n",
       "2  DATA SCIENCE          Tech   \n",
       "3  DATA SCIENCE          Tech   \n",
       "4  DATA SCIENCE          Tech   \n",
       "\n",
       "                                        Final Resume  \\\n",
       "0  Education: Skills   Programming Languages  Pyt...   \n",
       "1  Education: Education Details May 2013 to May 2...   \n",
       "2  Education: Areas of Interest Deep Learning  Co...   \n",
       "3  Education: Skills R Python SAP HANA Tableau SA...   \n",
       "4  Education: Education Details MCA YMCAUST  Fari...   \n",
       "\n",
       "                                           Education  \\\n",
       "0  Skills   Programming Languages  Python  pandas...   \n",
       "1  Education Details May 2013 to May 2017 B E UIT...   \n",
       "2  Areas of Interest Deep Learning  Control Syste...   \n",
       "3  Skills R Python SAP HANA Tableau SAP HANA SQL ...   \n",
       "4  Education Details MCA YMCAUST  Faridabad  Hary...   \n",
       "\n",
       "                                         Current Job  \\\n",
       "0  DATA SCIENCE ASSURANCE ASSOCIATE DATA SCIENCE ...   \n",
       "1          DATA SCIENTIST DATA SCIENTIST   MATELABS    \n",
       "2  DATA SCIENCE DATA SCIENCE AND ELECTRICAL ENTHU...   \n",
       "3  DATA SCIENCE CONSULTANT CONSULTANT   DELOITTE ...   \n",
       "4                           DATA SCIENCE INTERNSHIP    \n",
       "\n",
       "                                          Experience  \n",
       "0   JAVASCRIPT  Exprience   24 months jQuery  Exp...  \n",
       "1   Python  Exprience   Less than 1 year months S...  \n",
       "2   Data Analysis  Exprience   Less than 1 year m...  \n",
       "3   LINEAR PROGRAMMING  Exprience   6 months RETA...  \n",
       "4   Data Structure  Exprience   Less than 1 year ...  "
      ]
     },
     "metadata": {},
     "output_type": "display_data"
    },
    {
     "name": "stdout",
     "output_type": "stream",
     "text": [
      "\n",
      "\n"
     ]
    },
    {
     "data": {
      "text/plain": [
       "'Education: Skills   Programming Languages  Python  pandas  numpy  scipy  scikit learn  matplotlib   Sql  Java  JavaScript JQuery    Machine learning  Regression  SVM  Na ve Bayes  KNN  Random Forest  Decision Trees  Boosting techniques  Cluster Analysis  Word Embedding  Sentiment Analysis  Natural Language processing  Dimensionality reduction  Topic Modelling  LDA  NMF   PCA   Neural Nets    Database Visualizations  Mysql  SqlServer  Cassandra  Hbase  ElasticSearch D3 js  DC js  Plotly  kibana  matplotlib  ggplot  Tableau    Others  Regular Expression  HTML  CSS  Angular 6  Logstash  Kafka  Python Flask  Git  Docker  computer vision   Open CV and understanding of Deep learning Education Details  /  Current Job: DATA SCIENCE ASSURANCE ASSOCIATE DATA SCIENCE ASSURANCE ASSOCIATE   ERNST   YOUNG LLP  / Experience:  JAVASCRIPT  Exprience   24 months jQuery  Exprience   24 months Python  Exprience   24 monthsCompany Details company   Ernst   Young LLP description   Fraud Investigations and Dispute Services Assurance TECHNOLOGY ASSISTED REVIEW TAR  Technology Assisted Review  assists in accelerating the review process and run analytics and generate reports    Core member of a team helped in developing automated review platform tool from scratch for assisting E discovery domain  this tool implements predictive coding and topic modelling by automating reviews  resulting in reduced labor costs and time spent during the lawyers review    Understand the end to end flow of the solution  doing research and development for classification models  predictive analysis and mining of the information present in text data  Worked on analyzing the outputs and precision monitoring for the entire tool    TAR assists in predictive coding  topic modelling from the evidence by following EY standards  Developed the classifier models in order to identify  red flags  and fraud related issues  Tools   Technologies  Python  scikit learn  tfidf  word2vec  doc2vec  cosine similarity  Na ve Bayes  LDA  NMF for topic modelling  Vader and text blob for sentiment analysis  Matplot lib  Tableau dashboard for reporting  MULTIPLE DATA SCIENCE AND ANALYTIC PROJECTS  USA CLIENTS  TEXT ANALYTICS   MOTOR VEHICLE CUSTOMER REVIEW DATA   Received customer feedback survey data for past one year  Performed sentiment  Positive  Negative   Neutral  and time series analysis on customer comments across all 4 categories    Created heat map of terms by survey category based on frequency of words   Extracted Positive and Negative words across all the Survey categories and plotted Word cloud    Created customized tableau dashboards for effective reporting and visualizations  CHATBOT   Developed a user friendly chatbot for one of our Products which handle simple questions about hours of operation  reservation options and so on    This chat bot serves entire product related questions  Giving overview of tool via QA platform and also give recommendation responses so that user question to build chain of relevant answer    This too has intelligence to build the pipeline of questions as per user requirement and asks the relevant  recommended questions  Tools   Technologies  Python  Natural language processing  NLTK  spacy  topic modelling  Sentiment analysis  Word Embedding  scikit learn  JavaScript JQuery  SqlServer INFORMATION GOVERNANCE Organizations to make informed decisions about all of the information they store  The integrated Information Governance portfolio synthesizes intelligence across unstructured data sources and facilitates action to ensure organizations are best positioned to counter information risk    Scan data from multiple sources of formats and parse different file formats  extract Meta data information  push results for indexing elastic search and created customized  interactive dashboards using kibana    Preforming ROT Analysis on the data which give information of data which helps identify content that is either Redundant  Outdated  or Trivial    Preforming full text search analysis on elastic search with predefined methods which can tag as  PII  personally identifiable information  social security numbers  addresses  names  etc   which frequently targeted during cyber attacks  Tools   Technologies  Python  Flask  Elastic Search  Kibana FRAUD ANALYTIC PLATFORM Fraud Analytics and investigative platform to review all red flag cases  FAP is a Fraud Analytics and investigative platform with inbuilt case manager and suite of Analytics for various ERP systems    It can be used by clients to interrogate their Accounting systems for identifying the anomalies which can be indicators of fraud by running advanced analytics Tools   Technologies  HTML  JavaScript  SqlServer  JQuery  CSS  Bootstrap  Node js  D3 js  DC js'"
      ]
     },
     "execution_count": 65,
     "metadata": {},
     "output_type": "execute_result"
    }
   ],
   "source": [
    "# Merging all into same column\n",
    "# So it´s necessary create a new column\n",
    "df['Final Resume'] = None\n",
    "\n",
    "for i in range(0, len(df)):\n",
    "  text_1 = f\"Education: {df.loc[i, 'Education']} / \"\n",
    "  text_2 = f\"Current Job: {df.loc[i, 'Current Job']} /\"\n",
    "  text_3 = f\"Experience: {df.loc[i, 'Experience']}\"\n",
    "\n",
    "  df.loc[i, 'Final Resume'] = ' '.join([text_1, text_2, text_3])\n",
    "\n",
    "# Dropping 'resume' and 'processed resume' columns, because aren´t more necessary\n",
    "df = df.drop(['Resume', 'Processed Resume'], axis=1)\n",
    "# Sorting values for a better visualization\n",
    "df = df.reindex(columns=['Category', 'Category Area', 'Final Resume',\n",
    "                         'Education', 'Current Job', 'Experience'])\n",
    "\n",
    "display(df.head())\n",
    "print('\\n')\n",
    "df['Final Resume'][0]"
   ]
  },
  {
   "cell_type": "code",
   "execution_count": null,
   "metadata": {},
   "outputs": [],
   "source": []
  }
 ],
 "metadata": {
  "kernelspec": {
   "display_name": "Python 3 (ipykernel)",
   "language": "python",
   "name": "python3"
  },
  "language_info": {
   "codemirror_mode": {
    "name": "ipython",
    "version": 3
   },
   "file_extension": ".py",
   "mimetype": "text/x-python",
   "name": "python",
   "nbconvert_exporter": "python",
   "pygments_lexer": "ipython3",
   "version": "3.12.2"
  }
 },
 "nbformat": 4,
 "nbformat_minor": 4
}
