{
 "cells": [
  {
   "cell_type": "code",
   "execution_count": 3,
   "id": "bf44c23e-2c4c-47c5-aa11-cfe4e53b3a9b",
   "metadata": {},
   "outputs": [],
   "source": [
    "import numpy as np\n",
    "import pandas as pd\n",
    "import seaborn as sns\n",
    "import matplotlib.pyplot as plt"
   ]
  },
  {
   "cell_type": "code",
   "execution_count": 4,
   "id": "e9447cc3-e22a-47df-81e4-2a3677a8a78b",
   "metadata": {},
   "outputs": [],
   "source": [
    "df = pd.read_csv('Anti_dataset.csv')"
   ]
  },
  {
   "cell_type": "code",
   "execution_count": 5,
   "id": "853d83fc-d72b-45c3-af2d-463a9ee8284f",
   "metadata": {},
   "outputs": [
    {
     "data": {
      "text/html": [
       "<div>\n",
       "<style scoped>\n",
       "    .dataframe tbody tr th:only-of-type {\n",
       "        vertical-align: middle;\n",
       "    }\n",
       "\n",
       "    .dataframe tbody tr th {\n",
       "        vertical-align: top;\n",
       "    }\n",
       "\n",
       "    .dataframe thead th {\n",
       "        text-align: right;\n",
       "    }\n",
       "</style>\n",
       "<table border=\"1\" class=\"dataframe\">\n",
       "  <thead>\n",
       "    <tr style=\"text-align: right;\">\n",
       "      <th></th>\n",
       "      <th>ANTI_A</th>\n",
       "      <th>ANTI_B</th>\n",
       "      <th>V1</th>\n",
       "    </tr>\n",
       "  </thead>\n",
       "  <tbody>\n",
       "    <tr>\n",
       "      <th>0</th>\n",
       "      <td>2.77</td>\n",
       "      <td>98.1</td>\n",
       "      <td>6.0</td>\n",
       "    </tr>\n",
       "    <tr>\n",
       "      <th>1</th>\n",
       "      <td>9.79</td>\n",
       "      <td>16.8</td>\n",
       "      <td>6.7</td>\n",
       "    </tr>\n",
       "    <tr>\n",
       "      <th>2</th>\n",
       "      <td>9.29</td>\n",
       "      <td>13.6</td>\n",
       "      <td>7.5</td>\n",
       "    </tr>\n",
       "    <tr>\n",
       "      <th>3</th>\n",
       "      <td>3.41</td>\n",
       "      <td>1.6</td>\n",
       "      <td>7.6</td>\n",
       "    </tr>\n",
       "    <tr>\n",
       "      <th>4</th>\n",
       "      <td>9.83</td>\n",
       "      <td>55.3</td>\n",
       "      <td>8.4</td>\n",
       "    </tr>\n",
       "    <tr>\n",
       "      <th>5</th>\n",
       "      <td>5.76</td>\n",
       "      <td>94.4</td>\n",
       "      <td>9.3</td>\n",
       "    </tr>\n",
       "    <tr>\n",
       "      <th>6</th>\n",
       "      <td>2.73</td>\n",
       "      <td>67.2</td>\n",
       "      <td>9.4</td>\n",
       "    </tr>\n",
       "    <tr>\n",
       "      <th>7</th>\n",
       "      <td>0.17</td>\n",
       "      <td>41.9</td>\n",
       "      <td>9.6</td>\n",
       "    </tr>\n",
       "    <tr>\n",
       "      <th>8</th>\n",
       "      <td>7.50</td>\n",
       "      <td>22.7</td>\n",
       "      <td>10.6</td>\n",
       "    </tr>\n",
       "    <tr>\n",
       "      <th>9</th>\n",
       "      <td>0.21</td>\n",
       "      <td>39.6</td>\n",
       "      <td>11.2</td>\n",
       "    </tr>\n",
       "    <tr>\n",
       "      <th>10</th>\n",
       "      <td>0.66</td>\n",
       "      <td>61.6</td>\n",
       "      <td>11.3</td>\n",
       "    </tr>\n",
       "    <tr>\n",
       "      <th>11</th>\n",
       "      <td>2.84</td>\n",
       "      <td>78.9</td>\n",
       "      <td>11.5</td>\n",
       "    </tr>\n",
       "    <tr>\n",
       "      <th>12</th>\n",
       "      <td>7.90</td>\n",
       "      <td>15.5</td>\n",
       "      <td>11.5</td>\n",
       "    </tr>\n",
       "    <tr>\n",
       "      <th>13</th>\n",
       "      <td>2.00</td>\n",
       "      <td>93.3</td>\n",
       "      <td>11.9</td>\n",
       "    </tr>\n",
       "    <tr>\n",
       "      <th>14</th>\n",
       "      <td>5.07</td>\n",
       "      <td>87.9</td>\n",
       "      <td>13.0</td>\n",
       "    </tr>\n",
       "    <tr>\n",
       "      <th>15</th>\n",
       "      <td>2.14</td>\n",
       "      <td>85.0</td>\n",
       "      <td>13.8</td>\n",
       "    </tr>\n",
       "    <tr>\n",
       "      <th>16</th>\n",
       "      <td>9.94</td>\n",
       "      <td>16.4</td>\n",
       "      <td>14.1</td>\n",
       "    </tr>\n",
       "    <tr>\n",
       "      <th>17</th>\n",
       "      <td>7.21</td>\n",
       "      <td>20.6</td>\n",
       "      <td>14.9</td>\n",
       "    </tr>\n",
       "    <tr>\n",
       "      <th>18</th>\n",
       "      <td>4.41</td>\n",
       "      <td>4.8</td>\n",
       "      <td>15.2</td>\n",
       "    </tr>\n",
       "    <tr>\n",
       "      <th>19</th>\n",
       "      <td>8.70</td>\n",
       "      <td>48.3</td>\n",
       "      <td>15.8</td>\n",
       "    </tr>\n",
       "    <tr>\n",
       "      <th>20</th>\n",
       "      <td>3.05</td>\n",
       "      <td>86.3</td>\n",
       "      <td>16.5</td>\n",
       "    </tr>\n",
       "    <tr>\n",
       "      <th>21</th>\n",
       "      <td>9.34</td>\n",
       "      <td>52.6</td>\n",
       "      <td>17.7</td>\n",
       "    </tr>\n",
       "    <tr>\n",
       "      <th>22</th>\n",
       "      <td>7.36</td>\n",
       "      <td>13.0</td>\n",
       "      <td>21.4</td>\n",
       "    </tr>\n",
       "    <tr>\n",
       "      <th>23</th>\n",
       "      <td>7.79</td>\n",
       "      <td>61.4</td>\n",
       "      <td>55.5</td>\n",
       "    </tr>\n",
       "    <tr>\n",
       "      <th>24</th>\n",
       "      <td>4.24</td>\n",
       "      <td>53.3</td>\n",
       "      <td>60.0</td>\n",
       "    </tr>\n",
       "    <tr>\n",
       "      <th>25</th>\n",
       "      <td>0.63</td>\n",
       "      <td>11.3</td>\n",
       "      <td>61.4</td>\n",
       "    </tr>\n",
       "    <tr>\n",
       "      <th>26</th>\n",
       "      <td>1.43</td>\n",
       "      <td>26.2</td>\n",
       "      <td>62.1</td>\n",
       "    </tr>\n",
       "    <tr>\n",
       "      <th>27</th>\n",
       "      <td>1.44</td>\n",
       "      <td>32.9</td>\n",
       "      <td>64.9</td>\n",
       "    </tr>\n",
       "    <tr>\n",
       "      <th>28</th>\n",
       "      <td>7.34</td>\n",
       "      <td>83.4</td>\n",
       "      <td>64.9</td>\n",
       "    </tr>\n",
       "    <tr>\n",
       "      <th>29</th>\n",
       "      <td>1.74</td>\n",
       "      <td>12.7</td>\n",
       "      <td>69.0</td>\n",
       "    </tr>\n",
       "    <tr>\n",
       "      <th>30</th>\n",
       "      <td>6.12</td>\n",
       "      <td>35.4</td>\n",
       "      <td>70.1</td>\n",
       "    </tr>\n",
       "    <tr>\n",
       "      <th>31</th>\n",
       "      <td>7.59</td>\n",
       "      <td>76.7</td>\n",
       "      <td>73.4</td>\n",
       "    </tr>\n",
       "    <tr>\n",
       "      <th>32</th>\n",
       "      <td>7.31</td>\n",
       "      <td>58.4</td>\n",
       "      <td>74.9</td>\n",
       "    </tr>\n",
       "    <tr>\n",
       "      <th>33</th>\n",
       "      <td>7.17</td>\n",
       "      <td>86.9</td>\n",
       "      <td>76.8</td>\n",
       "    </tr>\n",
       "    <tr>\n",
       "      <th>34</th>\n",
       "      <td>2.99</td>\n",
       "      <td>20.6</td>\n",
       "      <td>77.0</td>\n",
       "    </tr>\n",
       "    <tr>\n",
       "      <th>35</th>\n",
       "      <td>2.84</td>\n",
       "      <td>33.6</td>\n",
       "      <td>77.9</td>\n",
       "    </tr>\n",
       "    <tr>\n",
       "      <th>36</th>\n",
       "      <td>0.67</td>\n",
       "      <td>9.2</td>\n",
       "      <td>80.1</td>\n",
       "    </tr>\n",
       "    <tr>\n",
       "      <th>37</th>\n",
       "      <td>8.62</td>\n",
       "      <td>78.9</td>\n",
       "      <td>81.2</td>\n",
       "    </tr>\n",
       "    <tr>\n",
       "      <th>38</th>\n",
       "      <td>7.44</td>\n",
       "      <td>98.8</td>\n",
       "      <td>83.8</td>\n",
       "    </tr>\n",
       "    <tr>\n",
       "      <th>39</th>\n",
       "      <td>7.21</td>\n",
       "      <td>88.0</td>\n",
       "      <td>90.7</td>\n",
       "    </tr>\n",
       "  </tbody>\n",
       "</table>\n",
       "</div>"
      ],
      "text/plain": [
       "    ANTI_A  ANTI_B    V1\n",
       "0     2.77    98.1   6.0\n",
       "1     9.79    16.8   6.7\n",
       "2     9.29    13.6   7.5\n",
       "3     3.41     1.6   7.6\n",
       "4     9.83    55.3   8.4\n",
       "5     5.76    94.4   9.3\n",
       "6     2.73    67.2   9.4\n",
       "7     0.17    41.9   9.6\n",
       "8     7.50    22.7  10.6\n",
       "9     0.21    39.6  11.2\n",
       "10    0.66    61.6  11.3\n",
       "11    2.84    78.9  11.5\n",
       "12    7.90    15.5  11.5\n",
       "13    2.00    93.3  11.9\n",
       "14    5.07    87.9  13.0\n",
       "15    2.14    85.0  13.8\n",
       "16    9.94    16.4  14.1\n",
       "17    7.21    20.6  14.9\n",
       "18    4.41     4.8  15.2\n",
       "19    8.70    48.3  15.8\n",
       "20    3.05    86.3  16.5\n",
       "21    9.34    52.6  17.7\n",
       "22    7.36    13.0  21.4\n",
       "23    7.79    61.4  55.5\n",
       "24    4.24    53.3  60.0\n",
       "25    0.63    11.3  61.4\n",
       "26    1.43    26.2  62.1\n",
       "27    1.44    32.9  64.9\n",
       "28    7.34    83.4  64.9\n",
       "29    1.74    12.7  69.0\n",
       "30    6.12    35.4  70.1\n",
       "31    7.59    76.7  73.4\n",
       "32    7.31    58.4  74.9\n",
       "33    7.17    86.9  76.8\n",
       "34    2.99    20.6  77.0\n",
       "35    2.84    33.6  77.9\n",
       "36    0.67     9.2  80.1\n",
       "37    8.62    78.9  81.2\n",
       "38    7.44    98.8  83.8\n",
       "39    7.21    88.0  90.7"
      ]
     },
     "execution_count": 5,
     "metadata": {},
     "output_type": "execute_result"
    }
   ],
   "source": [
    "df"
   ]
  },
  {
   "cell_type": "code",
   "execution_count": 8,
   "id": "3c97a22a-d73b-4e9e-825b-4d22f8bbf5ad",
   "metadata": {},
   "outputs": [],
   "source": [
    "max_ = max(df['V1'])\n",
    "min_ = min(df['V1'])\n",
    "range_ = max_-min_\n",
    "interval = range_/5    # 5 bins with equal width"
   ]
  },
  {
   "cell_type": "code",
   "execution_count": 23,
   "id": "9fc48673",
   "metadata": {},
   "outputs": [
    {
     "name": "stdout",
     "output_type": "stream",
     "text": [
      "Group 1 : [6.0, 6.7, 7.5, 7.6, 8.4, 9.3, 9.4, 9.6, 10.6, 11.2, 11.3, 11.5, 11.5, 11.9, 13.0, 13.8, 14.1, 14.9, 15.2, 15.8, 16.5]\n",
      "Group 2 : [17.7, 21.4]\n",
      "Group 3 : []\n",
      "Group 4 : [55.5, 60.0, 61.4, 62.1, 64.9, 64.9]\n",
      "Group 5 : [69.0, 70.1, 73.4, 74.9, 76.8, 77.0, 77.9, 80.1, 81.2, 83.8, 90.7]\n"
     ]
    }
   ],
   "source": [
    "equi_width_bins = []\n",
    "for i in range(5):\n",
    "    equi_width_bins.append([])\n",
    "for num in df['V1']:\n",
    "    if num < interval:\n",
    "        equi_width_bins[0].append(num)\n",
    "    elif num >= interval and num<interval*2:\n",
    "        equi_width_bins[1].append(num)\n",
    "    elif num >= interval*2 and num<interval*3:\n",
    "        equi_width_bins[2].append(num)\n",
    "    elif num >= interval*3 and num<interval*4:\n",
    "        equi_width_bins[3].append(num)\n",
    "    else:\n",
    "        equi_width_bins[-1].append(num)\n",
    "\n",
    "for i in range(1,6):\n",
    "    print(f\"Group {i} : {equi_width_bins[i-1]}\")"
   ]
  },
  {
   "cell_type": "code",
   "execution_count": 41,
   "id": "50c0efb0",
   "metadata": {},
   "outputs": [
    {
     "name": "stdout",
     "output_type": "stream",
     "text": [
      "40\n"
     ]
    }
   ],
   "source": [
    "sorted_list  = sorted(df['V1'])\n",
    "print(len(sorted_list))\n"
   ]
  },
  {
   "cell_type": "code",
   "execution_count": 45,
   "id": "f6084652",
   "metadata": {},
   "outputs": [],
   "source": [
    "equi_depth_bins = []\n",
    "rows = 40\n",
    "depth = 40//5\n",
    "freq = 0 + depth\n",
    "low_idx = 0\n",
    "while freq<=rows :\n",
    "    \n",
    "    ls = sorted_list[low_idx:freq]\n",
    "    equi_depth_bins.append(ls)\n",
    "    low_idx += depth\n",
    "    freq += depth\n",
    "\n"
   ]
  },
  {
   "cell_type": "code",
   "execution_count": 46,
   "id": "1415cdfd",
   "metadata": {},
   "outputs": [
    {
     "name": "stdout",
     "output_type": "stream",
     "text": [
      "5\n",
      "[6.0, 6.7, 7.5, 7.6, 8.4, 9.3, 9.4, 9.6]\n",
      "[10.6, 11.2, 11.3, 11.5, 11.5, 11.9, 13.0, 13.8]\n",
      "[14.1, 14.9, 15.2, 15.8, 16.5, 17.7, 21.4, 55.5]\n",
      "[60.0, 61.4, 62.1, 64.9, 64.9, 69.0, 70.1, 73.4]\n",
      "[74.9, 76.8, 77.0, 77.9, 80.1, 81.2, 83.8, 90.7]\n"
     ]
    }
   ],
   "source": [
    "print(len(equi_depth_bins))\n",
    "for bins in equi_depth_bins:\n",
    "    print(bins)"
   ]
  },
  {
   "cell_type": "code",
   "execution_count": 47,
   "id": "c2e8a512",
   "metadata": {},
   "outputs": [
    {
     "data": {
      "text/html": [
       "<div>\n",
       "<style scoped>\n",
       "    .dataframe tbody tr th:only-of-type {\n",
       "        vertical-align: middle;\n",
       "    }\n",
       "\n",
       "    .dataframe tbody tr th {\n",
       "        vertical-align: top;\n",
       "    }\n",
       "\n",
       "    .dataframe thead th {\n",
       "        text-align: right;\n",
       "    }\n",
       "</style>\n",
       "<table border=\"1\" class=\"dataframe\">\n",
       "  <thead>\n",
       "    <tr style=\"text-align: right;\">\n",
       "      <th></th>\n",
       "      <th>ANTI_A</th>\n",
       "      <th>ANTI_B</th>\n",
       "      <th>V1</th>\n",
       "    </tr>\n",
       "  </thead>\n",
       "  <tbody>\n",
       "    <tr>\n",
       "      <th>count</th>\n",
       "      <td>40.000000</td>\n",
       "      <td>40.000000</td>\n",
       "      <td>40.000000</td>\n",
       "    </tr>\n",
       "    <tr>\n",
       "      <th>mean</th>\n",
       "      <td>5.116250</td>\n",
       "      <td>49.577500</td>\n",
       "      <td>37.465000</td>\n",
       "    </tr>\n",
       "    <tr>\n",
       "      <th>std</th>\n",
       "      <td>3.157834</td>\n",
       "      <td>31.436003</td>\n",
       "      <td>30.809885</td>\n",
       "    </tr>\n",
       "    <tr>\n",
       "      <th>min</th>\n",
       "      <td>0.170000</td>\n",
       "      <td>1.600000</td>\n",
       "      <td>6.000000</td>\n",
       "    </tr>\n",
       "    <tr>\n",
       "      <th>25%</th>\n",
       "      <td>2.582500</td>\n",
       "      <td>19.650000</td>\n",
       "      <td>11.275000</td>\n",
       "    </tr>\n",
       "    <tr>\n",
       "      <th>50%</th>\n",
       "      <td>5.415000</td>\n",
       "      <td>50.450000</td>\n",
       "      <td>16.150000</td>\n",
       "    </tr>\n",
       "    <tr>\n",
       "      <th>75%</th>\n",
       "      <td>7.522500</td>\n",
       "      <td>80.025000</td>\n",
       "      <td>69.275000</td>\n",
       "    </tr>\n",
       "    <tr>\n",
       "      <th>max</th>\n",
       "      <td>9.940000</td>\n",
       "      <td>98.800000</td>\n",
       "      <td>90.700000</td>\n",
       "    </tr>\n",
       "  </tbody>\n",
       "</table>\n",
       "</div>"
      ],
      "text/plain": [
       "          ANTI_A     ANTI_B         V1\n",
       "count  40.000000  40.000000  40.000000\n",
       "mean    5.116250  49.577500  37.465000\n",
       "std     3.157834  31.436003  30.809885\n",
       "min     0.170000   1.600000   6.000000\n",
       "25%     2.582500  19.650000  11.275000\n",
       "50%     5.415000  50.450000  16.150000\n",
       "75%     7.522500  80.025000  69.275000\n",
       "max     9.940000  98.800000  90.700000"
      ]
     },
     "execution_count": 47,
     "metadata": {},
     "output_type": "execute_result"
    }
   ],
   "source": [
    "df.describe()"
   ]
  },
  {
   "cell_type": "code",
   "execution_count": 57,
   "id": "4a9d5140",
   "metadata": {},
   "outputs": [
    {
     "data": {
      "text/plain": [
       "<Axes: xlabel='ANTI_A'>"
      ]
     },
     "execution_count": 57,
     "metadata": {},
     "output_type": "execute_result"
    },
    {
     "data": {
      "image/png": "[encoded data removed]",
      "text/plain": [
       "<Figure size 1000x500 with 1 Axes>"
      ]
     },
     "metadata": {},
     "output_type": "display_data"
    }
   ],
   "source": [
    "fig, axes = plt.subplots(figsize=(10,5))\n",
    "sns.boxplot(data = df, x = df['ANTI_A'])\n",
    "sns.boxplot(data = df, x = df['ANTI_B'])"
   ]
  },
  {
   "cell_type": "code",
   "execution_count": 58,
   "metadata": {},
   "outputs": [
    {
     "data": {
      "text/plain": [
       "<Axes: xlabel='V1'>"
      ]
     },
     "execution_count": 58,
     "metadata": {},
     "output_type": "execute_result"
    },
    {
     "data": {
      "image/png": "[encoded data removed]",
      "text/plain": [
       "<Figure size 640x480 with 1 Axes>"
      ]
     },
     "metadata": {},
     "output_type": "display_data"
    }
   ],
   "source": [
    "sns.boxplot(data = df, x = df['V1'])"
   ]
  },
  {
   "cell_type": "code",
   "execution_count": 66,
   "id": "1cfa0ea9",
   "metadata": {},
   "outputs": [
    {
     "name": "stdout",
     "output_type": "stream",
     "text": [
      "[0.2661207778915046, 0.984646878198567, 0.9334698055271238, 0.3316274309109519, 0.9887410440122826, 0.5721596724667349, 0.26202661207778916, 0.0, 0.7502558853633573, 0.004094165813715454, 0.05015353121801433, 0.27328556806550663, 0.7911975435005119, 0.1873080859774821, 0.5015353121801434, 0.20163766632548621, 1.0, 0.7205731832139202, 0.4339815762538383, 0.8730808597748209, 0.2947799385875128, 0.9385875127942682, 0.7359263050153532, 0.7799385875127943, 0.41658137154554764, 0.04708290685772774, 0.12896622313203684, 0.1299897645854657, 0.7338792221084954, 0.16069600818833163, 0.609007164790174, 0.759467758444217, 0.7308085977482088, 0.7164790174002047, 0.28863868986693964, 0.27328556806550663, 0.0511770726714432, 0.8648925281473899, 0.7441146366427841, 0.7205731832139202]\n"
     ]
    }
   ],
   "source": [
    "def minMax_normalization(df, normalized_list,col_name:str):\n",
    "    max_ = max(df[col_name])\n",
    "    min_ = min(df[col_name])\n",
    "    diff = max_-min_\n",
    "    for entry in df[col_name]:\n",
    "        normalized_list.append((entry-min_)/(diff))\n",
    "\n",
    "\n",
    "normalized_a = []\n",
    "minMax_normalization(df,normalized_a,col_name='ANTI_A')\n",
    "print(normalized_a)\n",
    "\n",
    "\n"
   ]
  },
  {
   "cell_type": "code",
   "execution_count": 67,
   "id": "7d5d17aa",
   "metadata": {},
   "outputs": [],
   "source": [
    "normalized_b = []\n",
    "minMax_normalization(df,normalized_b, col_name='ANTI_B')"
   ]
  },
  {
   "cell_type": "code",
   "execution_count": 75,
   "id": "943ca29b",
   "metadata": {},
   "outputs": [
    {
     "data": {
      "text/plain": [
       "Text(0.5, 0, 'Anti_B')"
      ]
     },
     "execution_count": 75,
     "metadata": {},
     "output_type": "execute_result"
    },
    {
     "data": {
      "image/png": "[encoded data removed]",
      "text/plain": [
       "<Figure size 1000x500 with 2 Axes>"
      ]
     },
     "metadata": {},
     "output_type": "display_data"
    }
   ],
   "source": [
    "fig,axes = plt.subplots(1,2,figsize=(10,5))\n",
    "axes[0].hist(normalized_a)\n",
    "axes[1].hist(normalized_b)\n",
    "\n",
    "axes[0].set_xlabel('Anti_A')\n",
    "axes[1].set_xlabel('Anti_B')"
   ]
  },
  {
   "cell_type": "code",
   "execution_count": null,
   "id": "1813c95f",
   "metadata": {},
   "outputs": [],
   "source": []
  }
 ],
 "metadata": {
  "kernelspec": {
   "display_name": "Python 3 (ipykernel)",
   "language": "python",
   "name": "python3"
  },
  "language_info": {
   "codemirror_mode": {
    "name": "ipython",
    "version": 3
   },
   "file_extension": ".py",
   "mimetype": "text/x-python",
   "name": "python",
   "nbconvert_exporter": "python",
   "pygments_lexer": "ipython3",
   "version": "3.12.1"
  }
 },
 "nbformat": 4,
 "nbformat_minor": 5
}
