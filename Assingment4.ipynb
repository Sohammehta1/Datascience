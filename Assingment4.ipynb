{
 "cells": [
  {
   "cell_type": "code",
   "execution_count": 1,
   "id": "716cd548",
   "metadata": {},
   "outputs": [],
   "source": [
    "import numpy as np \n",
    "import pandas as pd \n",
    "import matplotlib.pyplot as plt \n",
    "import seaborn as sns "
   ]
  },
  {
   "cell_type": "code",
   "execution_count": 2,
   "id": "0924ef5a",
   "metadata": {},
   "outputs": [
    {
     "name": "stdout",
     "output_type": "stream",
     "text": [
      "     survived  pclass     sex   age  sibsp  parch     fare embarked   class   \n",
      "0           0       3    male  22.0      1      0   7.2500        S   Third  \\\n",
      "1           1       1  female  38.0      1      0  71.2833        C   First   \n",
      "2           1       3  female  26.0      0      0   7.9250        S   Third   \n",
      "3           1       1  female  35.0      1      0  53.1000        S   First   \n",
      "4           0       3    male  35.0      0      0   8.0500        S   Third   \n",
      "..        ...     ...     ...   ...    ...    ...      ...      ...     ...   \n",
      "886         0       2    male  27.0      0      0  13.0000        S  Second   \n",
      "887         1       1  female  19.0      0      0  30.0000        S   First   \n",
      "888         0       3  female   NaN      1      2  23.4500        S   Third   \n",
      "889         1       1    male  26.0      0      0  30.0000        C   First   \n",
      "890         0       3    male  32.0      0      0   7.7500        Q   Third   \n",
      "\n",
      "       who  adult_male deck  embark_town alive  alone  \n",
      "0      man        True  NaN  Southampton    no  False  \n",
      "1    woman       False    C    Cherbourg   yes  False  \n",
      "2    woman       False  NaN  Southampton   yes   True  \n",
      "3    woman       False    C  Southampton   yes  False  \n",
      "4      man        True  NaN  Southampton    no   True  \n",
      "..     ...         ...  ...          ...   ...    ...  \n",
      "886    man        True  NaN  Southampton    no   True  \n",
      "887  woman       False    B  Southampton   yes   True  \n",
      "888  woman       False  NaN  Southampton    no  False  \n",
      "889    man        True    C    Cherbourg   yes   True  \n",
      "890    man        True  NaN   Queenstown    no   True  \n",
      "\n",
      "[891 rows x 15 columns]\n"
     ]
    }
   ],
   "source": [
    "df = sns.load_dataset('titanic')\n",
    "print(df)"
   ]
  },
  {
   "cell_type": "code",
   "execution_count": 3,
   "id": "394defd4",
   "metadata": {},
   "outputs": [
    {
     "data": {
      "text/html": [
       "<div>\n",
       "<style scoped>\n",
       "    .dataframe tbody tr th:only-of-type {\n",
       "        vertical-align: middle;\n",
       "    }\n",
       "\n",
       "    .dataframe tbody tr th {\n",
       "        vertical-align: top;\n",
       "    }\n",
       "\n",
       "    .dataframe thead tr th {\n",
       "        text-align: left;\n",
       "    }\n",
       "\n",
       "    .dataframe thead tr:last-of-type th {\n",
       "        text-align: right;\n",
       "    }\n",
       "</style>\n",
       "<table border=\"1\" class=\"dataframe\">\n",
       "  <thead>\n",
       "    <tr>\n",
       "      <th></th>\n",
       "      <th colspan=\"8\" halign=\"left\">survived</th>\n",
       "      <th colspan=\"8\" halign=\"left\">fare</th>\n",
       "    </tr>\n",
       "    <tr>\n",
       "      <th></th>\n",
       "      <th>count</th>\n",
       "      <th>mean</th>\n",
       "      <th>std</th>\n",
       "      <th>min</th>\n",
       "      <th>25%</th>\n",
       "      <th>50%</th>\n",
       "      <th>75%</th>\n",
       "      <th>max</th>\n",
       "      <th>count</th>\n",
       "      <th>mean</th>\n",
       "      <th>std</th>\n",
       "      <th>min</th>\n",
       "      <th>25%</th>\n",
       "      <th>50%</th>\n",
       "      <th>75%</th>\n",
       "      <th>max</th>\n",
       "    </tr>\n",
       "    <tr>\n",
       "      <th>pclass</th>\n",
       "      <th></th>\n",
       "      <th></th>\n",
       "      <th></th>\n",
       "      <th></th>\n",
       "      <th></th>\n",
       "      <th></th>\n",
       "      <th></th>\n",
       "      <th></th>\n",
       "      <th></th>\n",
       "      <th></th>\n",
       "      <th></th>\n",
       "      <th></th>\n",
       "      <th></th>\n",
       "      <th></th>\n",
       "      <th></th>\n",
       "      <th></th>\n",
       "    </tr>\n",
       "  </thead>\n",
       "  <tbody>\n",
       "    <tr>\n",
       "      <th>1</th>\n",
       "      <td>216.0</td>\n",
       "      <td>0.629630</td>\n",
       "      <td>0.484026</td>\n",
       "      <td>0.0</td>\n",
       "      <td>0.0</td>\n",
       "      <td>1.0</td>\n",
       "      <td>1.0</td>\n",
       "      <td>1.0</td>\n",
       "      <td>216.0</td>\n",
       "      <td>84.154687</td>\n",
       "      <td>78.380373</td>\n",
       "      <td>0.0</td>\n",
       "      <td>30.92395</td>\n",
       "      <td>60.2875</td>\n",
       "      <td>93.5</td>\n",
       "      <td>512.3292</td>\n",
       "    </tr>\n",
       "    <tr>\n",
       "      <th>2</th>\n",
       "      <td>184.0</td>\n",
       "      <td>0.472826</td>\n",
       "      <td>0.500623</td>\n",
       "      <td>0.0</td>\n",
       "      <td>0.0</td>\n",
       "      <td>0.0</td>\n",
       "      <td>1.0</td>\n",
       "      <td>1.0</td>\n",
       "      <td>184.0</td>\n",
       "      <td>20.662183</td>\n",
       "      <td>13.417399</td>\n",
       "      <td>0.0</td>\n",
       "      <td>13.00000</td>\n",
       "      <td>14.2500</td>\n",
       "      <td>26.0</td>\n",
       "      <td>73.5000</td>\n",
       "    </tr>\n",
       "    <tr>\n",
       "      <th>3</th>\n",
       "      <td>491.0</td>\n",
       "      <td>0.242363</td>\n",
       "      <td>0.428949</td>\n",
       "      <td>0.0</td>\n",
       "      <td>0.0</td>\n",
       "      <td>0.0</td>\n",
       "      <td>0.0</td>\n",
       "      <td>1.0</td>\n",
       "      <td>491.0</td>\n",
       "      <td>13.675550</td>\n",
       "      <td>11.778142</td>\n",
       "      <td>0.0</td>\n",
       "      <td>7.75000</td>\n",
       "      <td>8.0500</td>\n",
       "      <td>15.5</td>\n",
       "      <td>69.5500</td>\n",
       "    </tr>\n",
       "  </tbody>\n",
       "</table>\n",
       "</div>"
      ],
      "text/plain": [
       "       survived                                                fare   \n",
       "          count      mean       std  min  25%  50%  75%  max  count   \n",
       "pclass                                                                \n",
       "1         216.0  0.629630  0.484026  0.0  0.0  1.0  1.0  1.0  216.0  \\\n",
       "2         184.0  0.472826  0.500623  0.0  0.0  0.0  1.0  1.0  184.0   \n",
       "3         491.0  0.242363  0.428949  0.0  0.0  0.0  0.0  1.0  491.0   \n",
       "\n",
       "                                                                      \n",
       "             mean        std  min       25%      50%   75%       max  \n",
       "pclass                                                                \n",
       "1       84.154687  78.380373  0.0  30.92395  60.2875  93.5  512.3292  \n",
       "2       20.662183  13.417399  0.0  13.00000  14.2500  26.0   73.5000  \n",
       "3       13.675550  11.778142  0.0   7.75000   8.0500  15.5   69.5500  "
      ]
     },
     "execution_count": 3,
     "metadata": {},
     "output_type": "execute_result"
    }
   ],
   "source": [
    "df[['survived','pclass','fare']].groupby('pclass').describe()"
   ]
  },
  {
   "cell_type": "code",
   "execution_count": 5,
   "id": "b356ec4c-8369-4720-98ce-398fd7906c3c",
   "metadata": {},
   "outputs": [],
   "source": [
    "col_rem = ['survived', 'embarked', 'embark_town','who', 'sibsp','parch', 'deck', 'fare']\n",
    "filtered_df = df.drop(columns=col_rem)"
   ]
  },
  {
   "cell_type": "code",
   "execution_count": 6,
   "id": "57e17da7-6037-49de-b576-5d387fd8da45",
   "metadata": {},
   "outputs": [
    {
     "data": {
      "text/html": [
       "<div>\n",
       "<style scoped>\n",
       "    .dataframe tbody tr th:only-of-type {\n",
       "        vertical-align: middle;\n",
       "    }\n",
       "\n",
       "    .dataframe tbody tr th {\n",
       "        vertical-align: top;\n",
       "    }\n",
       "\n",
       "    .dataframe thead th {\n",
       "        text-align: right;\n",
       "    }\n",
       "</style>\n",
       "<table border=\"1\" class=\"dataframe\">\n",
       "  <thead>\n",
       "    <tr style=\"text-align: right;\">\n",
       "      <th></th>\n",
       "      <th>pclass</th>\n",
       "      <th>sex</th>\n",
       "      <th>age</th>\n",
       "      <th>class</th>\n",
       "      <th>adult_male</th>\n",
       "      <th>alive</th>\n",
       "      <th>alone</th>\n",
       "    </tr>\n",
       "  </thead>\n",
       "  <tbody>\n",
       "    <tr>\n",
       "      <th>0</th>\n",
       "      <td>3</td>\n",
       "      <td>male</td>\n",
       "      <td>22.0</td>\n",
       "      <td>Third</td>\n",
       "      <td>True</td>\n",
       "      <td>no</td>\n",
       "      <td>False</td>\n",
       "    </tr>\n",
       "    <tr>\n",
       "      <th>1</th>\n",
       "      <td>1</td>\n",
       "      <td>female</td>\n",
       "      <td>38.0</td>\n",
       "      <td>First</td>\n",
       "      <td>False</td>\n",
       "      <td>yes</td>\n",
       "      <td>False</td>\n",
       "    </tr>\n",
       "    <tr>\n",
       "      <th>2</th>\n",
       "      <td>3</td>\n",
       "      <td>female</td>\n",
       "      <td>26.0</td>\n",
       "      <td>Third</td>\n",
       "      <td>False</td>\n",
       "      <td>yes</td>\n",
       "      <td>True</td>\n",
       "    </tr>\n",
       "    <tr>\n",
       "      <th>3</th>\n",
       "      <td>1</td>\n",
       "      <td>female</td>\n",
       "      <td>35.0</td>\n",
       "      <td>First</td>\n",
       "      <td>False</td>\n",
       "      <td>yes</td>\n",
       "      <td>False</td>\n",
       "    </tr>\n",
       "    <tr>\n",
       "      <th>4</th>\n",
       "      <td>3</td>\n",
       "      <td>male</td>\n",
       "      <td>35.0</td>\n",
       "      <td>Third</td>\n",
       "      <td>True</td>\n",
       "      <td>no</td>\n",
       "      <td>True</td>\n",
       "    </tr>\n",
       "    <tr>\n",
       "      <th>...</th>\n",
       "      <td>...</td>\n",
       "      <td>...</td>\n",
       "      <td>...</td>\n",
       "      <td>...</td>\n",
       "      <td>...</td>\n",
       "      <td>...</td>\n",
       "      <td>...</td>\n",
       "    </tr>\n",
       "    <tr>\n",
       "      <th>886</th>\n",
       "      <td>2</td>\n",
       "      <td>male</td>\n",
       "      <td>27.0</td>\n",
       "      <td>Second</td>\n",
       "      <td>True</td>\n",
       "      <td>no</td>\n",
       "      <td>True</td>\n",
       "    </tr>\n",
       "    <tr>\n",
       "      <th>887</th>\n",
       "      <td>1</td>\n",
       "      <td>female</td>\n",
       "      <td>19.0</td>\n",
       "      <td>First</td>\n",
       "      <td>False</td>\n",
       "      <td>yes</td>\n",
       "      <td>True</td>\n",
       "    </tr>\n",
       "    <tr>\n",
       "      <th>888</th>\n",
       "      <td>3</td>\n",
       "      <td>female</td>\n",
       "      <td>NaN</td>\n",
       "      <td>Third</td>\n",
       "      <td>False</td>\n",
       "      <td>no</td>\n",
       "      <td>False</td>\n",
       "    </tr>\n",
       "    <tr>\n",
       "      <th>889</th>\n",
       "      <td>1</td>\n",
       "      <td>male</td>\n",
       "      <td>26.0</td>\n",
       "      <td>First</td>\n",
       "      <td>True</td>\n",
       "      <td>yes</td>\n",
       "      <td>True</td>\n",
       "    </tr>\n",
       "    <tr>\n",
       "      <th>890</th>\n",
       "      <td>3</td>\n",
       "      <td>male</td>\n",
       "      <td>32.0</td>\n",
       "      <td>Third</td>\n",
       "      <td>True</td>\n",
       "      <td>no</td>\n",
       "      <td>True</td>\n",
       "    </tr>\n",
       "  </tbody>\n",
       "</table>\n",
       "<p>891 rows × 7 columns</p>\n",
       "</div>"
      ],
      "text/plain": [
       "     pclass     sex   age   class  adult_male alive  alone\n",
       "0         3    male  22.0   Third        True    no  False\n",
       "1         1  female  38.0   First       False   yes  False\n",
       "2         3  female  26.0   Third       False   yes   True\n",
       "3         1  female  35.0   First       False   yes  False\n",
       "4         3    male  35.0   Third        True    no   True\n",
       "..      ...     ...   ...     ...         ...   ...    ...\n",
       "886       2    male  27.0  Second        True    no   True\n",
       "887       1  female  19.0   First       False   yes   True\n",
       "888       3  female   NaN   Third       False    no  False\n",
       "889       1    male  26.0   First        True   yes   True\n",
       "890       3    male  32.0   Third        True    no   True\n",
       "\n",
       "[891 rows x 7 columns]"
      ]
     },
     "execution_count": 6,
     "metadata": {},
     "output_type": "execute_result"
    }
   ],
   "source": [
    "filtered_df # dataframe without irrelevant values"
   ]
  },
  {
   "cell_type": "code",
   "execution_count": 7,
   "id": "d3127022-c2ab-4a8d-90f4-86bf0e44fd9e",
   "metadata": {},
   "outputs": [],
   "source": [
    "dropped_df = filtered_df.dropna() # rows will unknown ages removed."
   ]
  },
  {
   "cell_type": "code",
   "execution_count": 8,
   "id": "8ebcdb03-a87b-4eb2-abc4-1a6aa4abe566",
   "metadata": {},
   "outputs": [
    {
     "name": "stdout",
     "output_type": "stream",
     "text": [
      "     pclass     sex   age   class  adult_male alive  alone\n",
      "0         3    male  22.0   Third        True    no  False\n",
      "1         1  female  38.0   First       False   yes  False\n",
      "2         3  female  26.0   Third       False   yes   True\n",
      "3         1  female  35.0   First       False   yes  False\n",
      "4         3    male  35.0   Third        True    no   True\n",
      "..      ...     ...   ...     ...         ...   ...    ...\n",
      "885       3  female  39.0   Third       False    no  False\n",
      "886       2    male  27.0  Second        True    no   True\n",
      "887       1  female  19.0   First       False   yes   True\n",
      "889       1    male  26.0   First        True   yes   True\n",
      "890       3    male  32.0   Third        True    no   True\n",
      "\n",
      "[714 rows x 7 columns]\n"
     ]
    }
   ],
   "source": [
    "print(dropped_df)"
   ]
  },
  {
   "cell_type": "code",
   "execution_count": 9,
   "id": "83ff35c9-8103-4cb9-bb7c-cdc1b0bf5450",
   "metadata": {},
   "outputs": [
    {
     "data": {
      "text/html": [
       "<div>\n",
       "<style scoped>\n",
       "    .dataframe tbody tr th:only-of-type {\n",
       "        vertical-align: middle;\n",
       "    }\n",
       "\n",
       "    .dataframe tbody tr th {\n",
       "        vertical-align: top;\n",
       "    }\n",
       "\n",
       "    .dataframe thead th {\n",
       "        text-align: right;\n",
       "    }\n",
       "</style>\n",
       "<table border=\"1\" class=\"dataframe\">\n",
       "  <thead>\n",
       "    <tr style=\"text-align: right;\">\n",
       "      <th></th>\n",
       "      <th>pclass</th>\n",
       "      <th>sex</th>\n",
       "      <th>age</th>\n",
       "      <th>class</th>\n",
       "      <th>adult_male</th>\n",
       "      <th>alive</th>\n",
       "      <th>alone</th>\n",
       "    </tr>\n",
       "  </thead>\n",
       "  <tbody>\n",
       "    <tr>\n",
       "      <th>890</th>\n",
       "      <td>3</td>\n",
       "      <td>male</td>\n",
       "      <td>32.0</td>\n",
       "      <td>Third</td>\n",
       "      <td>True</td>\n",
       "      <td>no</td>\n",
       "      <td>True</td>\n",
       "    </tr>\n",
       "  </tbody>\n",
       "</table>\n",
       "</div>"
      ],
      "text/plain": [
       "     pclass   sex   age  class  adult_male alive  alone\n",
       "890       3  male  32.0  Third        True    no   True"
      ]
     },
     "execution_count": 9,
     "metadata": {},
     "output_type": "execute_result"
    }
   ],
   "source": [
    "dropped_df.iloc[[713]]"
   ]
  },
  {
   "cell_type": "code",
   "execution_count": 10,
   "id": "053db9e2-dce5-4bd6-80f6-8ab42d9db2da",
   "metadata": {
    "scrolled": true
   },
   "outputs": [
    {
     "name": "stderr",
     "output_type": "stream",
     "text": [
      "/tmp/ipykernel_3732/976792217.py:1: SettingWithCopyWarning: \n",
      "A value is trying to be set on a copy of a slice from a DataFrame.\n",
      "Try using .loc[row_indexer,col_indexer] = value instead\n",
      "\n",
      "See the caveats in the documentation: https://pandas.pydata.org/pandas-docs/stable/user_guide/indexing.html#returning-a-view-versus-a-copy\n",
      "  dropped_df['alive'] = dropped_df['alive'].astype('category')\n",
      "/tmp/ipykernel_3732/976792217.py:2: SettingWithCopyWarning: \n",
      "A value is trying to be set on a copy of a slice from a DataFrame.\n",
      "Try using .loc[row_indexer,col_indexer] = value instead\n",
      "\n",
      "See the caveats in the documentation: https://pandas.pydata.org/pandas-docs/stable/user_guide/indexing.html#returning-a-view-versus-a-copy\n",
      "  dropped_df['alive'] = dropped_df['alive'].cat.codes\n"
     ]
    }
   ],
   "source": [
    "dropped_df['alive'] = dropped_df['alive'].astype('category')\n",
    "dropped_df['alive'] = dropped_df['alive'].cat.codes"
   ]
  },
  {
   "cell_type": "code",
   "execution_count": 11,
   "id": "98cadf1a-e39e-474f-86a6-a2a6dd378733",
   "metadata": {},
   "outputs": [
    {
     "data": {
      "text/html": [
       "<div>\n",
       "<style scoped>\n",
       "    .dataframe tbody tr th:only-of-type {\n",
       "        vertical-align: middle;\n",
       "    }\n",
       "\n",
       "    .dataframe tbody tr th {\n",
       "        vertical-align: top;\n",
       "    }\n",
       "\n",
       "    .dataframe thead th {\n",
       "        text-align: right;\n",
       "    }\n",
       "</style>\n",
       "<table border=\"1\" class=\"dataframe\">\n",
       "  <thead>\n",
       "    <tr style=\"text-align: right;\">\n",
       "      <th></th>\n",
       "      <th>pclass</th>\n",
       "      <th>sex</th>\n",
       "      <th>age</th>\n",
       "      <th>class</th>\n",
       "      <th>adult_male</th>\n",
       "      <th>alive</th>\n",
       "      <th>alone</th>\n",
       "    </tr>\n",
       "  </thead>\n",
       "  <tbody>\n",
       "    <tr>\n",
       "      <th>0</th>\n",
       "      <td>3</td>\n",
       "      <td>male</td>\n",
       "      <td>22.0</td>\n",
       "      <td>Third</td>\n",
       "      <td>True</td>\n",
       "      <td>0</td>\n",
       "      <td>False</td>\n",
       "    </tr>\n",
       "    <tr>\n",
       "      <th>1</th>\n",
       "      <td>1</td>\n",
       "      <td>female</td>\n",
       "      <td>38.0</td>\n",
       "      <td>First</td>\n",
       "      <td>False</td>\n",
       "      <td>1</td>\n",
       "      <td>False</td>\n",
       "    </tr>\n",
       "    <tr>\n",
       "      <th>2</th>\n",
       "      <td>3</td>\n",
       "      <td>female</td>\n",
       "      <td>26.0</td>\n",
       "      <td>Third</td>\n",
       "      <td>False</td>\n",
       "      <td>1</td>\n",
       "      <td>True</td>\n",
       "    </tr>\n",
       "    <tr>\n",
       "      <th>3</th>\n",
       "      <td>1</td>\n",
       "      <td>female</td>\n",
       "      <td>35.0</td>\n",
       "      <td>First</td>\n",
       "      <td>False</td>\n",
       "      <td>1</td>\n",
       "      <td>False</td>\n",
       "    </tr>\n",
       "    <tr>\n",
       "      <th>4</th>\n",
       "      <td>3</td>\n",
       "      <td>male</td>\n",
       "      <td>35.0</td>\n",
       "      <td>Third</td>\n",
       "      <td>True</td>\n",
       "      <td>0</td>\n",
       "      <td>True</td>\n",
       "    </tr>\n",
       "    <tr>\n",
       "      <th>...</th>\n",
       "      <td>...</td>\n",
       "      <td>...</td>\n",
       "      <td>...</td>\n",
       "      <td>...</td>\n",
       "      <td>...</td>\n",
       "      <td>...</td>\n",
       "      <td>...</td>\n",
       "    </tr>\n",
       "    <tr>\n",
       "      <th>885</th>\n",
       "      <td>3</td>\n",
       "      <td>female</td>\n",
       "      <td>39.0</td>\n",
       "      <td>Third</td>\n",
       "      <td>False</td>\n",
       "      <td>0</td>\n",
       "      <td>False</td>\n",
       "    </tr>\n",
       "    <tr>\n",
       "      <th>886</th>\n",
       "      <td>2</td>\n",
       "      <td>male</td>\n",
       "      <td>27.0</td>\n",
       "      <td>Second</td>\n",
       "      <td>True</td>\n",
       "      <td>0</td>\n",
       "      <td>True</td>\n",
       "    </tr>\n",
       "    <tr>\n",
       "      <th>887</th>\n",
       "      <td>1</td>\n",
       "      <td>female</td>\n",
       "      <td>19.0</td>\n",
       "      <td>First</td>\n",
       "      <td>False</td>\n",
       "      <td>1</td>\n",
       "      <td>True</td>\n",
       "    </tr>\n",
       "    <tr>\n",
       "      <th>889</th>\n",
       "      <td>1</td>\n",
       "      <td>male</td>\n",
       "      <td>26.0</td>\n",
       "      <td>First</td>\n",
       "      <td>True</td>\n",
       "      <td>1</td>\n",
       "      <td>True</td>\n",
       "    </tr>\n",
       "    <tr>\n",
       "      <th>890</th>\n",
       "      <td>3</td>\n",
       "      <td>male</td>\n",
       "      <td>32.0</td>\n",
       "      <td>Third</td>\n",
       "      <td>True</td>\n",
       "      <td>0</td>\n",
       "      <td>True</td>\n",
       "    </tr>\n",
       "  </tbody>\n",
       "</table>\n",
       "<p>714 rows × 7 columns</p>\n",
       "</div>"
      ],
      "text/plain": [
       "     pclass     sex   age   class  adult_male  alive  alone\n",
       "0         3    male  22.0   Third        True      0  False\n",
       "1         1  female  38.0   First       False      1  False\n",
       "2         3  female  26.0   Third       False      1   True\n",
       "3         1  female  35.0   First       False      1  False\n",
       "4         3    male  35.0   Third        True      0   True\n",
       "..      ...     ...   ...     ...         ...    ...    ...\n",
       "885       3  female  39.0   Third       False      0  False\n",
       "886       2    male  27.0  Second        True      0   True\n",
       "887       1  female  19.0   First       False      1   True\n",
       "889       1    male  26.0   First        True      1   True\n",
       "890       3    male  32.0   Third        True      0   True\n",
       "\n",
       "[714 rows x 7 columns]"
      ]
     },
     "execution_count": 11,
     "metadata": {},
     "output_type": "execute_result"
    }
   ],
   "source": [
    "dropped_df"
   ]
  },
  {
   "cell_type": "code",
   "execution_count": 12,
   "id": "fc8e299e-4b2f-4401-9ba6-7b1f7acbf0ba",
   "metadata": {},
   "outputs": [
    {
     "data": {
      "image/png": "[encoded data removed]",
      "text/plain": [
       "<Figure size 800x600 with 1 Axes>"
      ]
     },
     "metadata": {},
     "output_type": "display_data"
    }
   ],
   "source": [
    "plt.figure(figsize=(8, 6))\n",
    "sns.countplot(x='pclass', hue='alive', data=df)\n",
    "plt.title('Survival Count by http://127.0.0.1:8888/?token=4b5db8c6a95df803c839a9e69adde8965e16549061d0a8e6Pclass')\n",
    "plt.xlabel('Pclass')\n",
    "plt.ylabel('Count')\n",
    "plt.show()\n"
   ]
  },
  {
   "cell_type": "code",
   "execution_count": 13,
   "id": "73e61395-1eeb-4c51-bb98-86b9fbabfc4a",
   "metadata": {},
   "outputs": [
    {
     "data": {
      "image/png": "[encoded data removed]",
      "text/plain": [
       "<Figure size 1000x600 with 1 Axes>"
      ]
     },
     "metadata": {},
     "output_type": "display_data"
    }
   ],
   "source": [
    "\n",
    "\n",
    "# Assuming df is your DataFrame\n",
    "plt.figure(figsize=(10, 6))\n",
    "sns.countplot(x='alive', hue='pclass', data=dropped_df)\n",
    "plt.title('Survival Count by Pclass')\n",
    "plt.xlabel('Survival')\n",
    "plt.ylabel('Count')\n",
    "plt.show()\n"
   ]
  },
  {
   "cell_type": "markdown",
   "id": "6f30e919-9c80-45a6-82a8-fc6282608fd2",
   "metadata": {},
   "source": [
    "## From the above bar plot it is clear that the survival count of the first class passengers is the maximum and it is minimum for third class people. The count of alive and dead is almost same for 2nd class. It can be said that the priority was given to the first class people."
   ]
  },
  {
   "cell_type": "code",
   "execution_count": 14,
   "id": "efb795be-9f52-44e8-a933-68a8d989a514",
   "metadata": {},
   "outputs": [
    {
     "name": "stderr",
     "output_type": "stream",
     "text": [
      "/tmp/ipykernel_3732/3186331729.py:1: SettingWithCopyWarning: \n",
      "A value is trying to be set on a copy of a slice from a DataFrame\n",
      "\n",
      "See the caveats in the documentation: https://pandas.pydata.org/pandas-docs/stable/user_guide/indexing.html#returning-a-view-versus-a-copy\n",
      "  dropped_df.drop(columns=['class'],inplace =True)\n"
     ]
    }
   ],
   "source": [
    "dropped_df.drop(columns=['class'],inplace =True)"
   ]
  },
  {
   "cell_type": "code",
   "execution_count": 15,
   "id": "7845ecb8-3d0a-45b9-9ed8-7872cfe810f7",
   "metadata": {},
   "outputs": [
    {
     "data": {
      "text/html": [
       "<div>\n",
       "<style scoped>\n",
       "    .dataframe tbody tr th:only-of-type {\n",
       "        vertical-align: middle;\n",
       "    }\n",
       "\n",
       "    .dataframe tbody tr th {\n",
       "        vertical-align: top;\n",
       "    }\n",
       "\n",
       "    .dataframe thead th {\n",
       "        text-align: right;\n",
       "    }\n",
       "</style>\n",
       "<table border=\"1\" class=\"dataframe\">\n",
       "  <thead>\n",
       "    <tr style=\"text-align: right;\">\n",
       "      <th></th>\n",
       "      <th>pclass</th>\n",
       "      <th>sex</th>\n",
       "      <th>age</th>\n",
       "      <th>adult_male</th>\n",
       "      <th>alive</th>\n",
       "      <th>alone</th>\n",
       "    </tr>\n",
       "  </thead>\n",
       "  <tbody>\n",
       "    <tr>\n",
       "      <th>0</th>\n",
       "      <td>3</td>\n",
       "      <td>male</td>\n",
       "      <td>22.0</td>\n",
       "      <td>True</td>\n",
       "      <td>0</td>\n",
       "      <td>False</td>\n",
       "    </tr>\n",
       "    <tr>\n",
       "      <th>1</th>\n",
       "      <td>1</td>\n",
       "      <td>female</td>\n",
       "      <td>38.0</td>\n",
       "      <td>False</td>\n",
       "      <td>1</td>\n",
       "      <td>False</td>\n",
       "    </tr>\n",
       "    <tr>\n",
       "      <th>2</th>\n",
       "      <td>3</td>\n",
       "      <td>female</td>\n",
       "      <td>26.0</td>\n",
       "      <td>False</td>\n",
       "      <td>1</td>\n",
       "      <td>True</td>\n",
       "    </tr>\n",
       "    <tr>\n",
       "      <th>3</th>\n",
       "      <td>1</td>\n",
       "      <td>female</td>\n",
       "      <td>35.0</td>\n",
       "      <td>False</td>\n",
       "      <td>1</td>\n",
       "      <td>False</td>\n",
       "    </tr>\n",
       "    <tr>\n",
       "      <th>4</th>\n",
       "      <td>3</td>\n",
       "      <td>male</td>\n",
       "      <td>35.0</td>\n",
       "      <td>True</td>\n",
       "      <td>0</td>\n",
       "      <td>True</td>\n",
       "    </tr>\n",
       "    <tr>\n",
       "      <th>...</th>\n",
       "      <td>...</td>\n",
       "      <td>...</td>\n",
       "      <td>...</td>\n",
       "      <td>...</td>\n",
       "      <td>...</td>\n",
       "      <td>...</td>\n",
       "    </tr>\n",
       "    <tr>\n",
       "      <th>885</th>\n",
       "      <td>3</td>\n",
       "      <td>female</td>\n",
       "      <td>39.0</td>\n",
       "      <td>False</td>\n",
       "      <td>0</td>\n",
       "      <td>False</td>\n",
       "    </tr>\n",
       "    <tr>\n",
       "      <th>886</th>\n",
       "      <td>2</td>\n",
       "      <td>male</td>\n",
       "      <td>27.0</td>\n",
       "      <td>True</td>\n",
       "      <td>0</td>\n",
       "      <td>True</td>\n",
       "    </tr>\n",
       "    <tr>\n",
       "      <th>887</th>\n",
       "      <td>1</td>\n",
       "      <td>female</td>\n",
       "      <td>19.0</td>\n",
       "      <td>False</td>\n",
       "      <td>1</td>\n",
       "      <td>True</td>\n",
       "    </tr>\n",
       "    <tr>\n",
       "      <th>889</th>\n",
       "      <td>1</td>\n",
       "      <td>male</td>\n",
       "      <td>26.0</td>\n",
       "      <td>True</td>\n",
       "      <td>1</td>\n",
       "      <td>True</td>\n",
       "    </tr>\n",
       "    <tr>\n",
       "      <th>890</th>\n",
       "      <td>3</td>\n",
       "      <td>male</td>\n",
       "      <td>32.0</td>\n",
       "      <td>True</td>\n",
       "      <td>0</td>\n",
       "      <td>True</td>\n",
       "    </tr>\n",
       "  </tbody>\n",
       "</table>\n",
       "<p>714 rows × 6 columns</p>\n",
       "</div>"
      ],
      "text/plain": [
       "     pclass     sex   age  adult_male  alive  alone\n",
       "0         3    male  22.0        True      0  False\n",
       "1         1  female  38.0       False      1  False\n",
       "2         3  female  26.0       False      1   True\n",
       "3         1  female  35.0       False      1  False\n",
       "4         3    male  35.0        True      0   True\n",
       "..      ...     ...   ...         ...    ...    ...\n",
       "885       3  female  39.0       False      0  False\n",
       "886       2    male  27.0        True      0   True\n",
       "887       1  female  19.0       False      1   True\n",
       "889       1    male  26.0        True      1   True\n",
       "890       3    male  32.0        True      0   True\n",
       "\n",
       "[714 rows x 6 columns]"
      ]
     },
     "execution_count": 15,
     "metadata": {},
     "output_type": "execute_result"
    }
   ],
   "source": [
    "dropped_df"
   ]
  },
  {
   "cell_type": "code",
   "execution_count": 26,
   "id": "89df71db-7dfb-4129-a9ce-ee7f31d16378",
   "metadata": {},
   "outputs": [
    {
     "data": {
      "image/png": "[encoded data removed]",
      "text/plain": [
       "<Figure size 1000x600 with 1 Axes>"
      ]
     },
     "metadata": {},
     "output_type": "display_data"
    }
   ],
   "source": [
    "\n",
    "\n",
    "# Assuming df is your DataFrame\n",
    "plt.figure(figsize=(10, 6))\n",
    "sns.scatterplot(x='age',y='alive', data=dropped_df)\n",
    "plt.title('Survival Count by age')\n",
    "plt.xlabel('age')\n",
    "plt.ylabel('alive?')\n",
    "plt.show()\n"
   ]
  },
  {
   "cell_type": "code",
   "execution_count": 19,
   "id": "91202e35-e8b2-4b66-a29c-f6ffd1b90639",
   "metadata": {},
   "outputs": [
    {
     "name": "stdout",
     "output_type": "stream",
     "text": [
      "Age Group 10: Total - 64, Alive - 38\n",
      "Age Group 20: Total - 115, Alive - 44\n",
      "Age Group 30: Total - 229, Alive - 84\n",
      "Age Group 40: Total - 153, Alive - 69\n",
      "Age Group 50: Total - 84, Alive - 33\n",
      "Age Group 60: Total - 42, Alive - 17\n",
      "Age Group 70: Total - 17, Alive - 4\n",
      "Age Group 80: Total - 4, Alive - 1\n",
      "Age Group 90: Total - 0, Alive - 0\n"
     ]
    }
   ],
   "source": [
    "# Assuming age_survival is a dictionary with age groups as keys\n",
    "age_survival = {10: {'total': 0, 'alive': 0},\n",
    "                20: {'total': 0, 'alive': 0},\n",
    "                30: {'total': 0, 'alive': 0},\n",
    "                40: {'total': 0, 'alive': 0},\n",
    "                50: {'total': 0, 'alive': 0},\n",
    "                60: {'total': 0, 'alive': 0},\n",
    "                70: {'total': 0, 'alive': 0},\n",
    "                80: {'total': 0, 'alive': 0},\n",
    "                90: {'total': 0, 'alive': 0}}\n",
    "\n",
    "# Assuming dropped_df is your DataFrame\n",
    "for index, row in dropped_df[['alive', 'age']].iterrows():\n",
    "    alive_value = row['alive']\n",
    "    age_value = row['age']\n",
    "\n",
    "    if 0 <= age_value <= 10 :\n",
    "        age_survival[10]['total'] += 1\n",
    "        if alive_value == 1:\n",
    "            age_survival[10]['alive'] += 1\n",
    "    elif 11 <= age_value <= 20 :\n",
    "        age_survival[20]['total'] += 1\n",
    "        if alive_value == 1:\n",
    "            age_survival[20]['alive'] += 1\n",
    "    elif 21 <= age_value <= 30 :\n",
    "        age_survival[30]['total'] += 1\n",
    "        if alive_value == 1:\n",
    "            age_survival[30]['alive'] += 1\n",
    "    elif 31 <= age_value <= 40:\n",
    "        age_survival[40]['total'] += 1\n",
    "        if alive_value == 1:\n",
    "            age_survival[40]['alive'] += 1\n",
    "    elif 41 <= age_value <= 50:\n",
    "        age_survival[50]['total'] += 1\n",
    "        if alive_value == 1:\n",
    "            age_survival[50]['alive'] += 1\n",
    "    elif 51 <= age_value <= 60 :\n",
    "        age_survival[60]['total'] += 1\n",
    "        if alive_value == 1:\n",
    "            age_survival[60]['alive'] += 1\n",
    "    elif 61 <= age_value <= 70 :\n",
    "        age_survival[70]['total'] += 1\n",
    "        if alive_value == 1:\n",
    "            age_survival[70]['alive'] += 1\n",
    "    elif 71 <= age_value <= 80 :\n",
    "        age_survival[80]['total'] += 1\n",
    "        if alive_value == 1:\n",
    "            age_survival[80]['alive'] += 1\n",
    "    elif 81 <= age_value :\n",
    "        age_survival[90]['total'] += 1\n",
    "        if alive_value == 1:\n",
    "            age_survival[90]['alive'] += 1\n",
    "\n",
    "# Print the results\n",
    "for age_group, values in age_survival.items():\n",
    "    print(f\"Age Group {age_group}: Total - {values['total']}, Alive - {values['alive']}\")\n"
   ]
  },
  {
   "cell_type": "code",
   "execution_count": 20,
   "id": "c16e4a9b-3619-4b82-b1e9-506d7ef954cd",
   "metadata": {},
   "outputs": [
    {
     "name": "stdout",
     "output_type": "stream",
     "text": [
      "Survival rate of age group10 = 59.375\n",
      "Survival rate of age group20 = 38.26086956521739\n",
      "Survival rate of age group30 = 36.681222707423586\n",
      "Survival rate of age group40 = 45.09803921568628\n",
      "Survival rate of age group50 = 39.285714285714285\n",
      "Survival rate of age group60 = 40.476190476190474\n",
      "Survival rate of age group70 = 23.52941176470588\n",
      "Survival rate of age group80 = 25.0\n"
     ]
    }
   ],
   "source": [
    "for keys in age_survival.keys():\n",
    "    total = age_survival[keys]['total']\n",
    "    alive = age_survival[keys]['alive']\n",
    "    if total != 0: \n",
    "        print(f'Survival rate of age group{keys} = {(alive/total)*100}')"
   ]
  },
  {
   "cell_type": "markdown",
   "id": "a942cbee-ee37-4a9c-952e-973c64f4fe22",
   "metadata": {},
   "source": [
    "## From the above it can be seen that survival rate of the age group 0-10 is maximum followed by 40"
   ]
  },
  {
   "cell_type": "code",
   "execution_count": 21,
   "id": "de24d6a2-f785-4589-a2a5-8fffdb0522d1",
   "metadata": {},
   "outputs": [
    {
     "name": "stdout",
     "output_type": "stream",
     "text": [
      "Survival rate of men = 20.52980132450331\n",
      "Survival rate of women = 75.47892720306514\n"
     ]
    }
   ],
   "source": [
    "male_survival = dropped_df[(dropped_df['sex'] == 'male') & (dropped_df['alive'] == 1)].shape[0]\n",
    "male_total =  dropped_df[(dropped_df['sex'] == 'male')].shape[0]\n",
    "female_total =  dropped_df[(dropped_df['sex'] == 'female')].shape[0]\n",
    "female_survival =  dropped_df[(dropped_df['sex'] == 'female') & (dropped_df['alive'] == 1)].shape[0]\n",
    "'alive'\n",
    "print(f'Survival rate of men = {(male_survival/male_total)*100}')\n",
    "print(f'Survival rate of women = {(female_survival/female_total)*100}')"
   ]
  },
  {
   "cell_type": "markdown",
   "id": "e6b26db4-e87e-40b4-baa9-949ad1d36e66",
   "metadata": {},
   "source": [
    "## Women and children were given priority ahead of men but, only 60% of the children survived the mishap, whereas it was 75% for  women."
   ]
  },
  {
   "cell_type": "code",
   "execution_count": 25,
   "id": "d2602659",
   "metadata": {},
   "outputs": [
    {
     "data": {
      "image/png": "[encoded data removed]",
      "text/plain": [
       "<Figure size 1000x300 with 1 Axes>"
      ]
     },
     "metadata": {},
     "output_type": "display_data"
    }
   ],
   "source": [
    "plt.figure(figsize=(10,3))\n",
    "sns.boxplot(x=dropped_df['sex'], y =np.values dropped_df['age'], hue = dropped_df['alive'])\n",
    "plt.title('Survival along with Age distribution classified by gender')\n",
    "plt.xlabel('Gender')\n",
    "plt.ylabel('Age')\n",
    "plt.show()"
   ]
  },
  {
   "cell_type": "markdown",
   "id": "f09bfd3c",
   "metadata": {},
   "source": [
    "From the above box plot we can note that, in both women and  men comparitively younger ones survived."
   ]
  },
  {
   "cell_type": "code",
   "execution_count": null,
   "metadata": {},
   "outputs": [
    {
     "data": {
      "text/plain": [
       "<matplotlib.axes._subplots.AxesSubplot at 0x7f8e601bc220>"
      ]
     },
     "execution_count": 31,
     "metadata": {},
     "output_type": "execute_result"
    },
    {
     "data": {
      "image/png": "[encoded data removed]",
      "text/plain": [
       "<Figure size 640x480 with 1 Axes>"
      ]
     },
     "metadata": {},
     "output_type": "display_data"
    }
   ],
   "source": [
    "# sns.histplot(data=dropped_df['fare'])\n",
    "fare_distro = df.drop(columns=['survived', 'embarked', 'embark_town','who', 'sibsp','parch', 'deck',])\n",
    "\n",
    "sns.histplot(data=fare_distro, x='age',y = 'fare')\n"
   ]
  },
  {
   "cell_type": "markdown",
   "id": "0cf60e48",
   "metadata": {},
   "source": [
    "It can be clearly observed that maximum passengers  have paid tickets pricing between 0 -100. The age group around 18 - 32 seems to be the group having maximum number of people having paid the minimum fare price."
   ]
  },
  {
   "cell_type": "code",
   "execution_count": null,
   "id": "597e798a",
   "metadata": {},
   "outputs": [],
   "source": []
  }
 ],
 "metadata": {
  "kernelspec": {
   "display_name": "Python 3 (ipykernel)",
   "language": "python",
   "name": "python3"
  },
  "language_info": {
   "codemirror_mode": {
    "name": "ipython",
    "version": 3
   },
   "file_extension": ".py",
   "mimetype": "text/x-python",
   "name": "python",
   "nbconvert_exporter": "python",
   "pygments_lexer": "ipython3",
   "version": "3.8.10"
  }
 },
 "nbformat": 4,
 "nbformat_minor": 5
}
